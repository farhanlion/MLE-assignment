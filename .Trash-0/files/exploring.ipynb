{
 "cells": [
  {
   "cell_type": "code",
   "execution_count": 90,
   "id": "8d831641-1d1f-4569-9d04-a3d7b320491f",
   "metadata": {},
   "outputs": [],
   "source": [
    "import os\n",
    "import glob\n",
    "import pandas as pd\n",
    "import matplotlib.pyplot as plt\n",
    "import numpy as np\n",
    "import random\n",
    "from datetime import datetime, timedelta\n",
    "from dateutil.relativedelta import relativedelta\n",
    "import pprint\n",
    "import pyspark\n",
    "import pyspark.sql.functions as F\n",
    "\n",
    "from pyspark.sql.functions import col\n",
    "from pyspark.sql.types import StringType, IntegerType, FloatType, DateType\n",
    "\n",
    "import utils.data_processing_bronze_table\n",
    "import utils.data_processing_silver_table\n",
    "import utils.data_processing_gold_table\n"
   ]
  },
  {
   "cell_type": "code",
   "execution_count": 91,
   "id": "ad4e7012-f875-4877-b8de-0e81ee15b02b",
   "metadata": {},
   "outputs": [],
   "source": [
    "# Initialize SparkSession\n",
    "spark = pyspark.sql.SparkSession.builder \\\n",
    "    .appName(\"dev\") \\\n",
    "    .master(\"local[*]\") \\\n",
    "    .getOrCreate()\n",
    "\n",
    "# Set log level to ERROR to hide warnings\n",
    "spark.sparkContext.setLogLevel(\"ERROR\")"
   ]
  },
  {
   "cell_type": "code",
   "execution_count": 92,
   "id": "88ba9a26-3f5b-4085-9523-d5a923412586",
   "metadata": {},
   "outputs": [],
   "source": [
    "# create bronze datalake\n",
    "bronze_lms_directory = \"datamart/bronze/lms/\"\n",
    "\n",
    "if not os.path.exists(bronze_lms_directory):\n",
    "    os.makedirs(bronze_lms_directory)"
   ]
  },
  {
   "cell_type": "code",
   "execution_count": 145,
   "id": "657dc448-d553-4377-a377-d634b10dfc70",
   "metadata": {},
   "outputs": [
    {
     "name": "stdout",
     "output_type": "stream",
     "text": [
      "✅ LMS Loan Daily Data:\n",
      "+---------------------+-----------+---------------+------+---------------+--------+-------+--------+-----------+-------+-------------+\n",
      "|loan_id              |Customer_ID|loan_start_date|tenure|installment_num|loan_amt|due_amt|paid_amt|overdue_amt|balance|snapshot_date|\n",
      "+---------------------+-----------+---------------+------+---------------+--------+-------+--------+-----------+-------+-------------+\n",
      "|CUS_0x1000_2023_05_01|CUS_0x1000 |2023-05-01     |10    |0              |10000   |0.0    |0.0     |0.0        |10000.0|2023-05-01   |\n",
      "|CUS_0x1000_2023_05_01|CUS_0x1000 |2023-05-01     |10    |1              |10000   |1000.0 |1000.0  |0.0        |9000.0 |2023-06-01   |\n",
      "|CUS_0x1000_2023_05_01|CUS_0x1000 |2023-05-01     |10    |2              |10000   |1000.0 |1000.0  |0.0        |8000.0 |2023-07-01   |\n",
      "|CUS_0x1000_2023_05_01|CUS_0x1000 |2023-05-01     |10    |3              |10000   |1000.0 |0.0     |1000.0     |8000.0 |2023-08-01   |\n",
      "|CUS_0x1000_2023_05_01|CUS_0x1000 |2023-05-01     |10    |4              |10000   |1000.0 |2000.0  |0.0        |6000.0 |2023-09-01   |\n",
      "+---------------------+-----------+---------------+------+---------------+--------+-------+--------+-----------+-------+-------------+\n",
      "only showing top 5 rows\n",
      "\n",
      "root\n",
      " |-- loan_id: string (nullable = true)\n",
      " |-- Customer_ID: string (nullable = true)\n",
      " |-- loan_start_date: date (nullable = true)\n",
      " |-- tenure: integer (nullable = true)\n",
      " |-- installment_num: integer (nullable = true)\n",
      " |-- loan_amt: integer (nullable = true)\n",
      " |-- due_amt: double (nullable = true)\n",
      " |-- paid_amt: double (nullable = true)\n",
      " |-- overdue_amt: double (nullable = true)\n",
      " |-- balance: double (nullable = true)\n",
      " |-- snapshot_date: date (nullable = true)\n",
      "\n",
      "\n",
      "✅ Customer Attributes Data:\n",
      "+-----------+--------------+---+-----------+-------------+-------------+\n",
      "|Customer_ID|Name          |Age|SSN        |Occupation   |snapshot_date|\n",
      "+-----------+--------------+---+-----------+-------------+-------------+\n",
      "|CUS_0x1000 |Alistair Barrf|18 |913-74-1218|Lawyer       |2023-05-01   |\n",
      "|CUS_0x1009 |Arunah        |26 |063-67-6938|Mechanic     |2025-01-01   |\n",
      "|CUS_0x100b |Shirboni      |19 |#F%$D@*&8  |Media_Manager|2024-03-01   |\n",
      "|CUS_0x1011 |Schneyerh     |44 |793-05-8223|Doctor       |2023-11-01   |\n",
      "|CUS_0x1013 |Cameront      |44 |930-49-9615|Mechanic     |2023-12-01   |\n",
      "+-----------+--------------+---+-----------+-------------+-------------+\n",
      "only showing top 5 rows\n",
      "\n",
      "root\n",
      " |-- Customer_ID: string (nullable = true)\n",
      " |-- Name: string (nullable = true)\n",
      " |-- Age: string (nullable = true)\n",
      " |-- SSN: string (nullable = true)\n",
      " |-- Occupation: string (nullable = true)\n",
      " |-- snapshot_date: date (nullable = true)\n",
      "\n",
      "\n",
      "✅ Financial Features Data:\n",
      "+-----------+------------------+---------------------+-----------------+---------------+-------------+-----------+---------------------------------------------------------------------+-------------------+----------------------+--------------------+--------------------+----------+----------------+------------------------+----------------------+---------------------+-------------------+-----------------------+--------------------------------+------------------+-------------+\n",
      "|Customer_ID|Annual_Income     |Monthly_Inhand_Salary|Num_Bank_Accounts|Num_Credit_Card|Interest_Rate|Num_of_Loan|Type_of_Loan                                                         |Delay_from_due_date|Num_of_Delayed_Payment|Changed_Credit_Limit|Num_Credit_Inquiries|Credit_Mix|Outstanding_Debt|Credit_Utilization_Ratio|Credit_History_Age    |Payment_of_Min_Amount|Total_EMI_per_month|Amount_invested_monthly|Payment_Behaviour               |Monthly_Balance   |snapshot_date|\n",
      "+-----------+------------------+---------------------+-----------------+---------------+-------------+-----------+---------------------------------------------------------------------+-------------------+----------------------+--------------------+--------------------+----------+----------------+------------------------+----------------------+---------------------+-------------------+-----------------------+--------------------------------+------------------+-------------+\n",
      "|CUS_0x1000 |30625.94          |2706.1616666666664   |6                |5              |27           |2          |Credit-Builder Loan, and Home Equity Loan                            |57                 |26                    |1.63                |11.0                |Bad       |1562.91         |30.07719135017377       |10 Years and 9 Months |Yes                  |42.941090422469365 |77.31427572208112      |High_spent_Medium_value_payments|400.36080052211616|2023-05-01   |\n",
      "|CUS_0x1009 |52312.68_         |4250.39              |6                |5              |17           |4          |Not Specified, Home Equity Loan, Credit-Builder Loan, and Payday Loan|5                  |18                    |9.73                |4.0                 |_         |202.68          |40.286996673783         |31 Years and 0 Months |Yes                  |108.36646712525564 |58.66019164829086      |High_spent_Medium_value_payments|508.01234122645366|2025-01-01   |\n",
      "|CUS_0x100b |113781.38999999998|9549.7825            |1                |4              |1            |0          |NULL                                                                 |14                 |8                     |8.34                |4.0                 |Good      |1030.2          |28.59294254083936       |15 Years and 10 Months|No                   |0.0                |617.0792665202719      |High_spent_Small_value_payments |597.8989834797281 |2024-03-01   |\n",
      "|CUS_0x1011 |58918.47          |5208.8725            |3                |3              |17           |3          |Student Loan, Credit-Builder Loan, and Debt Consolidation Loan       |27                 |13                    |14.42               |7.0                 |Standard  |473.14          |27.82995907548726       |15 Years and 10 Months|Yes                  |123.43493879634316 |383.35084463651407     |Low_spent_Medium_value_payments |294.1014665671429 |2023-11-01   |\n",
      "|CUS_0x1013 |98620.98          |7962.415000000001    |3                |3              |6            |3          |Student Loan, Debt Consolidation Loan, and Personal Loan             |12                 |9                     |1.33                |3.0                 |Good      |1233.51         |26.52486357896023       |17 Years and 10 Months|No                   |228.018083652734   |332.3337079767732      |High_spent_Medium_value_payments|485.8897083704929 |2023-12-01   |\n",
      "+-----------+------------------+---------------------+-----------------+---------------+-------------+-----------+---------------------------------------------------------------------+-------------------+----------------------+--------------------+--------------------+----------+----------------+------------------------+----------------------+---------------------+-------------------+-----------------------+--------------------------------+------------------+-------------+\n",
      "only showing top 5 rows\n",
      "\n",
      "root\n",
      " |-- Customer_ID: string (nullable = true)\n",
      " |-- Annual_Income: string (nullable = true)\n",
      " |-- Monthly_Inhand_Salary: double (nullable = true)\n",
      " |-- Num_Bank_Accounts: integer (nullable = true)\n",
      " |-- Num_Credit_Card: integer (nullable = true)\n",
      " |-- Interest_Rate: integer (nullable = true)\n",
      " |-- Num_of_Loan: string (nullable = true)\n",
      " |-- Type_of_Loan: string (nullable = true)\n",
      " |-- Delay_from_due_date: integer (nullable = true)\n",
      " |-- Num_of_Delayed_Payment: string (nullable = true)\n",
      " |-- Changed_Credit_Limit: string (nullable = true)\n",
      " |-- Num_Credit_Inquiries: double (nullable = true)\n",
      " |-- Credit_Mix: string (nullable = true)\n",
      " |-- Outstanding_Debt: string (nullable = true)\n",
      " |-- Credit_Utilization_Ratio: double (nullable = true)\n",
      " |-- Credit_History_Age: string (nullable = true)\n",
      " |-- Payment_of_Min_Amount: string (nullable = true)\n",
      " |-- Total_EMI_per_month: double (nullable = true)\n",
      " |-- Amount_invested_monthly: string (nullable = true)\n",
      " |-- Payment_Behaviour: string (nullable = true)\n",
      " |-- Monthly_Balance: string (nullable = true)\n",
      " |-- snapshot_date: date (nullable = true)\n",
      "\n",
      "\n",
      "✅ Clickstream Features Data:\n",
      "+----+----+----+----+----+----+----+----+----+-----+-----+-----+-----+-----+-----+-----+-----+-----+-----+-----+-----------+-------------+\n",
      "|fe_1|fe_2|fe_3|fe_4|fe_5|fe_6|fe_7|fe_8|fe_9|fe_10|fe_11|fe_12|fe_13|fe_14|fe_15|fe_16|fe_17|fe_18|fe_19|fe_20|Customer_ID|snapshot_date|\n",
      "+----+----+----+----+----+----+----+----+----+-----+-----+-----+-----+-----+-----+-----+-----+-----+-----+-----+-----------+-------------+\n",
      "|63  |118 |80  |121 |55  |193 |111 |112 |-101|83   |164  |105  |-16  |-81  |-126 |114  |35   |85   |-73  |76   |CUS_0x1037 |2023-01-01   |\n",
      "|-108|182 |123 |4   |-56 |27  |25  |-6  |284 |222  |203  |190  |-14  |-96  |200  |35   |130  |94   |111  |75   |CUS_0x1069 |2023-01-01   |\n",
      "|-13 |8   |87  |166 |214 |-98 |215 |152 |129 |139  |14   |203  |26   |86   |171  |125  |-130 |354  |17   |302  |CUS_0x114a |2023-01-01   |\n",
      "|-85 |45  |200 |89  |128 |54  |76  |51  |61  |139  |6    |197  |172  |96   |174  |163  |37   |207  |180  |118  |CUS_0x1184 |2023-01-01   |\n",
      "|55  |120 |226 |-86 |253 |97  |107 |68  |103 |126  |34   |12   |76   |43   |183  |159  |-26  |104  |118  |184  |CUS_0x1297 |2023-01-01   |\n",
      "+----+----+----+----+----+----+----+----+----+-----+-----+-----+-----+-----+-----+-----+-----+-----+-----+-----+-----------+-------------+\n",
      "only showing top 5 rows\n",
      "\n",
      "root\n",
      " |-- fe_1: integer (nullable = true)\n",
      " |-- fe_2: integer (nullable = true)\n",
      " |-- fe_3: integer (nullable = true)\n",
      " |-- fe_4: integer (nullable = true)\n",
      " |-- fe_5: integer (nullable = true)\n",
      " |-- fe_6: integer (nullable = true)\n",
      " |-- fe_7: integer (nullable = true)\n",
      " |-- fe_8: integer (nullable = true)\n",
      " |-- fe_9: integer (nullable = true)\n",
      " |-- fe_10: integer (nullable = true)\n",
      " |-- fe_11: integer (nullable = true)\n",
      " |-- fe_12: integer (nullable = true)\n",
      " |-- fe_13: integer (nullable = true)\n",
      " |-- fe_14: integer (nullable = true)\n",
      " |-- fe_15: integer (nullable = true)\n",
      " |-- fe_16: integer (nullable = true)\n",
      " |-- fe_17: integer (nullable = true)\n",
      " |-- fe_18: integer (nullable = true)\n",
      " |-- fe_19: integer (nullable = true)\n",
      " |-- fe_20: integer (nullable = true)\n",
      " |-- Customer_ID: string (nullable = true)\n",
      " |-- snapshot_date: date (nullable = true)\n",
      "\n",
      "\n",
      "Row Counts:\n",
      "  LMS: 137500\n",
      "  ATTR: 12500\n",
      "  FIN: 12500\n",
      "  CLICK: 215376\n",
      "\n"
     ]
    }
   ],
   "source": [
    "# ----------------------------\n",
    "# 1️⃣ Read lms_loan_daily.csv\n",
    "# ----------------------------\n",
    "lms_path = \"data/lms_loan_daily.csv\"\n",
    "df_lms = spark.read.csv(lms_path, header=True, inferSchema=True)\n",
    "print(\"✅ LMS Loan Daily Data:\")\n",
    "df_lms.show(5, truncate=False)\n",
    "df_lms.printSchema()\n",
    "\n",
    "# ----------------------------\n",
    "# 2️⃣ Read features_attributes.csv\n",
    "# ----------------------------\n",
    "attr_path = \"data/features_attributes.csv\"\n",
    "df_attr = spark.read.csv(attr_path, header=True, inferSchema=True)\n",
    "print(\"\\n✅ Customer Attributes Data:\")\n",
    "df_attr.show(5, truncate=False)\n",
    "df_attr.printSchema()\n",
    "\n",
    "# ----------------------------\n",
    "# 3️⃣ Read features_financials.csv\n",
    "# ----------------------------\n",
    "fin_path = \"data/features_financials.csv\"\n",
    "df_fin = spark.read.csv(fin_path, header=True, inferSchema=True)\n",
    "print(\"\\n✅ Financial Features Data:\")\n",
    "df_fin.show(5, truncate=False)\n",
    "df_fin.printSchema()\n",
    "\n",
    "# ----------------------------\n",
    "# 4️⃣ Read feature_clickstream.csv\n",
    "# ----------------------------\n",
    "click_path = \"data/feature_clickstream.csv\"\n",
    "df_click = spark.read.csv(click_path, header=True, inferSchema=True)\n",
    "print(\"\\n✅ Clickstream Features Data:\")\n",
    "df_click.show(5, truncate=False)\n",
    "df_click.printSchema()\n",
    "\n",
    "# ----------------------------\n",
    "# Optional: Count rows for a quick sanity check\n",
    "# ----------------------------\n",
    "print(f\"\"\"\n",
    "Row Counts:\n",
    "  LMS: {df_lms.count()}\n",
    "  ATTR: {df_attr.count()}\n",
    "  FIN: {df_fin.count()}\n",
    "  CLICK: {df_click.count()}\n",
    "\"\"\")\n",
    "\n"
   ]
  },
  {
   "cell_type": "code",
   "execution_count": 157,
   "id": "7b6d73ca-e5c0-404b-8ff3-dc2ef07249a4",
   "metadata": {},
   "outputs": [
    {
     "data": {
      "text/plain": [
       "137500"
      ]
     },
     "execution_count": 157,
     "metadata": {},
     "output_type": "execute_result"
    }
   ],
   "source": [
    "df_lms.count()"
   ]
  },
  {
   "cell_type": "code",
   "execution_count": 158,
   "id": "41720f15-2843-4443-b356-00b136d157ba",
   "metadata": {},
   "outputs": [
    {
     "name": "stdout",
     "output_type": "stream",
     "text": [
      "+-----------------+-----------------+-------------------+-------------------+\n",
      "|min_snapshot_date|max_snapshot_date|min_loan_start_date|max_loan_start_date|\n",
      "+-----------------+-----------------+-------------------+-------------------+\n",
      "|       2023-01-01|       2025-11-01|         2023-01-01|         2025-01-01|\n",
      "+-----------------+-----------------+-------------------+-------------------+\n",
      "\n"
     ]
    }
   ],
   "source": [
    "from pyspark.sql import functions as F\n",
    "\n",
    "df_lms.select(\n",
    "    F.min(\"snapshot_date\").alias(\"min_snapshot_date\"),\n",
    "    F.max(\"snapshot_date\").alias(\"max_snapshot_date\"),\n",
    "    F.min(\"loan_start_date\").alias(\"min_loan_start_date\"),\n",
    "    F.max(\"loan_start_date\").alias(\"max_loan_start_date\")\n",
    ").show()\n"
   ]
  },
  {
   "cell_type": "code",
   "execution_count": 159,
   "id": "5266c780-bf3c-42eb-a6b5-52f90ae93e43",
   "metadata": {},
   "outputs": [
    {
     "name": "stdout",
     "output_type": "stream",
     "text": [
      "+---------------------+-----------+---------------+------+---------------+--------+-------+--------+-----------+-------+-------------+\n",
      "|loan_id              |Customer_ID|loan_start_date|tenure|installment_num|loan_amt|due_amt|paid_amt|overdue_amt|balance|snapshot_date|\n",
      "+---------------------+-----------+---------------+------+---------------+--------+-------+--------+-----------+-------+-------------+\n",
      "|CUS_0x11c1_2025_01_01|CUS_0x11c1 |2025-01-01     |10    |10             |10000   |1000.0 |1000.0  |0.0        |0.0    |2025-11-01   |\n",
      "|CUS_0x8f35_2025_01_01|CUS_0x8f35 |2025-01-01     |10    |10             |10000   |1000.0 |1000.0  |0.0        |0.0    |2025-11-01   |\n",
      "|CUS_0x526a_2025_01_01|CUS_0x526a |2025-01-01     |10    |10             |10000   |1000.0 |1000.0  |0.0        |0.0    |2025-11-01   |\n",
      "|CUS_0x92c8_2025_01_01|CUS_0x92c8 |2025-01-01     |10    |10             |10000   |1000.0 |1000.0  |0.0        |0.0    |2025-11-01   |\n",
      "|CUS_0x15c5_2025_01_01|CUS_0x15c5 |2025-01-01     |10    |10             |10000   |1000.0 |1000.0  |0.0        |0.0    |2025-11-01   |\n",
      "|CUS_0x8f58_2025_01_01|CUS_0x8f58 |2025-01-01     |10    |10             |10000   |1000.0 |1000.0  |0.0        |0.0    |2025-11-01   |\n",
      "|CUS_0x54e8_2025_01_01|CUS_0x54e8 |2025-01-01     |10    |10             |10000   |1000.0 |1000.0  |0.0        |0.0    |2025-11-01   |\n",
      "|CUS_0x8eac_2025_01_01|CUS_0x8eac |2025-01-01     |10    |10             |10000   |1000.0 |0.0     |6000.0     |6000.0 |2025-11-01   |\n",
      "|CUS_0x11d9_2025_01_01|CUS_0x11d9 |2025-01-01     |10    |10             |10000   |1000.0 |1000.0  |0.0        |0.0    |2025-11-01   |\n",
      "|CUS_0x8f69_2025_01_01|CUS_0x8f69 |2025-01-01     |10    |10             |10000   |1000.0 |0.0     |9000.0     |9000.0 |2025-11-01   |\n",
      "+---------------------+-----------+---------------+------+---------------+--------+-------+--------+-----------+-------+-------------+\n",
      "only showing top 10 rows\n",
      "\n"
     ]
    }
   ],
   "source": [
    "df_lms_sorted_desc = df_lms.orderBy(F.col(\"snapshot_date\").desc())\n",
    "df_lms_sorted_desc.show(10, truncate=False)"
   ]
  },
  {
   "cell_type": "code",
   "execution_count": 160,
   "id": "350bf918-17e2-4038-aa90-33cdd1001529",
   "metadata": {},
   "outputs": [
    {
     "name": "stdout",
     "output_type": "stream",
     "text": [
      "+-------------+\n",
      "|snapshot_date|\n",
      "+-------------+\n",
      "|2023-01-01   |\n",
      "|2023-02-01   |\n",
      "|2023-03-01   |\n",
      "|2023-04-01   |\n",
      "|2023-05-01   |\n",
      "|2023-06-01   |\n",
      "|2023-07-01   |\n",
      "|2023-08-01   |\n",
      "|2023-09-01   |\n",
      "|2023-10-01   |\n",
      "|2023-11-01   |\n",
      "|2023-12-01   |\n",
      "|2024-01-01   |\n",
      "|2024-02-01   |\n",
      "|2024-03-01   |\n",
      "|2024-04-01   |\n",
      "|2024-05-01   |\n",
      "|2024-06-01   |\n",
      "|2024-07-01   |\n",
      "|2024-08-01   |\n",
      "|2024-09-01   |\n",
      "|2024-10-01   |\n",
      "|2024-11-01   |\n",
      "|2024-12-01   |\n",
      "|2025-01-01   |\n",
      "|2025-02-01   |\n",
      "|2025-03-01   |\n",
      "|2025-04-01   |\n",
      "|2025-05-01   |\n",
      "|2025-06-01   |\n",
      "|2025-07-01   |\n",
      "|2025-08-01   |\n",
      "|2025-09-01   |\n",
      "|2025-10-01   |\n",
      "|2025-11-01   |\n",
      "+-------------+\n",
      "\n"
     ]
    }
   ],
   "source": [
    "from pyspark.sql import functions as F\n",
    "\n",
    "df_lms.select(\"snapshot_date\") \\\n",
    "    .distinct() \\\n",
    "    .orderBy(\"snapshot_date\") \\\n",
    "    .show(1000, truncate=False)\n"
   ]
  },
  {
   "cell_type": "code",
   "execution_count": 161,
   "id": "728034dd-677a-4fc1-b754-b34faed9a10c",
   "metadata": {},
   "outputs": [
    {
     "data": {
      "text/plain": [
       "[datetime.date(2023, 1, 1),\n",
       " datetime.date(2023, 2, 1),\n",
       " datetime.date(2023, 3, 1),\n",
       " datetime.date(2023, 4, 1),\n",
       " datetime.date(2023, 5, 1),\n",
       " datetime.date(2023, 6, 1),\n",
       " datetime.date(2023, 7, 1),\n",
       " datetime.date(2023, 8, 1),\n",
       " datetime.date(2023, 9, 1),\n",
       " datetime.date(2023, 10, 1),\n",
       " datetime.date(2023, 11, 1),\n",
       " datetime.date(2023, 12, 1),\n",
       " datetime.date(2024, 1, 1),\n",
       " datetime.date(2024, 2, 1),\n",
       " datetime.date(2024, 3, 1),\n",
       " datetime.date(2024, 4, 1),\n",
       " datetime.date(2024, 5, 1),\n",
       " datetime.date(2024, 6, 1),\n",
       " datetime.date(2024, 7, 1),\n",
       " datetime.date(2024, 8, 1),\n",
       " datetime.date(2024, 9, 1),\n",
       " datetime.date(2024, 10, 1),\n",
       " datetime.date(2024, 11, 1),\n",
       " datetime.date(2024, 12, 1),\n",
       " datetime.date(2025, 1, 1),\n",
       " datetime.date(2025, 2, 1),\n",
       " datetime.date(2025, 3, 1),\n",
       " datetime.date(2025, 4, 1),\n",
       " datetime.date(2025, 5, 1),\n",
       " datetime.date(2025, 6, 1),\n",
       " datetime.date(2025, 7, 1),\n",
       " datetime.date(2025, 8, 1),\n",
       " datetime.date(2025, 9, 1),\n",
       " datetime.date(2025, 10, 1),\n",
       " datetime.date(2025, 11, 1)]"
      ]
     },
     "execution_count": 161,
     "metadata": {},
     "output_type": "execute_result"
    }
   ],
   "source": [
    "dates_str_lst = (\n",
    "    df_lms.select(\"snapshot_date\")\n",
    "    .distinct()\n",
    "    .orderBy(\"snapshot_date\")\n",
    "    .rdd.flatMap(lambda x: x)\n",
    "    .collect()\n",
    ")\n",
    "\n",
    "dates_str_lst"
   ]
  },
  {
   "cell_type": "code",
   "execution_count": null,
   "id": "eb92d641-0979-465a-be51-590dacae7e84",
   "metadata": {},
   "outputs": [],
   "source": []
  },
  {
   "cell_type": "code",
   "execution_count": 162,
   "id": "f90f444d-9e85-45f8-98c2-dd7454461715",
   "metadata": {},
   "outputs": [
    {
     "data": {
      "text/plain": [
       "['2023-01-01',\n",
       " '2023-02-01',\n",
       " '2023-03-01',\n",
       " '2023-04-01',\n",
       " '2023-05-01',\n",
       " '2023-06-01',\n",
       " '2023-07-01',\n",
       " '2023-08-01',\n",
       " '2023-09-01',\n",
       " '2023-10-01',\n",
       " '2023-11-01',\n",
       " '2023-12-01',\n",
       " '2024-01-01',\n",
       " '2024-02-01',\n",
       " '2024-03-01',\n",
       " '2024-04-01',\n",
       " '2024-05-01',\n",
       " '2024-06-01',\n",
       " '2024-07-01',\n",
       " '2024-08-01',\n",
       " '2024-09-01',\n",
       " '2024-10-01',\n",
       " '2024-11-01',\n",
       " '2024-12-01',\n",
       " '2025-01-01',\n",
       " '2025-02-01',\n",
       " '2025-03-01',\n",
       " '2025-04-01',\n",
       " '2025-05-01',\n",
       " '2025-06-01',\n",
       " '2025-07-01',\n",
       " '2025-08-01',\n",
       " '2025-09-01',\n",
       " '2025-10-01',\n",
       " '2025-11-01']"
      ]
     },
     "execution_count": 162,
     "metadata": {},
     "output_type": "execute_result"
    }
   ],
   "source": [
    "snapshot_dates = (\n",
    "        df_lms\n",
    "        .select(F.col(\"snapshot_date\").cast(\"string\"))\n",
    "        .distinct()\n",
    "        .orderBy(\"snapshot_date\")\n",
    "        .rdd.flatMap(lambda x: x)\n",
    "        .collect()\n",
    "    )\n",
    "snapshot_dates "
   ]
  },
  {
   "cell_type": "code",
   "execution_count": 163,
   "id": "e152a77b-61dd-4afb-9897-2be152d700d4",
   "metadata": {},
   "outputs": [
    {
     "data": {
      "text/plain": [
       "['2023-01-01',\n",
       " '2023-02-01',\n",
       " '2023-03-01',\n",
       " '2023-04-01',\n",
       " '2023-05-01',\n",
       " '2023-06-01',\n",
       " '2023-07-01',\n",
       " '2023-08-01',\n",
       " '2023-09-01',\n",
       " '2023-10-01',\n",
       " '2023-11-01',\n",
       " '2023-12-01',\n",
       " '2024-01-01',\n",
       " '2024-02-01',\n",
       " '2024-03-01',\n",
       " '2024-04-01',\n",
       " '2024-05-01',\n",
       " '2024-06-01',\n",
       " '2024-07-01',\n",
       " '2024-08-01',\n",
       " '2024-09-01',\n",
       " '2024-10-01',\n",
       " '2024-11-01',\n",
       " '2024-12-01',\n",
       " '2025-01-01']"
      ]
     },
     "execution_count": 163,
     "metadata": {},
     "output_type": "execute_result"
    }
   ],
   "source": [
    "snapshot_dates = (\n",
    "        df_attr\n",
    "        .select(F.col(\"snapshot_date\").cast(\"string\"))\n",
    "        .distinct()\n",
    "        .orderBy(\"snapshot_date\")\n",
    "        .rdd.flatMap(lambda x: x)\n",
    "        .collect()\n",
    "    )\n",
    "snapshot_dates "
   ]
  },
  {
   "cell_type": "code",
   "execution_count": 164,
   "id": "b3d936f8-ce0c-4673-a097-6109620d22e0",
   "metadata": {},
   "outputs": [
    {
     "name": "stdout",
     "output_type": "stream",
     "text": [
      "+-----------+-----------------+---+-----------+------------+-------------+\n",
      "|Customer_ID|Name             |Age|SSN        |Occupation  |snapshot_date|\n",
      "+-----------+-----------------+---+-----------+------------+-------------+\n",
      "|CUS_0x10aa |Carey Gillama    |20 |101-00-4424|Musician    |2023-02-01   |\n",
      "|CUS_0x113e |Ransdell Piersono|45 |542-14-0249|Manager     |2023-02-01   |\n",
      "|CUS_0x1140 |Jennifer Sabal   |31 |141-17-2233|Accountant  |2023-02-01   |\n",
      "|CUS_0x1155 |Wohld            |41 |189-76-0870|Developer   |2023-02-01   |\n",
      "|CUS_0x1252 |Irene Preisingera|28 |938-09-5300|Entrepreneur|2023-02-01   |\n",
      "|CUS_0x129b |N.w              |24 |#F%$D@*&8  |Entrepreneur|2023-02-01   |\n",
      "|CUS_0x12a6 |Natem            |25 |191-09-1571|Manager     |2023-02-01   |\n",
      "|CUS_0x135c |Brownc           |41 |594-39-3524|_______     |2023-02-01   |\n",
      "|CUS_0x1452 |Sarah Whited     |41 |976-05-6851|Architect   |2023-02-01   |\n",
      "|CUS_0x14d5 |Kirstinz         |37 |476-48-0347|Engineer    |2023-02-01   |\n",
      "+-----------+-----------------+---+-----------+------------+-------------+\n",
      "only showing top 10 rows\n",
      "\n"
     ]
    }
   ],
   "source": [
    "df_attr_202302 = df_attr.filter(F.col(\"snapshot_date\") == \"2023-02-01\")\n",
    "df_attr_202302.show(10, truncate=False)"
   ]
  },
  {
   "cell_type": "code",
   "execution_count": 165,
   "id": "5bf4bbbd-d934-4356-b8b4-3832767b504c",
   "metadata": {},
   "outputs": [
    {
     "name": "stdout",
     "output_type": "stream",
     "text": [
      "+-----------+-----------------+---+-----------+-------------+-------------+\n",
      "|Customer_ID|             Name|Age|        SSN|   Occupation|snapshot_date|\n",
      "+-----------+-----------------+---+-----------+-------------+-------------+\n",
      "| CUS_0x1000|   Alistair Barrf| 18|913-74-1218|       Lawyer|   2023-05-01|\n",
      "| CUS_0x1009|           Arunah| 26|063-67-6938|     Mechanic|   2025-01-01|\n",
      "| CUS_0x100b|         Shirboni| 19|  #F%$D@*&8|Media_Manager|   2024-03-01|\n",
      "| CUS_0x1011|        Schneyerh| 44|793-05-8223|       Doctor|   2023-11-01|\n",
      "| CUS_0x1013|         Cameront| 44|930-49-9615|     Mechanic|   2023-12-01|\n",
      "| CUS_0x1015|          Holtono| 27|810-97-7024|   Journalist|   2023-08-01|\n",
      "| CUS_0x1018|      Felsenthalq| 15|731-19-8119|   Accountant|   2023-11-01|\n",
      "| CUS_0x1026|          Josephv| 52|500-62-9044|      Manager|   2023-10-01|\n",
      "| CUS_0x102d| Neil Chatterjeex| 31|692-71-7552| Entrepreneur|   2024-01-01|\n",
      "| CUS_0x102e|            Rhysn| 26|  #F%$D@*&8|    Scientist|   2024-04-01|\n",
      "| CUS_0x1032|           Wahbap|40_|620-58-8045|       Lawyer|   2023-08-01|\n",
      "| CUS_0x1037|         Matthewm| 45|230-22-9583|   Accountant|   2023-01-01|\n",
      "| CUS_0x1038|              B.h| 28|355-00-7832|    Architect|   2024-10-01|\n",
      "| CUS_0x103e|       Tim Kellyf| 40|155-72-8070|    Scientist|   2024-12-01|\n",
      "| CUS_0x1041|Jonathan Stempela| 15|675-80-2033|      Teacher|   2023-11-01|\n",
      "| CUS_0x1044|    Maki Shirakip| 44|  #F%$D@*&8|      _______|   2023-06-01|\n",
      "| CUS_0x1048|   Janet McGurtyg| 27|808-81-2470|   Accountant|   2024-02-01|\n",
      "| CUS_0x104a|            Leahk| 37|  #F%$D@*&8|     Mechanic|   2023-12-01|\n",
      "| CUS_0x104e|         Kentaros| 50|837-93-5062|      Teacher|   2023-06-01|\n",
      "| CUS_0x104f|            Markm| 20|264-84-8069|      _______|   2024-10-01|\n",
      "+-----------+-----------------+---+-----------+-------------+-------------+\n",
      "only showing top 20 rows\n",
      "\n"
     ]
    }
   ],
   "source": [
    "df_attr.show()"
   ]
  },
  {
   "cell_type": "code",
   "execution_count": 166,
   "id": "297a4873-03a7-4a06-9d34-cb6c0ec6d309",
   "metadata": {},
   "outputs": [
    {
     "data": {
      "text/plain": [
       "703"
      ]
     },
     "execution_count": 166,
     "metadata": {},
     "output_type": "execute_result"
    }
   ],
   "source": [
    "df_attr.filter(F.col(\"SSN\") == \"#F%$D@*&8\").count()"
   ]
  },
  {
   "cell_type": "code",
   "execution_count": 167,
   "id": "6b0b3721-6b8b-4419-a88b-b852ade80eb5",
   "metadata": {},
   "outputs": [],
   "source": [
    "df_attr = df_attr.withColumn(\n",
    "    \"SSN\",\n",
    "    F.when(F.col(\"SSN\") == \"#F%$D@*&8\", \"000-00-0000\")\n",
    "     .otherwise(F.col(\"SSN\"))\n",
    ")"
   ]
  },
  {
   "cell_type": "code",
   "execution_count": 168,
   "id": "2c67fc27-80f5-4014-9e35-bde33ca3e5ad",
   "metadata": {},
   "outputs": [
    {
     "name": "stdout",
     "output_type": "stream",
     "text": [
      "+-----------+-----------------+---+-----------+-------------+-------------+\n",
      "|Customer_ID|             Name|Age|        SSN|   Occupation|snapshot_date|\n",
      "+-----------+-----------------+---+-----------+-------------+-------------+\n",
      "| CUS_0x1000|   Alistair Barrf| 18|913-74-1218|       Lawyer|   2023-05-01|\n",
      "| CUS_0x1009|           Arunah| 26|063-67-6938|     Mechanic|   2025-01-01|\n",
      "| CUS_0x100b|         Shirboni| 19|000-00-0000|Media_Manager|   2024-03-01|\n",
      "| CUS_0x1011|        Schneyerh| 44|793-05-8223|       Doctor|   2023-11-01|\n",
      "| CUS_0x1013|         Cameront| 44|930-49-9615|     Mechanic|   2023-12-01|\n",
      "| CUS_0x1015|          Holtono| 27|810-97-7024|   Journalist|   2023-08-01|\n",
      "| CUS_0x1018|      Felsenthalq| 15|731-19-8119|   Accountant|   2023-11-01|\n",
      "| CUS_0x1026|          Josephv| 52|500-62-9044|      Manager|   2023-10-01|\n",
      "| CUS_0x102d| Neil Chatterjeex| 31|692-71-7552| Entrepreneur|   2024-01-01|\n",
      "| CUS_0x102e|            Rhysn| 26|000-00-0000|    Scientist|   2024-04-01|\n",
      "| CUS_0x1032|           Wahbap|40_|620-58-8045|       Lawyer|   2023-08-01|\n",
      "| CUS_0x1037|         Matthewm| 45|230-22-9583|   Accountant|   2023-01-01|\n",
      "| CUS_0x1038|              B.h| 28|355-00-7832|    Architect|   2024-10-01|\n",
      "| CUS_0x103e|       Tim Kellyf| 40|155-72-8070|    Scientist|   2024-12-01|\n",
      "| CUS_0x1041|Jonathan Stempela| 15|675-80-2033|      Teacher|   2023-11-01|\n",
      "| CUS_0x1044|    Maki Shirakip| 44|000-00-0000|      _______|   2023-06-01|\n",
      "| CUS_0x1048|   Janet McGurtyg| 27|808-81-2470|   Accountant|   2024-02-01|\n",
      "| CUS_0x104a|            Leahk| 37|000-00-0000|     Mechanic|   2023-12-01|\n",
      "| CUS_0x104e|         Kentaros| 50|837-93-5062|      Teacher|   2023-06-01|\n",
      "| CUS_0x104f|            Markm| 20|264-84-8069|      _______|   2024-10-01|\n",
      "+-----------+-----------------+---+-----------+-------------+-------------+\n",
      "only showing top 20 rows\n",
      "\n"
     ]
    }
   ],
   "source": [
    "df_attr.show()"
   ]
  },
  {
   "cell_type": "code",
   "execution_count": 169,
   "id": "4b08d2f4-03d6-4e97-a47a-fddfb8d7ed94",
   "metadata": {},
   "outputs": [
    {
     "name": "stdout",
     "output_type": "stream",
     "text": [
      "+-------------+\n",
      "|Occupation   |\n",
      "+-------------+\n",
      "|Accountant   |\n",
      "|Architect    |\n",
      "|Developer    |\n",
      "|Doctor       |\n",
      "|Engineer     |\n",
      "|Entrepreneur |\n",
      "|Journalist   |\n",
      "|Lawyer       |\n",
      "|Manager      |\n",
      "|Mechanic     |\n",
      "|Media_Manager|\n",
      "|Musician     |\n",
      "|Scientist    |\n",
      "|Teacher      |\n",
      "|Writer       |\n",
      "|_______      |\n",
      "+-------------+\n",
      "\n"
     ]
    }
   ],
   "source": [
    "df_attr.select(\"Occupation\") \\\n",
    "    .distinct() \\\n",
    "    .orderBy(\"Occupation\") \\\n",
    "    .show(100, truncate=False)\n"
   ]
  },
  {
   "cell_type": "code",
   "execution_count": 170,
   "id": "d5ca0299-78eb-4865-9479-200df5c9b2ec",
   "metadata": {},
   "outputs": [
    {
     "data": {
      "text/plain": [
       "880"
      ]
     },
     "execution_count": 170,
     "metadata": {},
     "output_type": "execute_result"
    }
   ],
   "source": [
    "df_attr.filter(F.col(\"Occupation\") == \"_______\").count()\n"
   ]
  },
  {
   "cell_type": "code",
   "execution_count": 171,
   "id": "57e58f59-1976-48a6-9ee7-e922b60cce38",
   "metadata": {},
   "outputs": [],
   "source": [
    "df_attr = df_attr.withColumn(\n",
    "    \"Occupation\",\n",
    "    F.when(F.col(\"Occupation\") == \"_______\", \"Unemployed\")\n",
    "     .otherwise(F.col(\"Occupation\"))\n",
    ")"
   ]
  },
  {
   "cell_type": "code",
   "execution_count": 172,
   "id": "b32499e7-66f2-4206-b231-7919e772eabe",
   "metadata": {},
   "outputs": [
    {
     "name": "stdout",
     "output_type": "stream",
     "text": [
      "+-------------+\n",
      "|Occupation   |\n",
      "+-------------+\n",
      "|Accountant   |\n",
      "|Architect    |\n",
      "|Developer    |\n",
      "|Doctor       |\n",
      "|Engineer     |\n",
      "|Entrepreneur |\n",
      "|Journalist   |\n",
      "|Lawyer       |\n",
      "|Manager      |\n",
      "|Mechanic     |\n",
      "|Media_Manager|\n",
      "|Musician     |\n",
      "|Scientist    |\n",
      "|Teacher      |\n",
      "|Unemployed   |\n",
      "|Writer       |\n",
      "+-------------+\n",
      "\n"
     ]
    }
   ],
   "source": [
    "df_attr.select(\"Occupation\") \\\n",
    "    .distinct() \\\n",
    "    .orderBy(\"Occupation\") \\\n",
    "    .show(100, truncate=False)\n"
   ]
  },
  {
   "cell_type": "code",
   "execution_count": 173,
   "id": "237a2101-55f3-4178-a95c-6ebffc1f8d19",
   "metadata": {},
   "outputs": [
    {
     "name": "stdout",
     "output_type": "stream",
     "text": [
      "root\n",
      " |-- Customer_ID: string (nullable = true)\n",
      " |-- Name: string (nullable = true)\n",
      " |-- Age: string (nullable = true)\n",
      " |-- SSN: string (nullable = true)\n",
      " |-- Occupation: string (nullable = true)\n",
      " |-- snapshot_date: date (nullable = true)\n",
      "\n"
     ]
    }
   ],
   "source": [
    "df_attr.printSchema()\n"
   ]
  },
  {
   "cell_type": "code",
   "execution_count": 174,
   "id": "85f94722-15b8-43a7-b530-84973d041bc4",
   "metadata": {},
   "outputs": [],
   "source": [
    "column_type_map = {\n",
    "    \"Customer_ID\": StringType(),\n",
    "    \"Name\": StringType(),\n",
    "    \"Age\": IntegerType(),\n",
    "    \"SSN\": StringType(),\n",
    "    \"Occupation\": StringType(),\n",
    "    \"snapshot_date\": DateType(),\n",
    "}"
   ]
  },
  {
   "cell_type": "code",
   "execution_count": 175,
   "id": "4ce0a71b-31ff-4b36-82a1-3dfb962a8653",
   "metadata": {},
   "outputs": [
    {
     "name": "stdout",
     "output_type": "stream",
     "text": [
      "+-----------+----------------------+-----+\n",
      "|Customer_ID|Name                  |Age  |\n",
      "+-----------+----------------------+-----+\n",
      "|CUS_0x1032 |Wahbap                |40_  |\n",
      "|CUS_0x1057 |David Sheppardv       |46_  |\n",
      "|CUS_0x10e7 |Carewj                |3843_|\n",
      "|CUS_0x10ee |Hudsonb               |30_  |\n",
      "|CUS_0x111c |Deepaa                |24_  |\n",
      "|CUS_0x1135 |Baertleinc            |22_  |\n",
      "|CUS_0x1139 |Copleyp               |32_  |\n",
      "|CUS_0x11ac |Liana B.v             |26_  |\n",
      "|CUS_0x1204 |Lashg                 |46_  |\n",
      "|CUS_0x1288 |Taylorq               |34_  |\n",
      "|CUS_0x13a8 |Baileyz               |41_  |\n",
      "|CUS_0x13c2 |Menonv                |40_  |\n",
      "|CUS_0x13e4 |Edward Krudyl         |1248_|\n",
      "|CUS_0x1430 |Chiango               |30_  |\n",
      "|CUS_0x14a3 |Prustyx               |-500 |\n",
      "|CUS_0x14f4 |Richardc              |23_  |\n",
      "|CUS_0x14f5 |Richard Leongd        |41_  |\n",
      "|CUS_0x157d |Thompsonf             |24_  |\n",
      "|CUS_0x1600 |Megan Daviesb         |30_  |\n",
      "|CUS_0x1604 |Sam Forgioneb         |43_  |\n",
      "|CUS_0x163c |Julien Toyera         |32_  |\n",
      "|CUS_0x1647 |Caroline Valetkevitchb|19_  |\n",
      "|CUS_0x16a6 |Schnurrz              |26_  |\n",
      "|CUS_0x16f5 |Annj                  |53_  |\n",
      "|CUS_0x17d7 |Polansekz             |41_  |\n",
      "|CUS_0x1821 |Piersonm              |18_  |\n",
      "|CUS_0x183d |Whiteb                |15_  |\n",
      "|CUS_0x188f |Johant                |55_  |\n",
      "|CUS_0x1899 |Pineaun               |43_  |\n",
      "|CUS_0x1902 |Melindai              |43_  |\n",
      "|CUS_0x191f |Ryanc                 |50_  |\n",
      "|CUS_0x1948 |Jonathan Cablew       |-500 |\n",
      "|CUS_0x195b |Rodrigo Camposl       |42_  |\n",
      "|CUS_0x1968 |Cezaryq               |16_  |\n",
      "|CUS_0x1999 |Silviob               |32_  |\n",
      "|CUS_0x19a5 |Rickp                 |27_  |\n",
      "|CUS_0x19a8 |Victoriav             |-500 |\n",
      "|CUS_0x19c9 |Cableo                |31_  |\n",
      "|CUS_0x19d4 |Mollenkampj           |32_  |\n",
      "|CUS_0x1a53 |Petersono             |38_  |\n",
      "|CUS_0x1a96 |Sinead Carewi         |50_  |\n",
      "|CUS_0x1b1a |Michaeli              |8669_|\n",
      "|CUS_0x1bfd |Dougs                 |40_  |\n",
      "|CUS_0x1c2a |Pault                 |45_  |\n",
      "|CUS_0x1c3a |Finnt                 |32_  |\n",
      "|CUS_0x1c3b |Alexei Anishchukq     |39_  |\n",
      "|CUS_0x1c89 |Tanyab                |17_  |\n",
      "|CUS_0x1cb8 |Antoniolil            |53_  |\n",
      "|CUS_0x1d00 |Herbert Lashd         |44_  |\n",
      "|CUS_0x1d08 |Skariachanh           |-500 |\n",
      "+-----------+----------------------+-----+\n",
      "only showing top 50 rows\n",
      "\n"
     ]
    }
   ],
   "source": [
    "df_attr.filter(~F.col(\"Age\").rlike(\"^[0-9]+$\")).select(\"Customer_ID\", \"Name\", \"Age\").show(50, truncate=False)\n"
   ]
  },
  {
   "cell_type": "code",
   "execution_count": 176,
   "id": "c1b08d30-e4ed-455c-af4c-696ebaa58b25",
   "metadata": {},
   "outputs": [
    {
     "name": "stdout",
     "output_type": "stream",
     "text": [
      "+----+\n",
      "| Age|\n",
      "+----+\n",
      "|-500|\n",
      "|1004|\n",
      "|1022|\n",
      "|1066|\n",
      "|1087|\n",
      "|1094|\n",
      "|1149|\n",
      "|1203|\n",
      "|1220|\n",
      "|1265|\n",
      "|1388|\n",
      "|1418|\n",
      "|1520|\n",
      "|1683|\n",
      "| 169|\n",
      "|1733|\n",
      "|1792|\n",
      "|1810|\n",
      "|1814|\n",
      "|1990|\n",
      "+----+\n",
      "only showing top 20 rows\n",
      "\n"
     ]
    }
   ],
   "source": [
    "df_attr.filter((F.col(\"Age\") < 0) | (F.col(\"Age\") > 100)) \\\n",
    "    .select(\"Age\") \\\n",
    "    .distinct() \\\n",
    "    .orderBy(\"Age\") \\\n",
    "    .show()"
   ]
  },
  {
   "cell_type": "code",
   "execution_count": 177,
   "id": "eac65a73-66bd-4744-ad5c-23e20847c05c",
   "metadata": {},
   "outputs": [],
   "source": [
    "df_attr = df_attr.withColumn(\n",
    "    \"Age\",\n",
    "    F.when((F.col(\"Age\") >= 0) & (F.col(\"Age\") <= 100), F.col(\"Age\"))\n",
    "     .otherwise(None)\n",
    ")\n"
   ]
  },
  {
   "cell_type": "code",
   "execution_count": 178,
   "id": "770b0224-a0dc-48ce-887a-588e4cb75b61",
   "metadata": {},
   "outputs": [
    {
     "name": "stdout",
     "output_type": "stream",
     "text": [
      "+---+\n",
      "|Age|\n",
      "+---+\n",
      "+---+\n",
      "\n"
     ]
    }
   ],
   "source": [
    "df_attr.filter((F.col(\"Age\") < 0) | (F.col(\"Age\") > 100)) \\\n",
    "    .select(\"Age\") \\\n",
    "    .distinct() \\\n",
    "    .orderBy(\"Age\") \\\n",
    "    .show()"
   ]
  },
  {
   "cell_type": "code",
   "execution_count": 179,
   "id": "b1de8d1a-2aa1-4087-be04-2f2a77cacfbc",
   "metadata": {},
   "outputs": [],
   "source": [
    "column_type_map = {\n",
    "    \"Customer_ID\": StringType(),\n",
    "    \"Name\": StringType(),\n",
    "    \"Age\": IntegerType(),\n",
    "    \"SSN\": StringType(),\n",
    "    \"Occupation\": StringType(),\n",
    "    \"snapshot_date\": DateType(),\n",
    "}\n",
    "\n",
    "for column, new_type in column_type_map.items():\n",
    "        df_attr = df_attr.withColumn(column, col(column).cast(new_type))"
   ]
  },
  {
   "cell_type": "code",
   "execution_count": 180,
   "id": "af390c0f-e31d-41f4-b8d4-75bbf5a4f070",
   "metadata": {},
   "outputs": [
    {
     "data": {
      "text/plain": [
       "[('Customer_ID', 'string'),\n",
       " ('Name', 'string'),\n",
       " ('Age', 'int'),\n",
       " ('SSN', 'string'),\n",
       " ('Occupation', 'string'),\n",
       " ('snapshot_date', 'date')]"
      ]
     },
     "execution_count": 180,
     "metadata": {},
     "output_type": "execute_result"
    }
   ],
   "source": [
    "df_attr.dtypes"
   ]
  },
  {
   "cell_type": "markdown",
   "id": "9f054207-7ee3-4042-862a-6049058d3dfb",
   "metadata": {},
   "source": [
    "# DF FIN"
   ]
  },
  {
   "cell_type": "code",
   "execution_count": 242,
   "id": "108ea72a-2fa5-4672-b8e1-c99da11439f4",
   "metadata": {},
   "outputs": [],
   "source": [
    "def clean_numeric_column(df, column_name):\n",
    "    \"\"\"\n",
    "    Cleans a numeric column in a PySpark DataFrame:\n",
    "    1. Removes stray underscores from numeric values.\n",
    "    2. Casts the column to FloatType.\n",
    "    3. Uses IQR to detect outliers.\n",
    "    4. Replaces outliers with None.\n",
    "    \n",
    "    Args:\n",
    "        df (DataFrame): Input PySpark DataFrame\n",
    "        column_name (str): Name of the numeric column to clean\n",
    "\n",
    "    Returns:\n",
    "        DataFrame: Cleaned DataFrame with outliers replaced by None\n",
    "    \"\"\"\n",
    "    # 1️⃣ Remove underscores and cast to float\n",
    "    dtype_lookup = dict(df.dtypes).get(column_name)\n",
    "    if dtype_lookup == \"string\":\n",
    "        df = df.withColumn(column_name, F.regexp_replace(F.col(column_name), \"_\", \"\"))\n",
    "\n",
    "    df = df.withColumn(column_name, F.col(column_name).cast(FloatType()))\n",
    "\n",
    "    # 2️⃣ Compute IQR boundaries\n",
    "    q1, q3 = df.approxQuantile(column_name, [0.25, 0.75], 0.01)\n",
    "    iqr = q3 - q1\n",
    "    lower = q1 - 1.5 * iqr\n",
    "    upper = q3 + 1.5 * iqr\n",
    "\n",
    "    # 3️⃣ Replace outliers with None\n",
    "    df = df.withColumn(\n",
    "        column_name,\n",
    "        F.when((F.col(column_name) >= lower) & (F.col(column_name) <= upper),\n",
    "               F.col(column_name))\n",
    "         .otherwise(F.lit(None))\n",
    "    )\n",
    "\n",
    "    print(f\"[CLEAN] Column '{column_name}' cleaned. IQR bounds: ({lower:.2f}, {upper:.2f})\")\n",
    "\n",
    "    return df"
   ]
  },
  {
   "cell_type": "code",
   "execution_count": 236,
   "id": "98c54af2-bced-471b-9a54-90552bb88d3c",
   "metadata": {},
   "outputs": [],
   "source": [
    "df_fin = spark.read.csv(fin_path, header=True, inferSchema=True)"
   ]
  },
  {
   "cell_type": "code",
   "execution_count": 243,
   "id": "a8d40881-8b2e-40bb-8fe4-5b0dfbb858f1",
   "metadata": {},
   "outputs": [
    {
     "data": {
      "text/plain": [
       "[('Customer_ID', 'string'),\n",
       " ('Annual_Income', 'string'),\n",
       " ('Monthly_Inhand_Salary', 'double'),\n",
       " ('Num_Bank_Accounts', 'int'),\n",
       " ('Num_Credit_Card', 'int'),\n",
       " ('Interest_Rate', 'int'),\n",
       " ('Num_of_Loan', 'string'),\n",
       " ('Type_of_Loan', 'string'),\n",
       " ('Delay_from_due_date', 'int'),\n",
       " ('Num_of_Delayed_Payment', 'string'),\n",
       " ('Changed_Credit_Limit', 'string'),\n",
       " ('Num_Credit_Inquiries', 'double'),\n",
       " ('Credit_Mix', 'string'),\n",
       " ('Outstanding_Debt', 'string'),\n",
       " ('Credit_Utilization_Ratio', 'double'),\n",
       " ('Credit_History_Age', 'string'),\n",
       " ('Payment_of_Min_Amount', 'string'),\n",
       " ('Total_EMI_per_month', 'double'),\n",
       " ('Amount_invested_monthly', 'string'),\n",
       " ('Payment_Behaviour', 'string'),\n",
       " ('Monthly_Balance', 'string'),\n",
       " ('snapshot_date', 'date')]"
      ]
     },
     "execution_count": 243,
     "metadata": {},
     "output_type": "execute_result"
    }
   ],
   "source": [
    "df_fin.dtypes"
   ]
  },
  {
   "cell_type": "code",
   "execution_count": 244,
   "id": "3a84e90a-0496-48ee-a5f4-3023c56ac0fb",
   "metadata": {},
   "outputs": [
    {
     "name": "stdout",
     "output_type": "stream",
     "text": [
      "[CLEAN] Column 'Annual_Income' cleaned. IQR bounds: (-59626.93, 150522.66)\n",
      "[CLEAN] Column 'Monthly_Inhand_Salary' cleaned. IQR bounds: (-4820.54, 12303.13)\n",
      "[CLEAN] Column 'Num_Bank_Accounts' cleaned. IQR bounds: (-3.00, 13.00)\n",
      "[CLEAN] Column 'Num_Credit_Card' cleaned. IQR bounds: (-0.50, 11.50)\n",
      "[CLEAN] Column 'Interest_Rate' cleaned. IQR bounds: (-12.50, 39.50)\n",
      "[CLEAN] Column 'Num_of_Loan' cleaned. IQR bounds: (-5.00, 11.00)\n",
      "[CLEAN] Column 'Delay_from_due_date' cleaned. IQR bounds: (-17.00, 55.00)\n",
      "[CLEAN] Column 'Num_of_Delayed_Payment' cleaned. IQR bounds: (-4.50, 31.50)\n",
      "[CLEAN] Column 'Changed_Credit_Limit' cleaned. IQR bounds: (-8.52, 28.40)\n",
      "[CLEAN] Column 'Num_Credit_Inquiries' cleaned. IQR bounds: (-7.50, 20.50)\n",
      "[CLEAN] Column 'Outstanding_Debt' cleaned. IQR bounds: (-1474.93, 3928.24)\n",
      "[CLEAN] Column 'Credit_Utilization_Ratio' cleaned. IQR bounds: (14.98, 49.45)\n",
      "[CLEAN] Column 'Total_EMI_per_month' cleaned. IQR bounds: (-173.28, 369.76)\n",
      "[CLEAN] Column 'Amount_invested_monthly' cleaned. IQR bounds: (-201.21, 527.63)\n",
      "[CLEAN] Column 'Monthly_Balance' cleaned. IQR bounds: (-32.28, 767.32)\n"
     ]
    }
   ],
   "source": [
    "\n",
    "\n",
    "df_fin = clean_numeric_column(df_fin, \"Annual_Income\")\n",
    "df_fin = clean_numeric_column(df_fin, \"Monthly_Inhand_Salary\")\n",
    "df_fin = clean_numeric_column(df_fin, \"Num_Bank_Accounts\")\n",
    "df_fin = clean_numeric_column(df_fin, \"Num_Credit_Card\")\n",
    "df_fin = clean_numeric_column(df_fin, \"Interest_Rate\")\n",
    "df_fin = clean_numeric_column(df_fin, \"Num_of_Loan\")\n",
    "df_fin = clean_numeric_column(df_fin, \"Delay_from_due_date\")\n",
    "df_fin = clean_numeric_column(df_fin, \"Num_of_Delayed_Payment\")\n",
    "df_fin = clean_numeric_column(df_fin, \"Changed_Credit_Limit\")\n",
    "df_fin = clean_numeric_column(df_fin, \"Num_Credit_Inquiries\")\n",
    "df_fin = clean_numeric_column(df_fin, \"Outstanding_Debt\")\n",
    "df_fin = clean_numeric_column(df_fin, \"Credit_Utilization_Ratio\")\n",
    "df_fin = clean_numeric_column(df_fin, \"Total_EMI_per_month\")\n",
    "df_fin = clean_numeric_column(df_fin, \"Amount_invested_monthly\")\n",
    "df_fin = clean_numeric_column(df_fin, \"Monthly_Balance\")\n",
    "\n"
   ]
  },
  {
   "cell_type": "code",
   "execution_count": 245,
   "id": "8932d96a-8eca-4fb0-b469-c59bcac34ca7",
   "metadata": {},
   "outputs": [
    {
     "name": "stdout",
     "output_type": "stream",
     "text": [
      "+-----------+------------------+\n",
      "|Customer_ID|Credit_History_Age|\n",
      "+-----------+------------------+\n",
      "|CUS_0x1000 |129               |\n",
      "|CUS_0x1009 |372               |\n",
      "|CUS_0x100b |190               |\n",
      "|CUS_0x1011 |190               |\n",
      "|CUS_0x1013 |214               |\n",
      "|CUS_0x1015 |257               |\n",
      "|CUS_0x1018 |171               |\n",
      "|CUS_0x1026 |248               |\n",
      "|CUS_0x102d |363               |\n",
      "|CUS_0x102e |274               |\n",
      "+-----------+------------------+\n",
      "only showing top 10 rows\n",
      "\n"
     ]
    }
   ],
   "source": [
    "df_fin = df_fin.withColumn(\n",
    "    \"Credit_History_Age\",\n",
    "    F.regexp_replace(F.col(\"Credit_History_Age\"), \"_\", \"\")  # remove underscores if any\n",
    ")\n",
    "\n",
    "df_fin = df_fin.withColumn(\n",
    "    \"Years\",\n",
    "    F.regexp_extract(F.col(\"Credit_History_Age\"), r\"(\\d+)\\s+Years\", 1).cast(\"int\")\n",
    ").withColumn(\n",
    "    \"Months\",\n",
    "    F.regexp_extract(F.col(\"Credit_History_Age\"), r\"(\\d+)\\s+Months\", 1).cast(\"int\")\n",
    ")\n",
    "\n",
    "df_fin = df_fin.withColumn(\n",
    "    \"Credit_History_Age_Months\",\n",
    "    (F.col(\"Years\") * 12 + F.col(\"Months\"))\n",
    ")\n",
    "\n",
    "# Drop the old columns if you want\n",
    "df_fin = df_fin.drop(\"Years\", \"Months\", \"Credit_History_Age\")\n",
    "\n",
    "# (Optional) rename for simplicity\n",
    "df_fin = df_fin.withColumnRenamed(\"Credit_History_Age_Months\", \"Credit_History_Age\")\n",
    "\n",
    "df_fin.select(\"Customer_ID\", \"Credit_History_Age\").show(10, truncate=False)\n"
   ]
  },
  {
   "cell_type": "code",
   "execution_count": 246,
   "id": "be248b4e-b8fd-4577-a33a-a82fcff2d43b",
   "metadata": {},
   "outputs": [
    {
     "name": "stdout",
     "output_type": "stream",
     "text": [
      "+---------------------+\n",
      "|Payment_of_Min_Amount|\n",
      "+---------------------+\n",
      "|                   No|\n",
      "|                  Yes|\n",
      "|                 NULL|\n",
      "+---------------------+\n",
      "\n"
     ]
    }
   ],
   "source": [
    "df_fin = df_fin.withColumn(\n",
    "    \"Payment_of_Min_Amount\",\n",
    "    F.trim(F.lower(F.col(\"Payment_of_Min_Amount\")))  # normalize case\n",
    ")\n",
    "\n",
    "df_fin = df_fin.withColumn(\n",
    "    \"Payment_of_Min_Amount\",\n",
    "    F.when(F.col(\"Payment_of_Min_Amount\").isin(\"yes\", \"y\"), \"Yes\")\n",
    "     .when(F.col(\"Payment_of_Min_Amount\").isin(\"no\", \"n\"), \"No\")\n",
    "     .when(F.col(\"Payment_of_Min_Amount\").isin(\"nm\", \"not mentioned\", \"na\", \"none\"), None)\n",
    "     .otherwise(F.col(\"Payment_of_Min_Amount\"))  # keep valid ones\n",
    ")\n",
    "\n",
    "df_fin.select(\"Payment_of_Min_Amount\").distinct().show()"
   ]
  },
  {
   "cell_type": "code",
   "execution_count": 248,
   "id": "a7fc47d8-afaf-4572-a889-4daedae17569",
   "metadata": {},
   "outputs": [],
   "source": [
    "df_fin = df_fin.withColumn(\n",
    "    \"Payment_Behaviour\",\n",
    "    F.when(F.col(\"Payment_Behaviour\") == \"!@9#%8\", \"Unknown\")\n",
    "     .otherwise(F.col(\"Payment_Behaviour\"))\n",
    ")\n"
   ]
  },
  {
   "cell_type": "code",
   "execution_count": 222,
   "id": "637ccdd6-59c7-46bd-84d7-b47f4bb66ef5",
   "metadata": {},
   "outputs": [
    {
     "name": "stdout",
     "output_type": "stream",
     "text": [
      "++\n",
      "||\n",
      "++\n",
      "||\n",
      "||\n",
      "||\n",
      "||\n",
      "||\n",
      "||\n",
      "||\n",
      "||\n",
      "||\n",
      "||\n",
      "||\n",
      "||\n",
      "||\n",
      "||\n",
      "||\n",
      "||\n",
      "||\n",
      "||\n",
      "||\n",
      "||\n",
      "++\n",
      "only showing top 20 rows\n",
      "\n"
     ]
    }
   ],
   "source": [
    "df_fin.filter(F.col(\"Num_Credit_Card\") > 10).select().show()\n"
   ]
  },
  {
   "cell_type": "code",
   "execution_count": 223,
   "id": "fde05462-bc93-437f-8486-18b9703f1ee6",
   "metadata": {},
   "outputs": [],
   "source": [
    "df_fin = df_fin.withColumn(\n",
    "    \"Num_Bank_Accounts\",\n",
    "    F.when(F.col(\"Num_Bank_Accounts\") > 10, 15)\n",
    "     .otherwise(F.col(\"Num_Bank_Accounts\"))\n",
    ")"
   ]
  },
  {
   "cell_type": "code",
   "execution_count": 224,
   "id": "368d9ac3-c304-4ac8-bf92-c6c5a48acca4",
   "metadata": {},
   "outputs": [],
   "source": [
    "df_fin = df_fin.withColumn(\n",
    "    \"Num_Credit_Card\",\n",
    "    F.when(F.col(\"Num_Credit_Card\") > 10, 10)\n",
    "     .otherwise(F.col(\"Num_Credit_Card\"))\n",
    ")"
   ]
  },
  {
   "cell_type": "code",
   "execution_count": 225,
   "id": "3e3e6fa9-0c2a-4f73-931b-2355cdbce186",
   "metadata": {},
   "outputs": [
    {
     "name": "stdout",
     "output_type": "stream",
     "text": [
      "+---------------+-----+\n",
      "|Num_Credit_Card|count|\n",
      "+---------------+-----+\n",
      "|              0|    4|\n",
      "|              1|  259|\n",
      "|              2|  277|\n",
      "|              3| 1647|\n",
      "|              4| 1765|\n",
      "|              5| 2302|\n",
      "|              6| 2064|\n",
      "|              7| 2072|\n",
      "|              8|  611|\n",
      "|              9|  586|\n",
      "|             10|  913|\n",
      "+---------------+-----+\n",
      "\n"
     ]
    }
   ],
   "source": [
    "df_fin.groupBy(\"Num_Credit_Card\") \\\n",
    "      .count() \\\n",
    "      .orderBy(\"Num_Credit_Card\") \\\n",
    "      .show(100)\n"
   ]
  },
  {
   "cell_type": "code",
   "execution_count": 226,
   "id": "5efadd7a-16c5-42ef-93d1-7a83bf43d915",
   "metadata": {},
   "outputs": [
    {
     "name": "stdout",
     "output_type": "stream",
     "text": [
      "+-------------+\n",
      "|Interest_Rate|\n",
      "+-------------+\n",
      "|         1508|\n",
      "|          498|\n",
      "|         4041|\n",
      "|         5240|\n",
      "|          224|\n",
      "|         1169|\n",
      "|         5059|\n",
      "|          422|\n",
      "|         4985|\n",
      "|         5773|\n",
      "|          288|\n",
      "|         3058|\n",
      "|         5424|\n",
      "|         3813|\n",
      "|         2711|\n",
      "|         4478|\n",
      "|         2875|\n",
      "|         4962|\n",
      "|         4254|\n",
      "|         5663|\n",
      "|         2398|\n",
      "|         2674|\n",
      "|         1615|\n",
      "|         5616|\n",
      "|          207|\n",
      "|         2865|\n",
      "|         1292|\n",
      "|         2577|\n",
      "|         1922|\n",
      "|         1663|\n",
      "|         5774|\n",
      "|         2299|\n",
      "|          262|\n",
      "|         4344|\n",
      "|         3043|\n",
      "|         2851|\n",
      "|         1313|\n",
      "|         1091|\n",
      "|          926|\n",
      "|          356|\n",
      "|         2724|\n",
      "|         3400|\n",
      "|          954|\n",
      "|         4586|\n",
      "|          981|\n",
      "|         1708|\n",
      "|          890|\n",
      "|         5024|\n",
      "|         1106|\n",
      "|         1172|\n",
      "|         4195|\n",
      "|         2660|\n",
      "|          935|\n",
      "|          570|\n",
      "|         1292|\n",
      "|         1884|\n",
      "|          450|\n",
      "|         5633|\n",
      "|         2417|\n",
      "|         3048|\n",
      "|          286|\n",
      "|         5709|\n",
      "|         5264|\n",
      "|         3621|\n",
      "|         5111|\n",
      "|          613|\n",
      "|         1002|\n",
      "|         2620|\n",
      "|         3604|\n",
      "|         2993|\n",
      "|         5272|\n",
      "|         2037|\n",
      "|          754|\n",
      "|         2654|\n",
      "|         5277|\n",
      "|         1173|\n",
      "|         4792|\n",
      "|         2648|\n",
      "|         5114|\n",
      "|         1661|\n",
      "|         2025|\n",
      "|         1293|\n",
      "|          170|\n",
      "|          955|\n",
      "|         2583|\n",
      "|         1626|\n",
      "|         4689|\n",
      "|         3647|\n",
      "|         1562|\n",
      "|         1439|\n",
      "|         4033|\n",
      "|          948|\n",
      "|         5469|\n",
      "|         3749|\n",
      "|         3801|\n",
      "|          608|\n",
      "|         1965|\n",
      "|         2828|\n",
      "|          835|\n",
      "|         1232|\n",
      "+-------------+\n",
      "only showing top 100 rows\n",
      "\n",
      "None\n",
      "+-------------+\n",
      "|Interest_Rate|\n",
      "+-------------+\n",
      "|           27|\n",
      "|           17|\n",
      "|            1|\n",
      "|           17|\n",
      "|            6|\n",
      "|           16|\n",
      "|           23|\n",
      "|            9|\n",
      "|            1|\n",
      "|           11|\n",
      "|           17|\n",
      "|            2|\n",
      "|           10|\n",
      "|            9|\n",
      "|           30|\n",
      "|            1|\n",
      "|           26|\n",
      "|            5|\n",
      "|           18|\n",
      "|           14|\n",
      "|            4|\n",
      "|           24|\n",
      "|            6|\n",
      "|            8|\n",
      "|            5|\n",
      "|           10|\n",
      "|           10|\n",
      "|           10|\n",
      "|            6|\n",
      "|           27|\n",
      "|           15|\n",
      "|           10|\n",
      "|           21|\n",
      "|            9|\n",
      "|           21|\n",
      "|            7|\n",
      "|           27|\n",
      "|            9|\n",
      "|            4|\n",
      "|            7|\n",
      "|           15|\n",
      "|            9|\n",
      "|           19|\n",
      "|           11|\n",
      "|           23|\n",
      "|           10|\n",
      "|           21|\n",
      "|            5|\n",
      "|           23|\n",
      "|           31|\n",
      "|           33|\n",
      "|           10|\n",
      "|           15|\n",
      "|            4|\n",
      "|            2|\n",
      "|            6|\n",
      "|           23|\n",
      "|           21|\n",
      "|            8|\n",
      "|           18|\n",
      "|           26|\n",
      "|            7|\n",
      "|           17|\n",
      "|           34|\n",
      "|           31|\n",
      "|           11|\n",
      "|            5|\n",
      "|           13|\n",
      "|           20|\n",
      "|            8|\n",
      "|            5|\n",
      "|           33|\n",
      "|           10|\n",
      "|           13|\n",
      "|           24|\n",
      "|           28|\n",
      "|           18|\n",
      "|           32|\n",
      "|            2|\n",
      "|            5|\n",
      "|           29|\n",
      "|            6|\n",
      "|           19|\n",
      "|           17|\n",
      "|           15|\n",
      "|            9|\n",
      "|            8|\n",
      "|            9|\n",
      "|           12|\n",
      "|           12|\n",
      "|           12|\n",
      "|           11|\n",
      "|           29|\n",
      "|            9|\n",
      "|            1|\n",
      "|           20|\n",
      "|           16|\n",
      "|           11|\n",
      "|           15|\n",
      "|           30|\n",
      "+-------------+\n",
      "only showing top 100 rows\n",
      "\n",
      "None\n"
     ]
    }
   ],
   "source": [
    "q1, q3 = df_fin.approxQuantile(\"Interest_Rate\", [0.25, 0.75], 0.01)\n",
    "iqr = q3 - q1\n",
    "lower = q1 - 1.5 * iqr\n",
    "upper = q3 + 1.5 * iqr\n",
    "\n",
    "df_outliers = df_fin.filter((F.col(\"Interest_Rate\") < lower) | (F.col(\"Interest_Rate\") > upper))\n",
    "print(df_outliers.select(\"Interest_Rate\").show(100))\n",
    "\n",
    "df_inliers = df_fin.filter((F.col(\"Interest_Rate\") > lower) & (F.col(\"Interest_Rate\") < upper))\n",
    "print(df_inliers.select(\"Interest_Rate\").show(100))"
   ]
  },
  {
   "cell_type": "code",
   "execution_count": 227,
   "id": "45c656de-bdb4-4009-b648-ba0d62f2e569",
   "metadata": {},
   "outputs": [
    {
     "data": {
      "text/plain": [
       "39.5"
      ]
     },
     "execution_count": 227,
     "metadata": {},
     "output_type": "execute_result"
    }
   ],
   "source": [
    "upper"
   ]
  },
  {
   "cell_type": "code",
   "execution_count": 228,
   "id": "974215dd-4622-48ef-b852-2d97408ec273",
   "metadata": {},
   "outputs": [
    {
     "name": "stdout",
     "output_type": "stream",
     "text": [
      "+-------+------------------+\n",
      "|summary|     Interest_Rate|\n",
      "+-------+------------------+\n",
      "|  count|             12500|\n",
      "|   mean|          73.21336|\n",
      "| stddev|468.68222710052765|\n",
      "|    min|                 1|\n",
      "|    max|              5789|\n",
      "+-------+------------------+\n",
      "\n"
     ]
    }
   ],
   "source": [
    "df_fin.select(\"Interest_Rate\").describe().show()"
   ]
  },
  {
   "cell_type": "code",
   "execution_count": 229,
   "id": "fa184dec-27ad-488c-ad77-c236cb6012f3",
   "metadata": {},
   "outputs": [
    {
     "name": "stdout",
     "output_type": "stream",
     "text": [
      "+-------------+\n",
      "|Interest_Rate|\n",
      "+-------------+\n",
      "|         1508|\n",
      "|          498|\n",
      "|         4041|\n",
      "|         5240|\n",
      "|          224|\n",
      "|         1169|\n",
      "|         5059|\n",
      "|          422|\n",
      "|         4985|\n",
      "|         5773|\n",
      "|          288|\n",
      "|         3058|\n",
      "|         5424|\n",
      "|         3813|\n",
      "|         2711|\n",
      "|         4478|\n",
      "|         2875|\n",
      "|         4962|\n",
      "|         4254|\n",
      "|         5663|\n",
      "|         2398|\n",
      "|         2674|\n",
      "|         1615|\n",
      "|         5616|\n",
      "|          207|\n",
      "|         2865|\n",
      "|         1292|\n",
      "|         2577|\n",
      "|         1922|\n",
      "|         1663|\n",
      "|         5774|\n",
      "|         2299|\n",
      "|          262|\n",
      "|         4344|\n",
      "|         3043|\n",
      "|         2851|\n",
      "|         1313|\n",
      "|         1091|\n",
      "|          926|\n",
      "|          356|\n",
      "|         2724|\n",
      "|         3400|\n",
      "|          954|\n",
      "|         4586|\n",
      "|          981|\n",
      "|         1708|\n",
      "|          890|\n",
      "|         5024|\n",
      "|         1106|\n",
      "|         1172|\n",
      "|         4195|\n",
      "|         2660|\n",
      "|          935|\n",
      "|          570|\n",
      "|         1292|\n",
      "|         1884|\n",
      "|          450|\n",
      "|         5633|\n",
      "|         2417|\n",
      "|         3048|\n",
      "|          286|\n",
      "|         5709|\n",
      "|         5264|\n",
      "|         3621|\n",
      "|         5111|\n",
      "|          613|\n",
      "|         1002|\n",
      "|         2620|\n",
      "|         3604|\n",
      "|         2993|\n",
      "|         5272|\n",
      "|         2037|\n",
      "|          754|\n",
      "|         2654|\n",
      "|         5277|\n",
      "|         1173|\n",
      "|         4792|\n",
      "|         2648|\n",
      "|         5114|\n",
      "|         1661|\n",
      "|         2025|\n",
      "|         1293|\n",
      "|          170|\n",
      "|          955|\n",
      "|         2583|\n",
      "|         1626|\n",
      "|         4689|\n",
      "|         3647|\n",
      "|         1562|\n",
      "|         1439|\n",
      "|         4033|\n",
      "|          948|\n",
      "|         5469|\n",
      "|         3749|\n",
      "|         3801|\n",
      "|          608|\n",
      "|         1965|\n",
      "|         2828|\n",
      "|          835|\n",
      "|         1232|\n",
      "+-------------+\n",
      "only showing top 100 rows\n",
      "\n",
      "None\n",
      "+-------------+\n",
      "|Interest_Rate|\n",
      "+-------------+\n",
      "|           27|\n",
      "|           17|\n",
      "|            1|\n",
      "|           17|\n",
      "|            6|\n",
      "|           16|\n",
      "|           23|\n",
      "|            9|\n",
      "|            1|\n",
      "|           11|\n",
      "|           17|\n",
      "|            2|\n",
      "|           10|\n",
      "|            9|\n",
      "|           30|\n",
      "|            1|\n",
      "|           26|\n",
      "|            5|\n",
      "|           18|\n",
      "|           14|\n",
      "|            4|\n",
      "|           24|\n",
      "|            6|\n",
      "|            8|\n",
      "|            5|\n",
      "|           10|\n",
      "|           10|\n",
      "|           10|\n",
      "|            6|\n",
      "|           27|\n",
      "|           15|\n",
      "|           10|\n",
      "|           21|\n",
      "|            9|\n",
      "|           21|\n",
      "|            7|\n",
      "|           27|\n",
      "|            9|\n",
      "|            4|\n",
      "|            7|\n",
      "|           15|\n",
      "|            9|\n",
      "|           19|\n",
      "|           11|\n",
      "|           23|\n",
      "|           10|\n",
      "|           21|\n",
      "|            5|\n",
      "|           23|\n",
      "|           31|\n",
      "|           33|\n",
      "|           10|\n",
      "|           15|\n",
      "|            4|\n",
      "|            2|\n",
      "|            6|\n",
      "|           23|\n",
      "|           21|\n",
      "|            8|\n",
      "|           18|\n",
      "|           26|\n",
      "|            7|\n",
      "|           17|\n",
      "|           34|\n",
      "|           31|\n",
      "|           11|\n",
      "|            5|\n",
      "|           13|\n",
      "|           20|\n",
      "|            8|\n",
      "|            5|\n",
      "|           33|\n",
      "|           10|\n",
      "|           13|\n",
      "|           24|\n",
      "|           28|\n",
      "|           18|\n",
      "|           32|\n",
      "|            2|\n",
      "|            5|\n",
      "|           29|\n",
      "|            6|\n",
      "|           19|\n",
      "|           17|\n",
      "|           15|\n",
      "|            9|\n",
      "|            8|\n",
      "|            9|\n",
      "|           12|\n",
      "|           12|\n",
      "|           12|\n",
      "|           11|\n",
      "|           29|\n",
      "|            9|\n",
      "|            1|\n",
      "|           20|\n",
      "|           16|\n",
      "|           11|\n",
      "|           15|\n",
      "|           30|\n",
      "+-------------+\n",
      "only showing top 100 rows\n",
      "\n",
      "None\n"
     ]
    }
   ],
   "source": [
    "q1, q3 = df_fin.approxQuantile(\"Interest_Rate\", [0.25, 0.75], 0.01)\n",
    "iqr = q3 - q1\n",
    "lower = q1 - 1.5 * iqr\n",
    "upper = q3 + 1.5 * iqr\n",
    "\n",
    "df_outliers = df_fin.filter((F.col(\"Interest_Rate\") < lower) | (F.col(\"Interest_Rate\") > upper))\n",
    "print(df_outliers.select(\"Interest_Rate\").show(100))\n",
    "\n",
    "df_inliers = df_fin.filter((F.col(\"Interest_Rate\") > lower) & (F.col(\"Interest_Rate\") < upper))\n",
    "print(df_inliers.select(\"Interest_Rate\").show(100))"
   ]
  },
  {
   "cell_type": "code",
   "execution_count": 230,
   "id": "143c23c2-6860-4fbb-aeaa-20e43ae5e6fb",
   "metadata": {},
   "outputs": [],
   "source": [
    "def clean_numeric_column(df, column_name):\n",
    "    \"\"\"\n",
    "    Cleans a numeric column in a PySpark DataFrame:\n",
    "    1. Removes stray underscores from numeric values.\n",
    "    2. Casts the column to FloatType.\n",
    "    3. Uses IQR to detect outliers.\n",
    "    4. Replaces outliers with None.\n",
    "    \n",
    "    Args:\n",
    "        df (DataFrame): Input PySpark DataFrame\n",
    "        column_name (str): Name of the numeric column to clean\n",
    "\n",
    "    Returns:\n",
    "        DataFrame: Cleaned DataFrame with outliers replaced by None\n",
    "    \"\"\"\n",
    "    # 1️⃣ Remove underscores and cast to float\n",
    "    df = df.withColumn(column_name, F.regexp_replace(F.col(column_name), \"_\", \"\"))\n",
    "    df = df.withColumn(column_name, F.col(column_name).cast(FloatType()))\n",
    "\n",
    "    # 2️⃣ Compute IQR boundaries\n",
    "    q1, q3 = df.approxQuantile(column_name, [0.25, 0.75], 0.01)\n",
    "    iqr = q3 - q1\n",
    "    lower = q1 - 1.5 * iqr\n",
    "    upper = q3 + 1.5 * iqr\n",
    "\n",
    "    # 3️⃣ Replace outliers with None\n",
    "    df = df.withColumn(\n",
    "        column_name,\n",
    "        F.when((F.col(column_name) >= lower) & (F.col(column_name) <= upper),\n",
    "               F.col(column_name))\n",
    "         .otherwise(F.lit(None))\n",
    "    )\n",
    "\n",
    "    print(f\"[CLEAN] Column '{column_name}' cleaned. IQR bounds: ({lower:.2f}, {upper:.2f})\")\n",
    "\n",
    "    return df"
   ]
  },
  {
   "cell_type": "code",
   "execution_count": 231,
   "id": "59ba2480-1b80-44a4-9346-30cb721e2dcb",
   "metadata": {},
   "outputs": [
    {
     "name": "stdout",
     "output_type": "stream",
     "text": [
      "[CLEAN] Column 'Interest_Rate' cleaned. IQR bounds: (-12.50, 39.50)\n"
     ]
    }
   ],
   "source": [
    "df_fin = clean_numeric_column(df_fin, \"Interest_Rate\")"
   ]
  },
  {
   "cell_type": "code",
   "execution_count": 232,
   "id": "b61d0b4d-aa07-4d9a-9fe9-003a4d1e7aa8",
   "metadata": {},
   "outputs": [
    {
     "name": "stdout",
     "output_type": "stream",
     "text": [
      "[CLEAN] Column 'Num_of_Loan' cleaned. IQR bounds: (-5.00, 11.00)\n"
     ]
    }
   ],
   "source": [
    "df_fin = clean_numeric_column(df_fin, \"Num_of_Loan\")"
   ]
  },
  {
   "cell_type": "code",
   "execution_count": null,
   "id": "418c9b52-c895-4ce8-a72d-905c53e0d71b",
   "metadata": {},
   "outputs": [],
   "source": []
  },
  {
   "cell_type": "code",
   "execution_count": 233,
   "id": "801d0c87-e6d3-403e-b1a0-36f3acb4b993",
   "metadata": {},
   "outputs": [
    {
     "name": "stdout",
     "output_type": "stream",
     "text": [
      "+-----------+\n",
      "|Num_of_Loan|\n",
      "+-----------+\n",
      "|       NULL|\n",
      "|        0.0|\n",
      "|        1.0|\n",
      "|        2.0|\n",
      "|        3.0|\n",
      "|        4.0|\n",
      "|        5.0|\n",
      "|        6.0|\n",
      "|        7.0|\n",
      "|        8.0|\n",
      "|        9.0|\n",
      "+-----------+\n",
      "\n"
     ]
    }
   ],
   "source": [
    "df_fin.select(\"Num_of_Loan\") \\\n",
    "      .distinct() \\\n",
    "      .orderBy(\"Num_of_Loan\") \\\n",
    "      .show(100)"
   ]
  },
  {
   "cell_type": "code",
   "execution_count": 234,
   "id": "cfbb33a2-f6a7-4824-bbfc-2825ce25a96e",
   "metadata": {},
   "outputs": [
    {
     "name": "stdout",
     "output_type": "stream",
     "text": [
      "+-------+---------------------+------------------+------------------+------------------+------------------+-------------------+--------------------+------------------------+-------------------+\n",
      "|summary|Monthly_Inhand_Salary| Num_Bank_Accounts|   Num_Credit_Card|     Interest_Rate|       Num_of_Loan|Delay_from_due_date|Num_Credit_Inquiries|Credit_Utilization_Ratio|Total_EMI_per_month|\n",
      "+-------+---------------------+------------------+------------------+------------------+------------------+-------------------+--------------------+------------------------+-------------------+\n",
      "|  count|                12500|             12500|             12500|             12230|             11933|              12500|               12500|                   12500|              12500|\n",
      "|   mean|   4188.5923027131585|           5.49368|           5.64032|14.556255110384301|3.5290371239420097|           21.06088|            26.69528|       32.34926457800977| 1488.3942909941488|\n",
      "| stddev|   3180.1476109204173|2.8093613969221995|2.1544655103600103| 8.753709289288272| 2.443069322957201| 14.863091419503656|  184.19382871053074|       5.156815304530768|  8561.449910123256|\n",
      "|    min|    303.6454166666666|                -1|                 0|               1.0|               0.0|                 -5|                 0.0|       20.10076996070649|                0.0|\n",
      "|    max|   15204.633333333331|                15|                10|              34.0|               9.0|                 67|              2554.0|       48.19982397892475|            81971.0|\n",
      "+-------+---------------------+------------------+------------------+------------------+------------------+-------------------+--------------------+------------------------+-------------------+\n",
      "\n"
     ]
    }
   ],
   "source": [
    "numeric_cols = [field.name for field in df_fin.schema.fields \n",
    "                if field.dataType.typeName() in [\"integer\", \"double\", \"float\", \"long\"]]\n",
    "\n",
    "df_fin.select(numeric_cols).describe().show()\n"
   ]
  },
  {
   "cell_type": "markdown",
   "id": "2b990a02-dd91-45be-abc2-8d70a8abf7e2",
   "metadata": {},
   "source": [
    "## Load all silver parquet files"
   ]
  },
  {
   "cell_type": "code",
   "execution_count": 200,
   "id": "19f4a239-39ed-4b53-848b-0adec5de459c",
   "metadata": {},
   "outputs": [
    {
     "data": {
      "text/plain": [
       "DataFrame[Customer_ID: string, Name: string, Age: int, SSN: string, Occupation: string, snapshot_date: date]"
      ]
     },
     "execution_count": 200,
     "metadata": {},
     "output_type": "execute_result"
    }
   ],
   "source": [
    "parquet_files = glob.glob(os.path.join(\"datamart/silver/attributes\", \"*.parquet\"))\n",
    "\n",
    "df_attr = spark.read.parquet(*parquet_files)\n",
    "df_attr"
   ]
  },
  {
   "cell_type": "code",
   "execution_count": 201,
   "id": "d73586ff-11af-4a00-9bba-18ab97a70915",
   "metadata": {},
   "outputs": [
    {
     "data": {
      "text/plain": [
       "12500"
      ]
     },
     "execution_count": 201,
     "metadata": {},
     "output_type": "execute_result"
    }
   ],
   "source": [
    "df_attr.count()"
   ]
  },
  {
   "cell_type": "code",
   "execution_count": 202,
   "id": "e66480b5-80d4-45f4-a425-338a48b4f73f",
   "metadata": {},
   "outputs": [
    {
     "name": "stdout",
     "output_type": "stream",
     "text": [
      "+-----------+----+---+---+----------+-------------+\n",
      "|Customer_ID|Name|Age|SSN|Occupation|snapshot_date|\n",
      "+-----------+----+---+---+----------+-------------+\n",
      "|          0|   0|319|  0|         0|            0|\n",
      "+-----------+----+---+---+----------+-------------+\n",
      "\n",
      "+-----------+------------+-------------+\n",
      "|Customer_ID|  Occupation|snapshot_date|\n",
      "+-----------+------------+-------------+\n",
      "| CUS_0x10ac|   Developer|   2024-08-01|\n",
      "| CUS_0x10c5|  Unemployed|   2024-08-01|\n",
      "| CUS_0x1145|     Teacher|   2024-08-01|\n",
      "| CUS_0x11ac|  Journalist|   2024-08-01|\n",
      "| CUS_0x122c|Entrepreneur|   2024-08-01|\n",
      "| CUS_0x1274|   Scientist|   2024-08-01|\n",
      "| CUS_0x1288|      Doctor|   2024-08-01|\n",
      "| CUS_0x12cc|   Developer|   2024-08-01|\n",
      "| CUS_0x1338|  Unemployed|   2024-08-01|\n",
      "| CUS_0x1370|      Writer|   2024-08-01|\n",
      "| CUS_0x1378|    Mechanic|   2024-08-01|\n",
      "| CUS_0x139b|   Scientist|   2024-08-01|\n",
      "| CUS_0x13a9|     Manager|   2024-08-01|\n",
      "| CUS_0x13ce|     Manager|   2024-08-01|\n",
      "| CUS_0x147a|      Writer|   2024-08-01|\n",
      "| CUS_0x1510|      Doctor|   2024-08-01|\n",
      "| CUS_0x1572|    Engineer|   2024-08-01|\n",
      "| CUS_0x159b|   Architect|   2024-08-01|\n",
      "| CUS_0x15f1|  Unemployed|   2024-08-01|\n",
      "| CUS_0x1621|      Writer|   2024-08-01|\n",
      "+-----------+------------+-------------+\n",
      "only showing top 20 rows\n",
      "\n"
     ]
    }
   ],
   "source": [
    "# check for null values\n",
    "\n",
    "df_attr.select([\n",
    "    F.count(F.when(F.col(c).isNull(), c)).alias(c) \n",
    "    for c in df_attr.columns\n",
    "]).show()\n",
    "\n",
    "\n",
    "# drop age, name, ssn,\n",
    "df_attr = df_attr.drop(\"Age\", \"Name\", \"SSN\")  # drop columns with too many nulls\n",
    "df_attr.show()"
   ]
  },
  {
   "cell_type": "code",
   "execution_count": 203,
   "id": "683d7a6a-3d51-4d10-85d0-fb04dc2359b3",
   "metadata": {},
   "outputs": [
    {
     "data": {
      "text/html": [
       "<div>\n",
       "<style scoped>\n",
       "    .dataframe tbody tr th:only-of-type {\n",
       "        vertical-align: middle;\n",
       "    }\n",
       "\n",
       "    .dataframe tbody tr th {\n",
       "        vertical-align: top;\n",
       "    }\n",
       "\n",
       "    .dataframe thead th {\n",
       "        text-align: right;\n",
       "    }\n",
       "</style>\n",
       "<table border=\"1\" class=\"dataframe\">\n",
       "  <thead>\n",
       "    <tr style=\"text-align: right;\">\n",
       "      <th></th>\n",
       "      <th>Customer_ID</th>\n",
       "      <th>Annual_Income</th>\n",
       "      <th>Monthly_Inhand_Salary</th>\n",
       "      <th>Num_Bank_Accounts</th>\n",
       "      <th>Num_Credit_Card</th>\n",
       "      <th>Interest_Rate</th>\n",
       "      <th>Num_of_Loan</th>\n",
       "      <th>Type_of_Loan</th>\n",
       "      <th>Delay_from_due_date</th>\n",
       "      <th>Num_of_Delayed_Payment</th>\n",
       "      <th>...</th>\n",
       "      <th>Credit_Mix</th>\n",
       "      <th>Outstanding_Debt</th>\n",
       "      <th>Credit_Utilization_Ratio</th>\n",
       "      <th>Payment_of_Min_Amount</th>\n",
       "      <th>Total_EMI_per_month</th>\n",
       "      <th>Amount_invested_monthly</th>\n",
       "      <th>Payment_Behaviour</th>\n",
       "      <th>Monthly_Balance</th>\n",
       "      <th>snapshot_date</th>\n",
       "      <th>Credit_History_Age</th>\n",
       "    </tr>\n",
       "  </thead>\n",
       "  <tbody>\n",
       "    <tr>\n",
       "      <th>0</th>\n",
       "      <td>CUS_0x10ac</td>\n",
       "      <td>16718.644531</td>\n",
       "      <td>1270.220459</td>\n",
       "      <td>7.0</td>\n",
       "      <td>3.0</td>\n",
       "      <td>15.0</td>\n",
       "      <td>4.0</td>\n",
       "      <td>Credit-Builder Loan, Credit-Builder Loan, Home...</td>\n",
       "      <td>26.0</td>\n",
       "      <td>11.0</td>\n",
       "      <td>...</td>\n",
       "      <td>_</td>\n",
       "      <td>853.409973</td>\n",
       "      <td>31.397339</td>\n",
       "      <td>No</td>\n",
       "      <td>50.961937</td>\n",
       "      <td>36.413094</td>\n",
       "      <td>Unknown</td>\n",
       "      <td>319.647003</td>\n",
       "      <td>2024-08-01</td>\n",
       "      <td>195</td>\n",
       "    </tr>\n",
       "    <tr>\n",
       "      <th>1</th>\n",
       "      <td>CUS_0x10c5</td>\n",
       "      <td>158623.156250</td>\n",
       "      <td>13180.596680</td>\n",
       "      <td>2.0</td>\n",
       "      <td>7.0</td>\n",
       "      <td>10.0</td>\n",
       "      <td>1.0</td>\n",
       "      <td>Payday Loan</td>\n",
       "      <td>10.0</td>\n",
       "      <td>5.0</td>\n",
       "      <td>...</td>\n",
       "      <td>Good</td>\n",
       "      <td>1134.829956</td>\n",
       "      <td>41.796799</td>\n",
       "      <td>No</td>\n",
       "      <td>91.033905</td>\n",
       "      <td>282.718689</td>\n",
       "      <td>High_spent_Medium_value_payments</td>\n",
       "      <td>NaN</td>\n",
       "      <td>2024-08-01</td>\n",
       "      <td>362</td>\n",
       "    </tr>\n",
       "    <tr>\n",
       "      <th>2</th>\n",
       "      <td>CUS_0x1145</td>\n",
       "      <td>17975.320312</td>\n",
       "      <td>1444.943359</td>\n",
       "      <td>6.0</td>\n",
       "      <td>5.0</td>\n",
       "      <td>32.0</td>\n",
       "      <td>9.0</td>\n",
       "      <td>Student Loan, Payday Loan, Not Specified, Mort...</td>\n",
       "      <td>NaN</td>\n",
       "      <td>25.0</td>\n",
       "      <td>...</td>\n",
       "      <td>Bad</td>\n",
       "      <td>1263.099976</td>\n",
       "      <td>25.681799</td>\n",
       "      <td>Yes</td>\n",
       "      <td>76.450325</td>\n",
       "      <td>176.776215</td>\n",
       "      <td>Low_spent_Small_value_payments</td>\n",
       "      <td>181.267792</td>\n",
       "      <td>2024-08-01</td>\n",
       "      <td>149</td>\n",
       "    </tr>\n",
       "    <tr>\n",
       "      <th>3</th>\n",
       "      <td>CUS_0x11ac</td>\n",
       "      <td>69136.539062</td>\n",
       "      <td>5902.378418</td>\n",
       "      <td>3.0</td>\n",
       "      <td>4.0</td>\n",
       "      <td>14.0</td>\n",
       "      <td>0.0</td>\n",
       "      <td>None</td>\n",
       "      <td>14.0</td>\n",
       "      <td>18.0</td>\n",
       "      <td>...</td>\n",
       "      <td>Standard</td>\n",
       "      <td>478.850006</td>\n",
       "      <td>32.103165</td>\n",
       "      <td>Yes</td>\n",
       "      <td>0.000000</td>\n",
       "      <td>435.937012</td>\n",
       "      <td>Low_spent_Small_value_payments</td>\n",
       "      <td>444.300842</td>\n",
       "      <td>2024-08-01</td>\n",
       "      <td>209</td>\n",
       "    </tr>\n",
       "    <tr>\n",
       "      <th>4</th>\n",
       "      <td>CUS_0x122c</td>\n",
       "      <td>36346.128906</td>\n",
       "      <td>3188.844238</td>\n",
       "      <td>8.0</td>\n",
       "      <td>6.0</td>\n",
       "      <td>11.0</td>\n",
       "      <td>3.0</td>\n",
       "      <td>Credit-Builder Loan, Home Equity Loan, and Aut...</td>\n",
       "      <td>21.0</td>\n",
       "      <td>15.0</td>\n",
       "      <td>...</td>\n",
       "      <td>Good</td>\n",
       "      <td>1252.459961</td>\n",
       "      <td>28.066704</td>\n",
       "      <td>None</td>\n",
       "      <td>89.061554</td>\n",
       "      <td>110.509705</td>\n",
       "      <td>High_spent_Medium_value_payments</td>\n",
       "      <td>369.313171</td>\n",
       "      <td>2024-08-01</td>\n",
       "      <td>266</td>\n",
       "    </tr>\n",
       "  </tbody>\n",
       "</table>\n",
       "<p>5 rows × 22 columns</p>\n",
       "</div>"
      ],
      "text/plain": [
       "  Customer_ID  Annual_Income  Monthly_Inhand_Salary  Num_Bank_Accounts  \\\n",
       "0  CUS_0x10ac   16718.644531            1270.220459                7.0   \n",
       "1  CUS_0x10c5  158623.156250           13180.596680                2.0   \n",
       "2  CUS_0x1145   17975.320312            1444.943359                6.0   \n",
       "3  CUS_0x11ac   69136.539062            5902.378418                3.0   \n",
       "4  CUS_0x122c   36346.128906            3188.844238                8.0   \n",
       "\n",
       "   Num_Credit_Card  Interest_Rate  Num_of_Loan  \\\n",
       "0              3.0           15.0          4.0   \n",
       "1              7.0           10.0          1.0   \n",
       "2              5.0           32.0          9.0   \n",
       "3              4.0           14.0          0.0   \n",
       "4              6.0           11.0          3.0   \n",
       "\n",
       "                                        Type_of_Loan  Delay_from_due_date  \\\n",
       "0  Credit-Builder Loan, Credit-Builder Loan, Home...                 26.0   \n",
       "1                                        Payday Loan                 10.0   \n",
       "2  Student Loan, Payday Loan, Not Specified, Mort...                  NaN   \n",
       "3                                               None                 14.0   \n",
       "4  Credit-Builder Loan, Home Equity Loan, and Aut...                 21.0   \n",
       "\n",
       "   Num_of_Delayed_Payment  ...  Credit_Mix  Outstanding_Debt  \\\n",
       "0                    11.0  ...           _        853.409973   \n",
       "1                     5.0  ...        Good       1134.829956   \n",
       "2                    25.0  ...         Bad       1263.099976   \n",
       "3                    18.0  ...    Standard        478.850006   \n",
       "4                    15.0  ...        Good       1252.459961   \n",
       "\n",
       "  Credit_Utilization_Ratio  Payment_of_Min_Amount  Total_EMI_per_month  \\\n",
       "0                31.397339                     No            50.961937   \n",
       "1                41.796799                     No            91.033905   \n",
       "2                25.681799                    Yes            76.450325   \n",
       "3                32.103165                    Yes             0.000000   \n",
       "4                28.066704                   None            89.061554   \n",
       "\n",
       "  Amount_invested_monthly                 Payment_Behaviour  Monthly_Balance  \\\n",
       "0               36.413094                           Unknown       319.647003   \n",
       "1              282.718689  High_spent_Medium_value_payments              NaN   \n",
       "2              176.776215    Low_spent_Small_value_payments       181.267792   \n",
       "3              435.937012    Low_spent_Small_value_payments       444.300842   \n",
       "4              110.509705  High_spent_Medium_value_payments       369.313171   \n",
       "\n",
       "  snapshot_date  Credit_History_Age  \n",
       "0    2024-08-01                 195  \n",
       "1    2024-08-01                 362  \n",
       "2    2024-08-01                 149  \n",
       "3    2024-08-01                 209  \n",
       "4    2024-08-01                 266  \n",
       "\n",
       "[5 rows x 22 columns]"
      ]
     },
     "execution_count": 203,
     "metadata": {},
     "output_type": "execute_result"
    }
   ],
   "source": [
    "parquet_files = glob.glob(os.path.join(\"datamart/silver/fin\", \"*.parquet\"))\n",
    "\n",
    "df_fin = spark.read.parquet(*parquet_files)\n",
    "pd_df = df_fin.limit(5).toPandas()\n",
    "pd_df\n",
    "\n"
   ]
  },
  {
   "cell_type": "code",
   "execution_count": 204,
   "id": "0f2e2f61-d1b4-47cd-8321-823a4df49ee4",
   "metadata": {},
   "outputs": [
    {
     "data": {
      "text/plain": [
       "12500"
      ]
     },
     "execution_count": 204,
     "metadata": {},
     "output_type": "execute_result"
    }
   ],
   "source": [
    "# remove type_of_loan\n",
    "\n",
    "df_fin = df_fin.drop(\"Type_of_Loan\")  # drop useless col\n",
    "\n",
    "df_fin.count()"
   ]
  },
  {
   "cell_type": "code",
   "execution_count": 205,
   "id": "840ec7a0-8a2d-436b-abcc-5e708691ec36",
   "metadata": {},
   "outputs": [
    {
     "name": "stdout",
     "output_type": "stream",
     "text": [
      "                             0\n",
      "Customer_ID                  0\n",
      "Annual_Income              371\n",
      "Monthly_Inhand_Salary      298\n",
      "Num_Bank_Accounts          168\n",
      "Num_Credit_Card            296\n",
      "Interest_Rate              270\n",
      "Num_of_Loan                582\n",
      "Delay_from_due_date        522\n",
      "Num_of_Delayed_Payment     105\n",
      "Changed_Credit_Limit       429\n",
      "Num_Credit_Inquiries       202\n",
      "Credit_Mix                   0\n",
      "Outstanding_Debt           743\n",
      "Credit_Utilization_Ratio     0\n",
      "Payment_of_Min_Amount     1438\n",
      "Total_EMI_per_month        995\n",
      "Amount_invested_monthly   1406\n",
      "Payment_Behaviour            0\n",
      "Monthly_Balance           1029\n",
      "snapshot_date                0\n",
      "Credit_History_Age           0\n"
     ]
    }
   ],
   "source": [
    "null_counts = df_fin.select([\n",
    "    F.count(F.when(F.col(c).isNull(), c)).alias(c)\n",
    "    for c in df_fin.columns\n",
    "]).toPandas()\n",
    "\n",
    "print(null_counts.T)  \n"
   ]
  },
  {
   "cell_type": "code",
   "execution_count": 206,
   "id": "57ff6701-936f-485c-b9b7-5853e0de20c0",
   "metadata": {},
   "outputs": [
    {
     "name": "stdout",
     "output_type": "stream",
     "text": [
      "                          % Null\n",
      "Customer_ID                0.000\n",
      "Annual_Income              2.968\n",
      "Monthly_Inhand_Salary      2.384\n",
      "Num_Bank_Accounts          1.344\n",
      "Num_Credit_Card            2.368\n",
      "Interest_Rate              2.160\n",
      "Num_of_Loan                4.656\n",
      "Delay_from_due_date        4.176\n",
      "Num_of_Delayed_Payment     0.840\n",
      "Changed_Credit_Limit       3.432\n",
      "Num_Credit_Inquiries       1.616\n",
      "Credit_Mix                 0.000\n",
      "Outstanding_Debt           5.944\n",
      "Credit_Utilization_Ratio   0.000\n",
      "Payment_of_Min_Amount     11.504\n",
      "Total_EMI_per_month        7.960\n",
      "Amount_invested_monthly   11.248\n",
      "Payment_Behaviour          0.000\n",
      "Monthly_Balance            8.232\n",
      "snapshot_date              0.000\n",
      "Credit_History_Age         0.000\n"
     ]
    }
   ],
   "source": [
    "rows = df_fin.count()\n",
    "nulls = df_fin.select([\n",
    "    (F.count(F.when(F.col(c).isNull(), c)) / rows * 100).alias(c)\n",
    "    for c in df_fin.columns\n",
    "])\n",
    "\n",
    "# Convert to Pandas and transpose for readability\n",
    "nulls_pdf = nulls.toPandas().T\n",
    "nulls_pdf.columns = ['% Null']\n",
    "print(nulls_pdf)\n",
    "\n"
   ]
  },
  {
   "cell_type": "code",
   "execution_count": 207,
   "id": "05a74c5e-c7ce-4664-aa77-369f6204c007",
   "metadata": {},
   "outputs": [
    {
     "name": "stdout",
     "output_type": "stream",
     "text": [
      "Dropped columns: ['Outstanding_Debt', 'Payment_of_Min_Amount', 'Total_EMI_per_month', 'Amount_invested_monthly', 'Monthly_Balance']\n"
     ]
    }
   ],
   "source": [
    "# Calculate null percentages\n",
    "rows = df_fin.count()\n",
    "nulls = df_fin.select([\n",
    "    (F.count(F.when(F.col(c).isNull(), c)) / rows * 100).alias(c)\n",
    "    for c in df_fin.columns\n",
    "])\n",
    "\n",
    "# Collect null percentages into a dict\n",
    "nulls_dict = nulls.collect()[0].asDict()\n",
    "\n",
    "# Get columns to drop\n",
    "cols_to_drop = [col for col, pct in nulls_dict.items() if pct > 5]\n",
    "\n",
    "# Drop columns from DataFrame\n",
    "df_fin = df_fin.drop(*cols_to_drop)\n",
    "\n",
    "print(\"Dropped columns:\", cols_to_drop)"
   ]
  },
  {
   "cell_type": "code",
   "execution_count": 208,
   "id": "7f930b01-b193-4a02-b7a8-88ebda9021a0",
   "metadata": {},
   "outputs": [],
   "source": [
    "df_fin = df_fin.dropna()"
   ]
  },
  {
   "cell_type": "code",
   "execution_count": 209,
   "id": "064e8351-9683-433c-9fca-8aaa7f23b08b",
   "metadata": {},
   "outputs": [
    {
     "name": "stdout",
     "output_type": "stream",
     "text": [
      "                          % Null\n",
      "Customer_ID                  0.0\n",
      "Annual_Income                0.0\n",
      "Monthly_Inhand_Salary        0.0\n",
      "Num_Bank_Accounts            0.0\n",
      "Num_Credit_Card              0.0\n",
      "Interest_Rate                0.0\n",
      "Num_of_Loan                  0.0\n",
      "Delay_from_due_date          0.0\n",
      "Num_of_Delayed_Payment       0.0\n",
      "Changed_Credit_Limit         0.0\n",
      "Num_Credit_Inquiries         0.0\n",
      "Credit_Mix                   0.0\n",
      "Credit_Utilization_Ratio     0.0\n",
      "Payment_Behaviour            0.0\n",
      "snapshot_date                0.0\n",
      "Credit_History_Age           0.0\n"
     ]
    }
   ],
   "source": [
    "rows = df_fin.count()\n",
    "nulls = df_fin.select([\n",
    "    (F.count(F.when(F.col(c).isNull(), c)) / rows * 100).alias(c)\n",
    "    for c in df_fin.columns\n",
    "])\n",
    "\n",
    "# Convert to Pandas and transpose for readability\n",
    "nulls_pdf = nulls.toPandas().T\n",
    "nulls_pdf.columns = ['% Null']\n",
    "print(nulls_pdf)\n"
   ]
  },
  {
   "cell_type": "code",
   "execution_count": 210,
   "id": "e0232c2c-b223-49d7-8edb-4cc389accf12",
   "metadata": {},
   "outputs": [
    {
     "data": {
      "text/plain": [
       "215376"
      ]
     },
     "execution_count": 210,
     "metadata": {},
     "output_type": "execute_result"
    }
   ],
   "source": [
    "clickstream_directory = \"datamart/bronze/clickstream/\"\n",
    "df_click = spark.read.csv(clickstream_directory, header=True, inferSchema=True)\n",
    "df_click.count()"
   ]
  },
  {
   "cell_type": "code",
   "execution_count": 211,
   "id": "dac74992-f3d8-42ae-ab19-6ff7066a3f8e",
   "metadata": {},
   "outputs": [
    {
     "name": "stdout",
     "output_type": "stream",
     "text": [
      "               % Null\n",
      "fe_1              0.0\n",
      "fe_2              0.0\n",
      "fe_3              0.0\n",
      "fe_4              0.0\n",
      "fe_5              0.0\n",
      "fe_6              0.0\n",
      "fe_7              0.0\n",
      "fe_8              0.0\n",
      "fe_9              0.0\n",
      "fe_10             0.0\n",
      "fe_11             0.0\n",
      "fe_12             0.0\n",
      "fe_13             0.0\n",
      "fe_14             0.0\n",
      "fe_15             0.0\n",
      "fe_16             0.0\n",
      "fe_17             0.0\n",
      "fe_18             0.0\n",
      "fe_19             0.0\n",
      "fe_20             0.0\n",
      "Customer_ID       0.0\n",
      "snapshot_date     0.0\n"
     ]
    }
   ],
   "source": [
    "# Count total rows\n",
    "rows = df_click.count()\n",
    "\n",
    "# Calculate % of nulls per column\n",
    "nulls = df_click.select([\n",
    "    (F.count(F.when(F.col(c).isNull(), c)) / rows * 100).alias(c)\n",
    "    for c in df_click.columns\n",
    "])\n",
    "\n",
    "# Display neatly\n",
    "nulls_df = nulls.toPandas().T\n",
    "nulls_df.columns = ['% Null']\n",
    "print(nulls_df)"
   ]
  },
  {
   "cell_type": "code",
   "execution_count": 212,
   "id": "a35fa1b6-886e-4a35-b668-f79a45b500d3",
   "metadata": {},
   "outputs": [],
   "source": [
    "merged_df = (\n",
    "    df_fin\n",
    "    .join(df_attr, [\"Customer_ID\", \"snapshot_date\"], \"inner\")\n",
    "    .join(df_click, [\"Customer_ID\", \"snapshot_date\"], \"inner\")\n",
    ")\n",
    "\n"
   ]
  },
  {
   "cell_type": "code",
   "execution_count": 213,
   "id": "8930aa91-5eba-44bd-b85d-857adb73f3d6",
   "metadata": {},
   "outputs": [
    {
     "data": {
      "text/plain": [
       "DataFrame[Customer_ID: string, snapshot_date: date, Annual_Income: float, Monthly_Inhand_Salary: float, Num_Bank_Accounts: float, Num_Credit_Card: float, Interest_Rate: float, Num_of_Loan: float, Delay_from_due_date: float, Num_of_Delayed_Payment: float, Changed_Credit_Limit: float, Num_Credit_Inquiries: float, Credit_Mix: string, Credit_Utilization_Ratio: float, Payment_Behaviour: string, Credit_History_Age: int, Occupation: string, fe_1: int, fe_2: int, fe_3: int, fe_4: int, fe_5: int, fe_6: int, fe_7: int, fe_8: int, fe_9: int, fe_10: int, fe_11: int, fe_12: int, fe_13: int, fe_14: int, fe_15: int, fe_16: int, fe_17: int, fe_18: int, fe_19: int, fe_20: int]"
      ]
     },
     "execution_count": 213,
     "metadata": {},
     "output_type": "execute_result"
    }
   ],
   "source": [
    "merged_df"
   ]
  },
  {
   "cell_type": "code",
   "execution_count": 214,
   "id": "28699231-3575-48f7-ad99-562fde36f63e",
   "metadata": {},
   "outputs": [
    {
     "name": "stdout",
     "output_type": "stream",
     "text": [
      "Features rows: 215376\n",
      "Labels rows: 12500\n"
     ]
    }
   ],
   "source": [
    "#read all files from gold feature store and label store\n",
    "# directories\n",
    "gold_feature_store_directory = \"datamart/gold/feature_store/\"\n",
    "gold_label_store_directory = \"datamart/gold/label_store/\"\n",
    "\n",
    "# read all feature files\n",
    "feature_files = glob.glob(os.path.join(gold_feature_store_directory, \"*.parquet\"))\n",
    "df_features = spark.read.parquet(*feature_files)\n",
    "\n",
    "# read all label files\n",
    "label_files = glob.glob(os.path.join(gold_label_store_directory, \"*.parquet\"))\n",
    "df_label = spark.read.parquet(*label_files)\n",
    "\n",
    "print(\"Features rows:\", df_features.count())\n",
    "print(\"Labels rows:\", df_label.count())\n"
   ]
  },
  {
   "cell_type": "code",
   "execution_count": 215,
   "id": "e806d59c-7b71-444a-8e3b-dc49fd14feec",
   "metadata": {},
   "outputs": [
    {
     "name": "stdout",
     "output_type": "stream",
     "text": [
      "+--------------------+-----------+-----+----------+-------------+\n",
      "|             loan_id|Customer_ID|label| label_def|snapshot_date|\n",
      "+--------------------+-----------+-----+----------+-------------+\n",
      "|CUS_0x10ac_2024_0...| CUS_0x10ac|    0|90dpd_7mob|   2025-03-01|\n",
      "|CUS_0x10c5_2024_0...| CUS_0x10c5|    1|90dpd_7mob|   2025-03-01|\n",
      "|CUS_0x1145_2024_0...| CUS_0x1145|    1|90dpd_7mob|   2025-03-01|\n",
      "|CUS_0x11ac_2024_0...| CUS_0x11ac|    0|90dpd_7mob|   2025-03-01|\n",
      "|CUS_0x122c_2024_0...| CUS_0x122c|    0|90dpd_7mob|   2025-03-01|\n",
      "|CUS_0x1274_2024_0...| CUS_0x1274|    1|90dpd_7mob|   2025-03-01|\n",
      "|CUS_0x1288_2024_0...| CUS_0x1288|    1|90dpd_7mob|   2025-03-01|\n",
      "|CUS_0x12cc_2024_0...| CUS_0x12cc|    1|90dpd_7mob|   2025-03-01|\n",
      "|CUS_0x1338_2024_0...| CUS_0x1338|    0|90dpd_7mob|   2025-03-01|\n",
      "|CUS_0x1370_2024_0...| CUS_0x1370|    1|90dpd_7mob|   2025-03-01|\n",
      "|CUS_0x1378_2024_0...| CUS_0x1378|    1|90dpd_7mob|   2025-03-01|\n",
      "|CUS_0x139b_2024_0...| CUS_0x139b|    0|90dpd_7mob|   2025-03-01|\n",
      "|CUS_0x13a9_2024_0...| CUS_0x13a9|    0|90dpd_7mob|   2025-03-01|\n",
      "|CUS_0x13ce_2024_0...| CUS_0x13ce|    0|90dpd_7mob|   2025-03-01|\n",
      "|CUS_0x147a_2024_0...| CUS_0x147a|    0|90dpd_7mob|   2025-03-01|\n",
      "|CUS_0x1510_2024_0...| CUS_0x1510|    1|90dpd_7mob|   2025-03-01|\n",
      "|CUS_0x1572_2024_0...| CUS_0x1572|    0|90dpd_7mob|   2025-03-01|\n",
      "|CUS_0x159b_2024_0...| CUS_0x159b|    0|90dpd_7mob|   2025-03-01|\n",
      "|CUS_0x15f1_2024_0...| CUS_0x15f1|    0|90dpd_7mob|   2025-03-01|\n",
      "|CUS_0x1621_2024_0...| CUS_0x1621|    0|90dpd_7mob|   2025-03-01|\n",
      "+--------------------+-----------+-----+----------+-------------+\n",
      "only showing top 20 rows\n",
      "\n"
     ]
    }
   ],
   "source": [
    "df_label.show()\n"
   ]
  },
  {
   "cell_type": "code",
   "execution_count": 216,
   "id": "5bc1b942-1450-413a-87e0-c5a6d0a7f852",
   "metadata": {},
   "outputs": [
    {
     "name": "stdout",
     "output_type": "stream",
     "text": [
      "✅ Customer_ID is unique in df_label.\n"
     ]
    }
   ],
   "source": [
    "# Count distinct vs total\n",
    "total_count = df_label.count()\n",
    "unique_count = df_label.select(\"Customer_ID\").distinct().count()\n",
    "\n",
    "if total_count == unique_count:\n",
    "    print(\"✅ Customer_ID is unique in df_label.\")\n",
    "else:\n",
    "    print(f\"⚠️ Customer_ID is NOT unique. Total rows: {total_count}, Unique IDs: {unique_count}\")"
   ]
  },
  {
   "cell_type": "code",
   "execution_count": 217,
   "id": "5b1eb68a-fef1-4204-8223-e3e479bf01cb",
   "metadata": {},
   "outputs": [
    {
     "name": "stdout",
     "output_type": "stream",
     "text": [
      "⚠️ Customer_ID is NOT unique. Total rows: 215376, Unique IDs: 8974\n"
     ]
    }
   ],
   "source": [
    "\n",
    "# Check uniqueness\n",
    "total_features = df_features.count()\n",
    "unique_features = df_features.select(\"Customer_ID\").distinct().count()\n",
    "\n",
    "if total_features == unique_features:\n",
    "    print(\"✅ Customer_ID is unique in df_features.\")\n",
    "else:\n",
    "    print(f\"⚠️ Customer_ID is NOT unique. Total rows: {total_features}, Unique IDs: {unique_features}\")"
   ]
  },
  {
   "cell_type": "code",
   "execution_count": 218,
   "id": "7b09499c-56da-4ff7-8ccb-b3e0a31e1cc2",
   "metadata": {},
   "outputs": [
    {
     "name": "stdout",
     "output_type": "stream",
     "text": [
      "+---------------------+-----------+-----+----------+-------------+\n",
      "|loan_id              |Customer_ID|label|label_def |snapshot_date|\n",
      "+---------------------+-----------+-----+----------+-------------+\n",
      "|CUS_0x1690_2023_03_01|CUS_0x1690 |1    |90dpd_7mob|2023-10-01   |\n",
      "+---------------------+-----------+-----+----------+-------------+\n",
      "\n"
     ]
    }
   ],
   "source": [
    "df_label.filter(F.col(\"Customer_ID\") == \"CUS_0x1690\").show(truncate=False)\n"
   ]
  },
  {
   "cell_type": "code",
   "execution_count": 219,
   "id": "13c6db76-4b16-4623-bf84-cc0cb073ca8d",
   "metadata": {},
   "outputs": [
    {
     "name": "stdout",
     "output_type": "stream",
     "text": [
      "+-----------+-------------+---------------------+-----------------+---------------+-------------+-----------+-------------------+----------------------+--------------------+--------------------+----------+------------------------+--------------------------------+------------------+----------+----+----+----+----+----+----+----+----+----+-----+-----+-----+-----+-----+-----+-----+-----+-----+-----+-----+-------------+\n",
      "|Customer_ID|Annual_Income|Monthly_Inhand_Salary|Num_Bank_Accounts|Num_Credit_Card|Interest_Rate|Num_of_Loan|Delay_from_due_date|Num_of_Delayed_Payment|Changed_Credit_Limit|Num_Credit_Inquiries|Credit_Mix|Credit_Utilization_Ratio|Payment_Behaviour               |Credit_History_Age|Occupation|fe_1|fe_2|fe_3|fe_4|fe_5|fe_6|fe_7|fe_8|fe_9|fe_10|fe_11|fe_12|fe_13|fe_14|fe_15|fe_16|fe_17|fe_18|fe_19|fe_20|snapshot_date|\n",
      "+-----------+-------------+---------------------+-----------------+---------------+-------------+-----------+-------------------+----------------------+--------------------+--------------------+----------+------------------------+--------------------------------+------------------+----------+----+----+----+----+----+----+----+----+----+-----+-----+-----+-----+-----+-----+-----+-----+-----+-----+-----+-------------+\n",
      "|CUS_0x1690 |51266.34     |4089.195             |6.0              |6.0            |24.0         |7.0        |19.0               |21.0                  |26.79               |10.0                |_         |35.495575               |High_spent_Medium_value_payments|48                |Architect |113 |190 |43  |70  |235 |-73 |83  |140 |25  |237  |138  |182  |197  |-77  |227  |393  |153  |169  |48   |4    |2024-03-01   |\n",
      "|CUS_0x1690 |51266.34     |4089.195             |6.0              |6.0            |24.0         |7.0        |19.0               |21.0                  |26.79               |10.0                |_         |35.495575               |High_spent_Medium_value_payments|48                |Architect |73  |115 |6   |153 |218 |194 |3   |111 |75  |1    |54   |110  |106  |194  |123  |81   |307  |258  |133  |189  |2024-09-01   |\n",
      "|CUS_0x1690 |51266.34     |4089.195             |6.0              |6.0            |24.0         |7.0        |19.0               |21.0                  |26.79               |10.0                |_         |35.495575               |High_spent_Medium_value_payments|48                |Architect |177 |95  |61  |122 |117 |109 |97  |216 |283 |91   |-27  |62   |218  |-42  |-171 |66   |13   |-2   |84   |36   |2023-05-01   |\n",
      "|CUS_0x1690 |51266.34     |4089.195             |6.0              |6.0            |24.0         |7.0        |19.0               |21.0                  |26.79               |10.0                |_         |35.495575               |High_spent_Medium_value_payments|48                |Architect |-1  |25  |16  |212 |161 |39  |14  |10  |183 |129  |37   |139  |335  |-143 |242  |220  |66   |94   |143  |-34  |2023-02-01   |\n",
      "|CUS_0x1690 |51266.34     |4089.195             |6.0              |6.0            |24.0         |7.0        |19.0               |21.0                  |26.79               |10.0                |_         |35.495575               |High_spent_Medium_value_payments|48                |Architect |166 |231 |15  |225 |26  |40  |267 |225 |69  |30   |25   |218  |-39  |26   |260  |169  |97   |132  |79   |135  |2024-10-01   |\n",
      "|CUS_0x1690 |51266.34     |4089.195             |6.0              |6.0            |24.0         |7.0        |19.0               |21.0                  |26.79               |10.0                |_         |35.495575               |High_spent_Medium_value_payments|48                |Architect |76  |110 |228 |244 |34  |-24 |-92 |88  |155 |96   |67   |2    |-17  |345  |152  |175  |267  |108  |43   |158  |2023-01-01   |\n",
      "|CUS_0x1690 |51266.34     |4089.195             |6.0              |6.0            |24.0         |7.0        |19.0               |21.0                  |26.79               |10.0                |_         |35.495575               |High_spent_Medium_value_payments|48                |Architect |84  |229 |181 |186 |124 |120 |12  |15  |12  |98   |176  |87   |5    |216  |9    |299  |37   |72   |238  |216  |2023-10-01   |\n",
      "|CUS_0x1690 |51266.34     |4089.195             |6.0              |6.0            |24.0         |7.0        |19.0               |21.0                  |26.79               |10.0                |_         |35.495575               |High_spent_Medium_value_payments|48                |Architect |11  |285 |-37 |72  |30  |-84 |68  |237 |-21 |95   |-49  |-118 |256  |67   |1    |257  |155  |107  |53   |207  |2023-04-01   |\n",
      "|CUS_0x1690 |51266.34     |4089.195             |6.0              |6.0            |24.0         |7.0        |19.0               |21.0                  |26.79               |10.0                |_         |35.495575               |High_spent_Medium_value_payments|48                |Architect |0   |53  |-84 |32  |213 |84  |160 |75  |146 |130  |-49  |355  |43   |77   |177  |146  |242  |140  |150  |98   |2024-05-01   |\n",
      "|CUS_0x1690 |51266.34     |4089.195             |6.0              |6.0            |24.0         |7.0        |19.0               |21.0                  |26.79               |10.0                |_         |35.495575               |High_spent_Medium_value_payments|48                |Architect |175 |-66 |71  |15  |-78 |102 |0   |130 |23  |121  |208  |-7   |95   |-88  |32   |133  |138  |90   |79   |207  |2024-11-01   |\n",
      "|CUS_0x1690 |51266.34     |4089.195             |6.0              |6.0            |24.0         |7.0        |19.0               |21.0                  |26.79               |10.0                |_         |35.495575               |High_spent_Medium_value_payments|48                |Architect |255 |212 |99  |-1  |-51 |-63 |61  |-44 |26  |144  |122  |23   |104  |199  |150  |165  |-73  |22   |-50  |20   |2023-03-01   |\n",
      "|CUS_0x1690 |51266.34     |4089.195             |6.0              |6.0            |24.0         |7.0        |19.0               |21.0                  |26.79               |10.0                |_         |35.495575               |High_spent_Medium_value_payments|48                |Architect |222 |209 |173 |109 |-115|148 |117 |271 |-25 |45   |44   |283  |145  |268  |-31  |54   |150  |167  |81   |25   |2024-01-01   |\n",
      "|CUS_0x1690 |51266.34     |4089.195             |6.0              |6.0            |24.0         |7.0        |19.0               |21.0                  |26.79               |10.0                |_         |35.495575               |High_spent_Medium_value_payments|48                |Architect |73  |151 |24  |143 |258 |137 |-45 |163 |37  |26   |301  |109  |209  |0    |101  |72   |20   |158  |-52  |239  |2023-09-01   |\n",
      "|CUS_0x1690 |51266.34     |4089.195             |6.0              |6.0            |24.0         |7.0        |19.0               |21.0                  |26.79               |10.0                |_         |35.495575               |High_spent_Medium_value_payments|48                |Architect |70  |128 |122 |-21 |211 |-9  |87  |101 |260 |174  |47   |205  |-119 |133  |316  |161  |103  |222  |274  |91   |2023-08-01   |\n",
      "|CUS_0x1690 |51266.34     |4089.195             |6.0              |6.0            |24.0         |7.0        |19.0               |21.0                  |26.79               |10.0                |_         |35.495575               |High_spent_Medium_value_payments|48                |Architect |154 |-150|75  |85  |142 |190 |141 |61  |243 |303  |-53  |166  |64   |103  |46   |84   |40   |-27  |72   |2    |2023-06-01   |\n",
      "|CUS_0x1690 |51266.34     |4089.195             |6.0              |6.0            |24.0         |7.0        |19.0               |21.0                  |26.79               |10.0                |_         |35.495575               |High_spent_Medium_value_payments|48                |Architect |112 |77  |110 |143 |-56 |326 |234 |65  |4   |-1   |45   |69   |115  |-45  |10   |12   |106  |137  |-52  |-56  |2024-02-01   |\n",
      "|CUS_0x1690 |51266.34     |4089.195             |6.0              |6.0            |24.0         |7.0        |19.0               |21.0                  |26.79               |10.0                |_         |35.495575               |High_spent_Medium_value_payments|48                |Architect |274 |95  |198 |182 |181 |83  |-53 |40  |199 |274  |155  |64   |233  |154  |-15  |89   |85   |244  |82   |99   |2024-04-01   |\n",
      "|CUS_0x1690 |51266.34     |4089.195             |6.0              |6.0            |24.0         |7.0        |19.0               |21.0                  |26.79               |10.0                |_         |35.495575               |High_spent_Medium_value_payments|48                |Architect |194 |-40 |135 |152 |155 |60  |194 |-95 |-18 |201  |57   |202  |49   |-80  |178  |-6   |179  |67   |139  |57   |2023-12-01   |\n",
      "|CUS_0x1690 |51266.34     |4089.195             |6.0              |6.0            |24.0         |7.0        |19.0               |21.0                  |26.79               |10.0                |_         |35.495575               |High_spent_Medium_value_payments|48                |Architect |70  |30  |96  |53  |-76 |234 |50  |131 |21  |123  |124  |239  |32   |166  |147  |158  |103  |82   |44   |9    |2024-06-01   |\n",
      "|CUS_0x1690 |51266.34     |4089.195             |6.0              |6.0            |24.0         |7.0        |19.0               |21.0                  |26.79               |10.0                |_         |35.495575               |High_spent_Medium_value_payments|48                |Architect |176 |13  |34  |56  |88  |228 |214 |37  |0   |111  |181  |112  |63   |47   |165  |135  |145  |223  |11   |139  |2023-07-01   |\n",
      "+-----------+-------------+---------------------+-----------------+---------------+-------------+-----------+-------------------+----------------------+--------------------+--------------------+----------+------------------------+--------------------------------+------------------+----------+----+----+----+----+----+----+----+----+----+-----+-----+-----+-----+-----+-----+-----+-----+-----+-----+-----+-------------+\n",
      "only showing top 20 rows\n",
      "\n"
     ]
    }
   ],
   "source": [
    "df_features.filter(F.col(\"Customer_ID\") == \"CUS_0x1690\").show(truncate=False)"
   ]
  },
  {
   "cell_type": "code",
   "execution_count": 220,
   "id": "b8236e43-fd81-43b8-a038-85be559619a5",
   "metadata": {},
   "outputs": [],
   "source": [
    "\n",
    "df_joined = (\n",
    "    df_features.alias(\"f\")\n",
    "    .join(\n",
    "        df_label.alias(\"y\"),\n",
    "        on=F.col(\"f.Customer_ID\") == F.col(\"y.Customer_ID\"),\n",
    "        how=\"inner\"\n",
    "    )\n",
    "    .filter(F.col(\"f.snapshot_date\") < F.col(\"y.snapshot_date\"))\n",
    ")\n"
   ]
  },
  {
   "cell_type": "code",
   "execution_count": 221,
   "id": "0645be68-fb64-4a62-b0f4-6ceb97afc7e1",
   "metadata": {},
   "outputs": [
    {
     "name": "stdout",
     "output_type": "stream",
     "text": [
      "+-----------+-------------+---------------------+-----------------+---------------+-------------+-----------+-------------------+----------------------+--------------------+--------------------+----------+------------------------+------------------------------+------------------+----------+----+----+----+----+----+----+----+----+----+-----+-----+-----+-----+-----+-----+-----+-----+-----+-----+-----+-------------+---------------------+-----------+-----+----------+-------------+\n",
      "|Customer_ID|Annual_Income|Monthly_Inhand_Salary|Num_Bank_Accounts|Num_Credit_Card|Interest_Rate|Num_of_Loan|Delay_from_due_date|Num_of_Delayed_Payment|Changed_Credit_Limit|Num_Credit_Inquiries|Credit_Mix|Credit_Utilization_Ratio|Payment_Behaviour             |Credit_History_Age|Occupation|fe_1|fe_2|fe_3|fe_4|fe_5|fe_6|fe_7|fe_8|fe_9|fe_10|fe_11|fe_12|fe_13|fe_14|fe_15|fe_16|fe_17|fe_18|fe_19|fe_20|snapshot_date|loan_id              |Customer_ID|label|label_def |snapshot_date|\n",
      "+-----------+-------------+---------------------+-----------------+---------------+-------------+-----------+-------------------+----------------------+--------------------+--------------------+----------+------------------------+------------------------------+------------------+----------+----+----+----+----+----+----+----+----+----+-----+-----+-----+-----+-----+-----+-----+-----+-----+-----+-----+-------------+---------------------+-----------+-----+----------+-------------+\n",
      "|CUS_0x5a8b |NULL         |NULL                 |NULL             |NULL           |NULL         |NULL       |NULL               |NULL                  |NULL                |NULL                |NULL      |NULL                    |NULL                          |NULL              |NULL      |232 |54  |192 |249 |309 |154 |207 |139 |133 |111  |80   |131  |-58  |-18  |169  |-27  |119  |106  |-18  |188  |2024-03-01   |CUS_0x5a8b_2024_02_01|CUS_0x5a8b |1    |90dpd_7mob|2024-09-01   |\n",
      "|CUS_0x78d3 |17773.775    |1388.148             |3.0              |1.0            |2.0          |2.0        |5.0                |2.0                   |4.57                |4.0                 |Good      |31.760332               |Low_spent_Small_value_payments|318               |Journalist|114 |91  |97  |210 |158 |-73 |20  |-53 |119 |193  |73   |175  |25   |264  |272  |305  |133  |126  |81   |83   |2024-03-01   |CUS_0x78d3_2024_02_01|CUS_0x78d3 |0    |90dpd_7mob|2024-09-01   |\n",
      "|CUS_0x7f5d |20615.79     |1761.9825            |7.0              |7.0            |21.0         |7.0        |56.0               |13.0                  |10.01               |8.0                 |Standard  |37.84495                |Low_spent_Small_value_payments|148               |Teacher   |201 |147 |2   |162 |204 |55  |238 |11  |19  |164  |-2   |30   |153  |37   |68   |289  |228  |258  |200  |-96  |2024-03-01   |CUS_0x7f5d_2024_02_01|CUS_0x7f5d |1    |90dpd_7mob|2024-09-01   |\n",
      "|CUS_0x8eb2 |NULL         |NULL                 |NULL             |NULL           |NULL         |NULL       |NULL               |NULL                  |NULL                |NULL                |NULL      |NULL                    |NULL                          |NULL              |NULL      |147 |92  |63  |165 |157 |211 |141 |115 |133 |51   |-6   |17   |111  |96   |14   |159  |14   |24   |44   |165  |2024-03-01   |CUS_0x8eb2_2024_02_01|CUS_0x8eb2 |0    |90dpd_7mob|2024-09-01   |\n",
      "|CUS_0xf6c  |76046.25     |6082.1875            |7.0              |3.0            |16.0         |3.0        |17.0               |19.0                  |3.29                |9.0                 |Standard  |22.548635               |Low_spent_Small_value_payments|368               |Writer    |-151|18  |41  |215 |291 |-15 |19  |63  |-32 |153  |225  |176  |199  |1    |116  |171  |15   |289  |65   |172  |2024-03-01   |CUS_0xf6c_2024_02_01 |CUS_0xf6c  |0    |90dpd_7mob|2024-09-01   |\n",
      "+-----------+-------------+---------------------+-----------------+---------------+-------------+-----------+-------------------+----------------------+--------------------+--------------------+----------+------------------------+------------------------------+------------------+----------+----+----+----+----+----+----+----+----+----+-----+-----+-----+-----+-----+-----+-----+-----+-----+-----+-----+-------------+---------------------+-----------+-----+----------+-------------+\n",
      "only showing top 5 rows\n",
      "\n"
     ]
    }
   ],
   "source": [
    "df_joined.show(5, truncate=False)\n"
   ]
  },
  {
   "cell_type": "code",
   "execution_count": 222,
   "id": "2c056763-f548-4a17-88c0-b82787e1f94d",
   "metadata": {},
   "outputs": [
    {
     "name": "stdout",
     "output_type": "stream",
     "text": [
      "+-----------+-------------+---------------------+-----------------+---------------+-------------+-----------+-------------------+----------------------+--------------------+--------------------+----------+------------------------+--------------------------------+------------------+----------+----+----+----+----+----+----+----+----+----+-----+-----+-----+-----+-----+-----+-----+-----+-----+-----+-----+-------------+---------------------+-----------+-----+----------+-------------+\n",
      "|Customer_ID|Annual_Income|Monthly_Inhand_Salary|Num_Bank_Accounts|Num_Credit_Card|Interest_Rate|Num_of_Loan|Delay_from_due_date|Num_of_Delayed_Payment|Changed_Credit_Limit|Num_Credit_Inquiries|Credit_Mix|Credit_Utilization_Ratio|Payment_Behaviour               |Credit_History_Age|Occupation|fe_1|fe_2|fe_3|fe_4|fe_5|fe_6|fe_7|fe_8|fe_9|fe_10|fe_11|fe_12|fe_13|fe_14|fe_15|fe_16|fe_17|fe_18|fe_19|fe_20|snapshot_date|loan_id              |Customer_ID|label|label_def |snapshot_date|\n",
      "+-----------+-------------+---------------------+-----------------+---------------+-------------+-----------+-------------------+----------------------+--------------------+--------------------+----------+------------------------+--------------------------------+------------------+----------+----+----+----+----+----+----+----+----+----+-----+-----+-----+-----+-----+-----+-----+-----+-----+-----+-----+-------------+---------------------+-----------+-----+----------+-------------+\n",
      "|CUS_0x1690 |51266.34     |4089.195             |6.0              |6.0            |24.0         |7.0        |19.0               |21.0                  |26.79               |10.0                |_         |35.495575               |High_spent_Medium_value_payments|48                |Architect |177 |95  |61  |122 |117 |109 |97  |216 |283 |91   |-27  |62   |218  |-42  |-171 |66   |13   |-2   |84   |36   |2023-05-01   |CUS_0x1690_2023_03_01|CUS_0x1690 |1    |90dpd_7mob|2023-10-01   |\n",
      "|CUS_0x1690 |51266.34     |4089.195             |6.0              |6.0            |24.0         |7.0        |19.0               |21.0                  |26.79               |10.0                |_         |35.495575               |High_spent_Medium_value_payments|48                |Architect |-1  |25  |16  |212 |161 |39  |14  |10  |183 |129  |37   |139  |335  |-143 |242  |220  |66   |94   |143  |-34  |2023-02-01   |CUS_0x1690_2023_03_01|CUS_0x1690 |1    |90dpd_7mob|2023-10-01   |\n",
      "|CUS_0x1690 |51266.34     |4089.195             |6.0              |6.0            |24.0         |7.0        |19.0               |21.0                  |26.79               |10.0                |_         |35.495575               |High_spent_Medium_value_payments|48                |Architect |76  |110 |228 |244 |34  |-24 |-92 |88  |155 |96   |67   |2    |-17  |345  |152  |175  |267  |108  |43   |158  |2023-01-01   |CUS_0x1690_2023_03_01|CUS_0x1690 |1    |90dpd_7mob|2023-10-01   |\n",
      "|CUS_0x1690 |51266.34     |4089.195             |6.0              |6.0            |24.0         |7.0        |19.0               |21.0                  |26.79               |10.0                |_         |35.495575               |High_spent_Medium_value_payments|48                |Architect |11  |285 |-37 |72  |30  |-84 |68  |237 |-21 |95   |-49  |-118 |256  |67   |1    |257  |155  |107  |53   |207  |2023-04-01   |CUS_0x1690_2023_03_01|CUS_0x1690 |1    |90dpd_7mob|2023-10-01   |\n",
      "|CUS_0x1690 |51266.34     |4089.195             |6.0              |6.0            |24.0         |7.0        |19.0               |21.0                  |26.79               |10.0                |_         |35.495575               |High_spent_Medium_value_payments|48                |Architect |255 |212 |99  |-1  |-51 |-63 |61  |-44 |26  |144  |122  |23   |104  |199  |150  |165  |-73  |22   |-50  |20   |2023-03-01   |CUS_0x1690_2023_03_01|CUS_0x1690 |1    |90dpd_7mob|2023-10-01   |\n",
      "|CUS_0x1690 |51266.34     |4089.195             |6.0              |6.0            |24.0         |7.0        |19.0               |21.0                  |26.79               |10.0                |_         |35.495575               |High_spent_Medium_value_payments|48                |Architect |73  |151 |24  |143 |258 |137 |-45 |163 |37  |26   |301  |109  |209  |0    |101  |72   |20   |158  |-52  |239  |2023-09-01   |CUS_0x1690_2023_03_01|CUS_0x1690 |1    |90dpd_7mob|2023-10-01   |\n",
      "|CUS_0x1690 |51266.34     |4089.195             |6.0              |6.0            |24.0         |7.0        |19.0               |21.0                  |26.79               |10.0                |_         |35.495575               |High_spent_Medium_value_payments|48                |Architect |70  |128 |122 |-21 |211 |-9  |87  |101 |260 |174  |47   |205  |-119 |133  |316  |161  |103  |222  |274  |91   |2023-08-01   |CUS_0x1690_2023_03_01|CUS_0x1690 |1    |90dpd_7mob|2023-10-01   |\n",
      "|CUS_0x1690 |51266.34     |4089.195             |6.0              |6.0            |24.0         |7.0        |19.0               |21.0                  |26.79               |10.0                |_         |35.495575               |High_spent_Medium_value_payments|48                |Architect |154 |-150|75  |85  |142 |190 |141 |61  |243 |303  |-53  |166  |64   |103  |46   |84   |40   |-27  |72   |2    |2023-06-01   |CUS_0x1690_2023_03_01|CUS_0x1690 |1    |90dpd_7mob|2023-10-01   |\n",
      "|CUS_0x1690 |51266.34     |4089.195             |6.0              |6.0            |24.0         |7.0        |19.0               |21.0                  |26.79               |10.0                |_         |35.495575               |High_spent_Medium_value_payments|48                |Architect |176 |13  |34  |56  |88  |228 |214 |37  |0   |111  |181  |112  |63   |47   |165  |135  |145  |223  |11   |139  |2023-07-01   |CUS_0x1690_2023_03_01|CUS_0x1690 |1    |90dpd_7mob|2023-10-01   |\n",
      "+-----------+-------------+---------------------+-----------------+---------------+-------------+-----------+-------------------+----------------------+--------------------+--------------------+----------+------------------------+--------------------------------+------------------+----------+----+----+----+----+----+----+----+----+----+-----+-----+-----+-----+-----+-----+-----+-----+-----+-----+-----+-------------+---------------------+-----------+-----+----------+-------------+\n",
      "\n"
     ]
    }
   ],
   "source": [
    "df_joined.filter(F.col(\"f.Customer_ID\") == \"CUS_0x1690\").show(truncate=False)"
   ]
  },
  {
   "cell_type": "code",
   "execution_count": 223,
   "id": "083f973c-a360-4e2f-8d95-ef95dee1a323",
   "metadata": {},
   "outputs": [
    {
     "name": "stdout",
     "output_type": "stream",
     "text": [
      "+-------------+-------------+---------------------+-----------------+---------------+-------------+-----------+-------------------+----------------------+--------------------+--------------------+----------+------------------------+--------------------------------+------------------+----------+----+----+----+----+----+----+----+----+----+-----+-----+-----+-----+-----+-----+-----+-----+-----+-----+-----+---------------+---------------------+-------------+-----+----------+-------------------+\n",
      "|f_Customer_ID|Annual_Income|Monthly_Inhand_Salary|Num_Bank_Accounts|Num_Credit_Card|Interest_Rate|Num_of_Loan|Delay_from_due_date|Num_of_Delayed_Payment|Changed_Credit_Limit|Num_Credit_Inquiries|Credit_Mix|Credit_Utilization_Ratio|Payment_Behaviour               |Credit_History_Age|Occupation|fe_1|fe_2|fe_3|fe_4|fe_5|fe_6|fe_7|fe_8|fe_9|fe_10|fe_11|fe_12|fe_13|fe_14|fe_15|fe_16|fe_17|fe_18|fe_19|fe_20|f_snapshot_date|loan_id              |y_Customer_ID|label|label_def |label_snapshot_date|\n",
      "+-------------+-------------+---------------------+-----------------+---------------+-------------+-----------+-------------------+----------------------+--------------------+--------------------+----------+------------------------+--------------------------------+------------------+----------+----+----+----+----+----+----+----+----+----+-----+-----+-----+-----+-----+-----+-----+-----+-----+-----+-----+---------------+---------------------+-------------+-----+----------+-------------------+\n",
      "|CUS_0x5a8b   |NULL         |NULL                 |NULL             |NULL           |NULL         |NULL       |NULL               |NULL                  |NULL                |NULL                |NULL      |NULL                    |NULL                            |NULL              |NULL      |232 |54  |192 |249 |309 |154 |207 |139 |133 |111  |80   |131  |-58  |-18  |169  |-27  |119  |106  |-18  |188  |2024-03-01     |CUS_0x5a8b_2024_02_01|CUS_0x5a8b   |1    |90dpd_7mob|2024-09-01         |\n",
      "|CUS_0x78d3   |17773.775    |1388.148             |3.0              |1.0            |2.0          |2.0        |5.0                |2.0                   |4.57                |4.0                 |Good      |31.760332               |Low_spent_Small_value_payments  |318               |Journalist|114 |91  |97  |210 |158 |-73 |20  |-53 |119 |193  |73   |175  |25   |264  |272  |305  |133  |126  |81   |83   |2024-03-01     |CUS_0x78d3_2024_02_01|CUS_0x78d3   |0    |90dpd_7mob|2024-09-01         |\n",
      "|CUS_0x7f5d   |20615.79     |1761.9825            |7.0              |7.0            |21.0         |7.0        |56.0               |13.0                  |10.01               |8.0                 |Standard  |37.84495                |Low_spent_Small_value_payments  |148               |Teacher   |201 |147 |2   |162 |204 |55  |238 |11  |19  |164  |-2   |30   |153  |37   |68   |289  |228  |258  |200  |-96  |2024-03-01     |CUS_0x7f5d_2024_02_01|CUS_0x7f5d   |1    |90dpd_7mob|2024-09-01         |\n",
      "|CUS_0x8eb2   |NULL         |NULL                 |NULL             |NULL           |NULL         |NULL       |NULL               |NULL                  |NULL                |NULL                |NULL      |NULL                    |NULL                            |NULL              |NULL      |147 |92  |63  |165 |157 |211 |141 |115 |133 |51   |-6   |17   |111  |96   |14   |159  |14   |24   |44   |165  |2024-03-01     |CUS_0x8eb2_2024_02_01|CUS_0x8eb2   |0    |90dpd_7mob|2024-09-01         |\n",
      "|CUS_0xf6c    |76046.25     |6082.1875            |7.0              |3.0            |16.0         |3.0        |17.0               |19.0                  |3.29                |9.0                 |Standard  |22.548635               |Low_spent_Small_value_payments  |368               |Writer    |-151|18  |41  |215 |291 |-15 |19  |63  |-32 |153  |225  |176  |199  |1    |116  |171  |15   |289  |65   |172  |2024-03-01     |CUS_0xf6c_2024_02_01 |CUS_0xf6c    |0    |90dpd_7mob|2024-09-01         |\n",
      "|CUS_0x1ed5   |18965.35     |1317.4458            |10.0             |7.0            |20.0         |3.0        |21.0               |18.0                  |7.33                |6.0                 |Bad       |27.237741               |Low_spent_Small_value_payments  |96                |Teacher   |135 |200 |274 |6   |178 |18  |101 |63  |199 |209  |112  |-56  |-21  |57   |150  |-87  |-49  |-54  |71   |251  |2024-03-01     |CUS_0x1ed5_2024_04_01|CUS_0x1ed5   |1    |90dpd_7mob|2024-11-01         |\n",
      "|CUS_0x5479   |29365.12     |2524.0933            |5.0              |5.0            |12.0         |1.0        |11.0               |11.0                  |7.04                |5.0                 |_         |25.221605               |Low_spent_Large_value_payments  |316               |Musician  |75  |205 |67  |82  |83  |243 |252 |-48 |81  |6    |8    |204  |221  |25   |218  |72   |81   |22   |95   |51   |2024-03-01     |CUS_0x5479_2024_04_01|CUS_0x5479   |0    |90dpd_7mob|2024-11-01         |\n",
      "|CUS_0x7e8d   |NULL         |NULL                 |NULL             |NULL           |NULL         |NULL       |NULL               |NULL                  |NULL                |NULL                |NULL      |NULL                    |NULL                            |NULL              |NULL      |-34 |55  |-53 |100 |243 |135 |29  |74  |285 |8    |202  |95   |32   |74   |136  |66   |124  |12   |47   |70   |2024-03-01     |CUS_0x7e8d_2024_04_01|CUS_0x7e8d   |0    |90dpd_7mob|2024-11-01         |\n",
      "|CUS_0xb38d   |18409.79     |1594.1492            |7.0              |10.0           |16.0         |5.0        |33.0               |25.0                  |5.16                |11.0                |Bad       |33.87914                |Low_spent_Small_value_payments  |111               |Teacher   |-69 |140 |137 |205 |37  |207 |192 |123 |31  |122  |144  |161  |197  |21   |-1   |77   |148  |65   |45   |-41  |2024-03-01     |CUS_0xb38d_2024_04_01|CUS_0xb38d   |1    |90dpd_7mob|2024-11-01         |\n",
      "|CUS_0xafeb   |15910.33     |1111.8608            |8.0              |8.0            |21.0         |9.0        |16.0               |16.0                  |15.26               |8.0                 |_         |30.943031               |High_spent_Medium_value_payments|170               |Manager   |117 |84  |0   |130 |112 |124 |112 |136 |61  |195  |264  |192  |241  |84   |89   |127  |242  |34   |189  |195  |2024-03-01     |CUS_0xafeb_2024_03_01|CUS_0xafeb   |0    |90dpd_7mob|2024-10-01         |\n",
      "|CUS_0x3c41   |38561.33     |3289.444             |0.0              |6.0            |10.0         |0.0        |5.0                |0.0                   |2.34                |2.0                 |_         |25.851448               |High_spent_Small_value_payments |330               |Manager   |194 |-105|-5  |115 |94  |-6  |112 |122 |213 |47   |10   |-18  |-5   |156  |76   |190  |52   |-17  |52   |-24  |2024-03-01     |CUS_0x3c41_2024_06_01|CUS_0x3c41   |0    |90dpd_7mob|2025-01-01         |\n",
      "|CUS_0x7250   |NULL         |NULL                 |NULL             |NULL           |NULL         |NULL       |NULL               |NULL                  |NULL                |NULL                |NULL      |NULL                    |NULL                            |NULL              |NULL      |102 |-167|-133|77  |56  |18  |265 |88  |-11 |-27  |251  |164  |-14  |111  |187  |32   |128  |79   |32   |304  |2024-03-01     |CUS_0x7250_2024_06_01|CUS_0x7250   |0    |90dpd_7mob|2025-01-01         |\n",
      "|CUS_0x99c2   |15878.09     |1068.1742            |5.0              |3.0            |18.0         |3.0        |11.0               |9.0                   |11.31               |8.0                 |Standard  |25.33229                |Low_spent_Large_value_payments  |80                |Manager   |116 |149 |34  |64  |21  |146 |122 |-41 |257 |-38  |61   |168  |379  |39   |96   |22   |14   |61   |70   |31   |2024-03-01     |CUS_0x99c2_2024_06_01|CUS_0x99c2   |1    |90dpd_7mob|2025-01-01         |\n",
      "|CUS_0x6320   |72309.42     |6135.785             |1.0              |5.0            |2.0          |0.0        |10.0               |11.0                  |4.29                |1.0                 |Good      |39.246788               |High_spent_Large_value_payments |391               |Scientist |-3  |252 |-50 |109 |154 |183 |47  |85  |137 |211  |67   |188  |86   |50   |161  |156  |81   |190  |176  |130  |2024-03-01     |CUS_0x6320_2024_05_01|CUS_0x6320   |0    |90dpd_7mob|2024-12-01         |\n",
      "|CUS_0xc571   |79494.4      |6501.533             |4.0              |3.0            |22.0         |5.0        |8.0                |10.0                  |10.92               |12.0                |_         |37.091152               |Unknown                         |216               |Developer |8   |3   |103 |69  |105 |130 |158 |246 |323 |123  |140  |246  |-47  |152  |-5   |79   |68   |-147 |43   |73   |2024-03-01     |CUS_0xc571_2024_05_01|CUS_0xc571   |0    |90dpd_7mob|2024-12-01         |\n",
      "|CUS_0x4b6b   |66484.36     |5595.3633            |3.0              |3.0            |26.0         |3.0        |23.0               |18.0                  |18.77               |8.0                 |Standard  |27.754875               |Low_spent_Large_value_payments  |116               |Developer |116 |-96 |24  |119 |-34 |250 |158 |167 |192 |84   |-14  |25   |-122 |-19  |178  |35   |87   |137  |255  |104  |2024-03-01     |CUS_0x4b6b_2023_10_01|CUS_0x4b6b   |0    |90dpd_7mob|2024-05-01         |\n",
      "|CUS_0x878c   |NULL         |NULL                 |NULL             |NULL           |NULL         |NULL       |NULL               |NULL                  |NULL                |NULL                |NULL      |NULL                    |NULL                            |NULL              |NULL      |61  |-86 |-75 |53  |199 |-100|80  |-147|253 |102  |167  |61   |13   |218  |130  |79   |141  |234  |73   |59   |2024-03-01     |CUS_0x878c_2023_10_01|CUS_0x878c   |1    |90dpd_7mob|2024-05-01         |\n",
      "|CUS_0x42fb   |NULL         |NULL                 |NULL             |NULL           |NULL         |NULL       |NULL               |NULL                  |NULL                |NULL                |NULL      |NULL                    |NULL                            |NULL              |NULL      |44  |24  |85  |122 |36  |24  |-89 |67  |-31 |52   |125  |136  |222  |126  |-67  |-2   |117  |62   |-15  |110  |2024-03-01     |CUS_0x42fb_2023_12_01|CUS_0x42fb   |0    |90dpd_7mob|2024-07-01         |\n",
      "|CUS_0x2444   |NULL         |NULL                 |NULL             |NULL           |NULL         |NULL       |NULL               |NULL                  |NULL                |NULL                |NULL      |NULL                    |NULL                            |NULL              |NULL      |68  |-39 |-109|-30 |40  |-20 |169 |104 |109 |140  |234  |139  |220  |120  |142  |244  |147  |58   |285  |190  |2024-03-01     |CUS_0x2444_2024_01_01|CUS_0x2444   |1    |90dpd_7mob|2024-08-01         |\n",
      "|CUS_0x33d2   |31993.78     |2942.1484            |6.0              |6.0            |7.0          |2.0        |8.0                |16.0                  |6.28                |1.0                 |Standard  |36.012794               |Low_spent_Large_value_payments  |209               |Scientist |180 |-3  |153 |-32 |89  |70  |19  |288 |177 |64   |112  |-102 |-46  |55   |141  |76   |260  |88   |90   |20   |2024-03-01     |CUS_0x33d2_2024_01_01|CUS_0x33d2   |0    |90dpd_7mob|2024-08-01         |\n",
      "+-------------+-------------+---------------------+-----------------+---------------+-------------+-----------+-------------------+----------------------+--------------------+--------------------+----------+------------------------+--------------------------------+------------------+----------+----+----+----+----+----+----+----+----+----+-----+-----+-----+-----+-----+-----+-----+-----+-----+-----+-----+---------------+---------------------+-------------+-----+----------+-------------------+\n",
      "only showing top 20 rows\n",
      "\n"
     ]
    }
   ],
   "source": [
    "clean = (\n",
    "    df_joined\n",
    "    .select(\n",
    "        # features (prefix f_)\n",
    "        *[F.col(f\"f.{c}\").alias(c if c not in [\"Customer_ID\",\"snapshot_date\"] else f\"f_{c}\")\n",
    "          for c in df_features.columns],\n",
    "\n",
    "        # labels (prefix y_)\n",
    "        F.col(\"y.loan_id\"),\n",
    "        F.col(\"y.Customer_ID\").alias(\"y_Customer_ID\"),\n",
    "        F.col(\"y.label\"),\n",
    "        F.col(\"y.label_def\"),\n",
    "        F.col(\"y.snapshot_date\").alias(\"label_snapshot_date\"),\n",
    "    )\n",
    ")\n",
    "\n",
    "clean.show(truncate=False)"
   ]
  },
  {
   "cell_type": "code",
   "execution_count": 224,
   "id": "44eda172-fb88-446b-9109-df0fafe3a5d9",
   "metadata": {},
   "outputs": [
    {
     "name": "stdout",
     "output_type": "stream",
     "text": [
      "+---------------------+-------------+-----+----------+-------------------+------------------+------------------+------------------+-------------------+------------------+------------------+------------------+-------------------+-------------------+------------------+-------------------+-------------------+------------------+------------------+------------------+------------------+-------------------+------------------+------------------+-------------------+\n",
      "|loan_id              |y_Customer_ID|label|label_def |label_snapshot_date|fe_1_mean_3m      |fe_2_mean_3m      |fe_3_mean_3m      |fe_4_mean_3m       |fe_5_mean_3m      |fe_6_mean_3m      |fe_7_mean_3m      |fe_8_mean_3m       |fe_9_mean_3m       |fe_10_mean_3m     |fe_11_mean_3m      |fe_12_mean_3m      |fe_13_mean_3m     |fe_14_mean_3m     |fe_15_mean_3m     |fe_16_mean_3m     |fe_17_mean_3m      |fe_18_mean_3m     |fe_19_mean_3m     |fe_20_mean_3m      |\n",
      "+---------------------+-------------+-----+----------+-------------------+------------------+------------------+------------------+-------------------+------------------+------------------+------------------+-------------------+-------------------+------------------+-------------------+-------------------+------------------+------------------+------------------+------------------+-------------------+------------------+------------------+-------------------+\n",
      "|CUS_0x1367_2023_11_01|CUS_0x1367   |1    |90dpd_7mob|2024-06-01         |111.66666666666667|197.0             |42.666666666666664|122.33333333333333 |86.33333333333333 |104.0             |159.66666666666666|145.66666666666666 |152.66666666666666 |116.0             |124.0              |41.666666666666664 |79.66666666666667 |140.33333333333334|158.66666666666666|78.66666666666667 |20.0               |-60.0             |109.0             |228.33333333333334 |\n",
      "|CUS_0xc74_2023_11_01 |CUS_0xc74    |0    |90dpd_7mob|2024-06-01         |89.33333333333333 |95.66666666666667 |109.33333333333333|114.66666666666667 |86.66666666666667 |121.66666666666667|225.66666666666666|172.0              |140.66666666666666 |175.33333333333334|48.666666666666664 |173.66666666666666 |129.33333333333334|70.66666666666667 |184.0             |60.0              |60.666666666666664 |133.33333333333334|165.33333333333334|-15.333333333333334|\n",
      "|CUS_0x2a6b_2023_10_01|CUS_0x2a6b   |0    |90dpd_7mob|2024-05-01         |82.66666666666667 |186.33333333333334|125.33333333333333|43.333333333333336 |77.66666666666667 |97.33333333333333 |142.33333333333334|104.33333333333333 |166.66666666666666 |159.66666666666666|265.3333333333333  |139.33333333333334 |196.66666666666666|84.0              |153.0             |51.666666666666664|63.0               |75.66666666666667 |83.66666666666667 |76.0               |\n",
      "|CUS_0x8533_2023_10_01|CUS_0x8533   |0    |90dpd_7mob|2024-05-01         |152.33333333333334|103.33333333333333|113.66666666666667|139.0              |99.66666666666667 |138.0             |40.0              |136.66666666666666 |114.33333333333333 |151.0             |36.333333333333336 |80.66666666666667  |164.0             |111.0             |44.0              |116.33333333333333|-27.666666666666668|112.33333333333333|15.0              |106.33333333333333 |\n",
      "|CUS_0x9eb2_2023_09_01|CUS_0x9eb2   |0    |90dpd_7mob|2024-04-01         |61.666666666666664|184.33333333333334|73.66666666666667 |155.33333333333334 |33.0              |48.333333333333336|25.333333333333332|115.0              |117.33333333333333 |189.0             |107.33333333333333 |173.66666666666666 |166.33333333333334|117.0             |125.0             |83.33333333333333 |87.0               |79.0              |158.0             |92.66666666666667  |\n",
      "|CUS_0x128f_2024_05_01|CUS_0x128f   |0    |90dpd_7mob|2024-12-01         |155.33333333333334|122.66666666666667|84.0              |155.33333333333334 |61.333333333333336|141.66666666666666|93.33333333333333 |149.66666666666666 |76.66666666666667  |42.666666666666664|-8.0               |98.33333333333333  |8.333333333333334 |62.333333333333336|112.0             |48.666666666666664|34.666666666666664 |99.0              |106.33333333333333|107.0              |\n",
      "|CUS_0x45e1_2024_03_01|CUS_0x45e1   |0    |90dpd_7mob|2024-10-01         |68.66666666666667 |25.0              |244.66666666666666|154.33333333333334 |160.0             |33.0              |129.66666666666666|85.0               |133.33333333333334 |27.666666666666668|62.666666666666664 |124.0              |42.0              |140.33333333333334|-5.333333333333333|41.666666666666664|130.66666666666666 |126.0             |160.66666666666666|184.33333333333334 |\n",
      "|CUS_0x843_2024_05_01 |CUS_0x843    |0    |90dpd_7mob|2024-12-01         |54.333333333333336|140.0             |88.0              |94.0               |4.0               |67.33333333333333 |118.33333333333333|169.33333333333334 |-30.333333333333332|126.66666666666667|155.33333333333334 |65.0               |83.66666666666667 |106.0             |80.33333333333333 |171.66666666666666|34.0               |149.0             |31.333333333333332|144.0              |\n",
      "|CUS_0xb2a1_2023_10_01|CUS_0xb2a1   |0    |90dpd_7mob|2024-05-01         |2.3333333333333335|135.0             |59.0              |19.0               |45.333333333333336|123.33333333333333|119.66666666666667|149.0              |183.0              |238.0             |21.0               |77.66666666666667  |100.66666666666667|109.33333333333333|139.66666666666666|125.0             |144.0              |142.0             |123.66666666666667|210.0              |\n",
      "|CUS_0xbab8_2023_11_01|CUS_0xbab8   |1    |90dpd_7mob|2024-06-01         |239.0             |78.66666666666667 |111.0             |99.66666666666667  |118.33333333333333|154.33333333333334|180.0             |79.0               |93.0               |173.33333333333334|80.33333333333333  |122.0              |75.0              |73.66666666666667 |122.66666666666667|106.0             |108.66666666666667 |69.33333333333333 |149.33333333333334|54.0               |\n",
      "|CUS_0xb761_2023_11_01|CUS_0xb761   |0    |90dpd_7mob|2024-06-01         |77.0              |149.0             |122.33333333333333|90.66666666666667  |188.66666666666666|76.33333333333333 |60.0              |99.66666666666667  |105.33333333333333 |128.0             |127.33333333333333 |109.0              |66.66666666666667 |165.33333333333334|141.0             |40.0              |152.66666666666666 |-86.0             |137.66666666666666|11.0               |\n",
      "|CUS_0x1e0f_2023_10_01|CUS_0x1e0f   |0    |90dpd_7mob|2024-05-01         |56.666666666666664|107.33333333333333|135.0             |104.66666666666667 |114.66666666666667|115.33333333333333|123.0             |107.66666666666667 |139.66666666666666 |129.33333333333334|11.333333333333334 |105.33333333333333 |146.66666666666666|113.66666666666667|128.33333333333334|76.33333333333333 |105.66666666666667 |178.0             |118.0             |64.0               |\n",
      "|CUS_0x56b4_2023_09_01|CUS_0x56b4   |0    |90dpd_7mob|2024-04-01         |77.0              |136.0             |99.66666666666667 |-15.666666666666666|115.33333333333333|18.666666666666668|93.66666666666667 |126.0              |192.33333333333334 |33.666666666666664|57.0               |195.66666666666666 |-74.0             |94.33333333333333 |102.33333333333333|7.0               |157.33333333333334 |113.33333333333333|86.66666666666667 |95.0               |\n",
      "|CUS_0x7dd_2023_10_01 |CUS_0x7dd    |0    |90dpd_7mob|2024-05-01         |103.33333333333333|68.66666666666667 |60.333333333333336|78.33333333333333  |86.33333333333333 |162.0             |75.33333333333333 |144.33333333333334 |99.66666666666667  |124.0             |156.33333333333334 |109.66666666666667 |156.66666666666666|98.33333333333333 |128.33333333333334|138.66666666666666|104.33333333333333 |87.0              |132.0             |165.66666666666666 |\n",
      "|CUS_0xad94_2023_09_01|CUS_0xad94   |1    |90dpd_7mob|2024-04-01         |34.0              |12.666666666666666|181.0             |115.66666666666667 |229.66666666666666|88.0              |137.66666666666666|80.66666666666667  |237.0              |76.0              |153.33333333333334 |-16.333333333333332|70.33333333333333 |173.0             |139.66666666666666|29.0              |0.6666666666666666 |45.333333333333336|17.666666666666668|53.666666666666664 |\n",
      "|CUS_0xdf6_2023_09_01 |CUS_0xdf6    |0    |90dpd_7mob|2024-04-01         |203.0             |40.333333333333336|151.66666666666666|132.33333333333334 |204.0             |181.33333333333334|57.0              |163.33333333333334 |204.33333333333334 |226.0             |92.0               |93.0               |132.0             |120.66666666666667|193.33333333333334|69.0              |106.0              |149.0             |87.66666666666667 |11.666666666666666 |\n",
      "|CUS_0x6236_2024_05_01|CUS_0x6236   |1    |90dpd_7mob|2024-12-01         |161.33333333333334|169.0             |167.33333333333334|104.33333333333333 |71.0              |18.333333333333332|53.333333333333336|74.33333333333333  |73.33333333333333  |55.333333333333336|193.0              |98.0               |141.0             |85.0              |42.666666666666664|98.66666666666667 |89.66666666666667  |122.66666666666667|151.0             |50.666666666666664 |\n",
      "|CUS_0xbb48_2024_05_01|CUS_0xbb48   |0    |90dpd_7mob|2024-12-01         |100.66666666666667|17.666666666666668|10.333333333333334|75.66666666666667  |155.0             |97.0              |153.0             |47.666666666666664 |147.33333333333334 |108.66666666666667|207.0              |71.33333333333333  |52.333333333333336|151.66666666666666|135.0             |66.0              |67.0               |79.0              |41.0              |-22.333333333333332|\n",
      "|CUS_0x5c92_2024_03_01|CUS_0x5c92   |1    |90dpd_7mob|2024-10-01         |46.0              |123.66666666666667|140.66666666666666|81.33333333333333  |141.66666666666666|149.66666666666666|141.66666666666666|-44.666666666666664|19.0               |93.0              |-3.3333333333333335|159.33333333333334 |38.666666666666664|160.33333333333334|156.33333333333334|41.0              |142.0              |259.6666666666667 |190.66666666666666|203.33333333333334 |\n",
      "|CUS_0xb1d8_2024_04_01|CUS_0xb1d8   |0    |90dpd_7mob|2024-11-01         |45.0              |71.0              |114.33333333333333|94.33333333333333  |86.66666666666667 |57.666666666666664|202.33333333333334|82.33333333333333  |40.0               |-79.0             |126.66666666666667 |54.666666666666664 |41.666666666666664|246.66666666666666|141.66666666666666|65.0              |153.0              |64.0              |143.0             |49.666666666666664 |\n",
      "+---------------------+-------------+-----+----------+-------------------+------------------+------------------+------------------+-------------------+------------------+------------------+------------------+-------------------+-------------------+------------------+-------------------+-------------------+------------------+------------------+------------------+------------------+-------------------+------------------+------------------+-------------------+\n",
      "only showing top 20 rows\n",
      "\n"
     ]
    }
   ],
   "source": [
    "# 1) Collect fe_* columns dynamically from `clean`\n",
    "fe_cols = [c for c in clean.columns if c.startswith(\"fe_\")]\n",
    "\n",
    "# 2) Keep rows in the 3-month lookback window: [label-3M, label-1 day]\n",
    "df_3m = clean.where(\n",
    "    (F.col(\"f_snapshot_date\") >= F.add_months(F.col(\"label_snapshot_date\"), -3)) &\n",
    "    (F.col(\"f_snapshot_date\") <  F.col(\"label_snapshot_date\"))\n",
    ")\n",
    "\n",
    "# 1) Collect fe_* columns dynamically\n",
    "fe_cols = [c for c in clean.columns if c.startswith(\"fe_\")]\n",
    "\n",
    "# 2) Filter rows to last 3 months before label snapshot\n",
    "df_3m = clean.filter(\n",
    "    (F.col(\"f_snapshot_date\") >= F.add_months(F.col(\"label_snapshot_date\"), -3)) &\n",
    "    (F.col(\"f_snapshot_date\") <  F.col(\"label_snapshot_date\"))\n",
    ")\n",
    "\n",
    "# 3) Compute mean for each fe_* column per loan\n",
    "agg_exprs = [F.mean(c).alias(f\"{c}_mean_3m\") for c in fe_cols]\n",
    "\n",
    "df_mean = (\n",
    "    df_3m.groupBy(\"loan_id\", \"y_Customer_ID\", \"label\", \"label_def\", \"label_snapshot_date\")\n",
    "         .agg(*agg_exprs)\n",
    ")\n",
    "\n",
    "# 4) Show result\n",
    "df_mean.show(truncate=False)"
   ]
  },
  {
   "cell_type": "code",
   "execution_count": 225,
   "id": "08a21d3f-bd08-4e74-b2f8-4d7ee31d878a",
   "metadata": {},
   "outputs": [],
   "source": [
    "from pyspark.sql import functions as F\n",
    "\n",
    "m = (df_mean\n",
    "     .withColumnRenamed(\"y_Customer_ID\", \"Customer_ID\")\n",
    "     .withColumnRenamed(\"label_snapshot_date\", \"snapshot_date\"))\n",
    "\n",
    "final_features_df = (\n",
    "    df_fin\n",
    "    .join(df_attr, [\"Customer_ID\", \"snapshot_date\"], \"inner\")\n",
    "    .join(m, [\"Customer_ID\"], \"inner\")\n",
    ")\n"
   ]
  },
  {
   "cell_type": "code",
   "execution_count": 226,
   "id": "9b7e7be0-e41a-4045-9278-989a699bf4ff",
   "metadata": {},
   "outputs": [
    {
     "name": "stderr",
     "output_type": "stream",
     "text": [
      "                                                                                "
     ]
    },
    {
     "name": "stdout",
     "output_type": "stream",
     "text": [
      "+-----------+-------------+-------------+---------------------+-----------------+---------------+-------------+-----------+-------------------+----------------------+--------------------+--------------------+----------+------------------------+--------------------+------------------+-------------+--------------------+-----+----------+-------------+------------------+------------------+-------------------+------------------+------------------+------------------+------------------+-------------------+-------------------+------------------+-------------------+------------------+------------------+------------------+-------------------+-------------------+-------------------+-------------------+------------------+-------------------+\n",
      "|Customer_ID|snapshot_date|Annual_Income|Monthly_Inhand_Salary|Num_Bank_Accounts|Num_Credit_Card|Interest_Rate|Num_of_Loan|Delay_from_due_date|Num_of_Delayed_Payment|Changed_Credit_Limit|Num_Credit_Inquiries|Credit_Mix|Credit_Utilization_Ratio|   Payment_Behaviour|Credit_History_Age|   Occupation|             loan_id|label| label_def|snapshot_date|      fe_1_mean_3m|      fe_2_mean_3m|       fe_3_mean_3m|      fe_4_mean_3m|      fe_5_mean_3m|      fe_6_mean_3m|      fe_7_mean_3m|       fe_8_mean_3m|       fe_9_mean_3m|     fe_10_mean_3m|      fe_11_mean_3m|     fe_12_mean_3m|     fe_13_mean_3m|     fe_14_mean_3m|      fe_15_mean_3m|      fe_16_mean_3m|      fe_17_mean_3m|      fe_18_mean_3m|     fe_19_mean_3m|      fe_20_mean_3m|\n",
      "+-----------+-------------+-------------+---------------------+-----------------+---------------+-------------+-----------+-------------------+----------------------+--------------------+--------------------+----------+------------------------+--------------------+------------------+-------------+--------------------+-----+----------+-------------+------------------+------------------+-------------------+------------------+------------------+------------------+------------------+-------------------+-------------------+------------------+-------------------+------------------+------------------+------------------+-------------------+-------------------+-------------------+-------------------+------------------+-------------------+\n",
      "| CUS_0x6ba9|   2023-05-01|     20272.23|            1776.3525|              4.0|            3.0|         12.0|        1.0|               -1.0|                   5.0|                4.83|                 6.0|      Good|                  33.874|High_spent_Medium...|               332|       Lawyer|CUS_0x6ba9_2023_0...|    0|90dpd_7mob|   2023-12-01|168.66666666666666|125.66666666666667| 197.66666666666666|138.33333333333334|               4.0| 70.66666666666667| 98.33333333333333| 120.66666666666667|              110.0|              30.0| 138.33333333333334|             146.0|168.66666666666666|28.333333333333332| 51.333333333333336| 176.33333333333334| 32.666666666666664| 58.333333333333336|191.33333333333334|  89.33333333333333|\n",
      "| CUS_0x74c7|   2023-05-01|     87853.56|              7527.13|              4.0|            1.0|          4.0|        2.0|                2.0|                   2.0|                9.99|                 4.0|      Good|               27.837519|High_spent_Large_...|               208|   Unemployed|CUS_0x74c7_2023_0...|    0|90dpd_7mob|   2023-12-01| 66.66666666666667|107.33333333333333| 40.666666666666664|118.33333333333333|127.33333333333333|181.33333333333334| 83.66666666666667|-45.666666666666664|               -4.0|158.66666666666666|               78.0|124.33333333333333|             121.0|             100.0| 103.66666666666667| 142.66666666666666| 36.666666666666664|              182.0|             133.0| 137.33333333333334|\n",
      "| CUS_0x5293|   2023-05-01|      39829.0|            3146.0833|              4.0|            6.0|         14.0|        3.0|                8.0|                  12.0|               19.04|                 8.0|  Standard|                40.37339|High_spent_Small_...|               182|       Doctor|CUS_0x5293_2023_0...|    0|90dpd_7mob|   2023-12-01|126.33333333333333|             156.0|               81.0|59.333333333333336|124.33333333333333| 66.33333333333333|173.66666666666666| 136.66666666666666| 224.66666666666666|134.66666666666666|               83.0|105.33333333333333|111.66666666666667|141.66666666666666|  80.66666666666667|               87.0|               61.0|  94.33333333333333|              80.0| 172.33333333333334|\n",
      "| CUS_0x6f0a|   2023-05-01|     8461.285|            699.10706|              9.0|            9.0|         20.0|        5.0|               27.0|                  28.0|                9.37|                 8.0|       Bad|               39.239666|             Unknown|                67|     Musician|CUS_0x6f0a_2023_0...|    1|90dpd_7mob|   2023-12-01|             160.0|185.33333333333334| 176.66666666666666|              64.0|100.66666666666667|189.66666666666666|49.666666666666664| 188.33333333333334| 192.33333333333334|148.33333333333334| 176.66666666666666|20.333333333333332| 77.33333333333333| 77.33333333333333| 48.333333333333336| 207.33333333333334| 138.66666666666666|              121.0|57.666666666666664| 116.66666666666667|\n",
      "| CUS_0xc52a|   2023-05-01|     35032.66|            2853.3884|             10.0|            6.0|         33.0|        7.0|               48.0|                  18.0|                2.52|                10.0|       Bad|               25.086176|Low_spent_Small_v...|               137|       Writer|CUS_0xc52a_2023_0...|    1|90dpd_7mob|   2023-12-01|170.33333333333334|             229.0| 158.33333333333334|             183.0|              45.0|             102.0|196.33333333333334| 119.66666666666667| -7.666666666666667|31.666666666666668| 117.33333333333333|              67.0|46.333333333333336|             144.0|  85.33333333333333|  91.33333333333333| 43.333333333333336|               13.0|              95.0| 131.66666666666666|\n",
      "| CUS_0x203c|   2023-05-01|     48008.07|            4135.6724|              7.0|            5.0|         17.0|        9.0|               31.0|                  13.0|               25.74|                15.0|         _|                35.87391|High_spent_Medium...|                90|   Accountant|CUS_0x203c_2023_0...|    0|90dpd_7mob|   2023-12-01|42.333333333333336|196.66666666666666| 55.666666666666664|116.33333333333333|61.333333333333336|             158.0|              28.0|  96.66666666666667|  87.33333333333333|56.666666666666664|  70.66666666666667| 98.33333333333333|              95.0|171.66666666666666| 143.66666666666666|              110.0|               27.0|-103.33333333333333|103.66666666666667| 138.33333333333334|\n",
      "| CUS_0x69c6|   2023-05-01|    100310.08|             8320.173|              3.0|            3.0|          5.0|        1.0|               12.0|                  14.0|                9.63|                 8.0|  Standard|               39.964123|             Unknown|               280|   Journalist|CUS_0x69c6_2023_0...|    0|90dpd_7mob|   2023-12-01|             105.0|             153.0|  87.66666666666667|             -27.0| 93.66666666666667|56.666666666666664|196.33333333333334|  77.66666666666667| 137.66666666666666|             209.0|-19.666666666666668|             162.0|172.66666666666666|19.333333333333332|-41.333333333333336| 109.66666666666667| 53.666666666666664|              161.0| 85.66666666666667| 25.333333333333332|\n",
      "| CUS_0x8925|   2023-05-01|     45705.78|             3866.815|              8.0|            3.0|         20.0|        0.0|                9.0|                   8.0|                9.97|                 4.0|  Standard|               41.196857|High_spent_Small_...|               366|       Lawyer|CUS_0x8925_2023_0...|    0|90dpd_7mob|   2023-12-01|150.66666666666666|32.666666666666664| 60.333333333333336|               8.0|              73.0|             153.0|              88.0| 235.33333333333334| 151.66666666666666| 71.66666666666667|-3.3333333333333335| 81.33333333333333|54.333333333333336|              95.0|  70.33333333333333| 109.33333333333333| 164.33333333333334|               50.0|101.66666666666667| 56.333333333333336|\n",
      "| CUS_0x9087|   2023-05-01|     81142.96|            6614.9136|              3.0|            5.0|          9.0|        4.0|               15.0|                   2.0|                9.72|                 4.0|      Good|                34.51518|Low_spent_Medium_...|               394|      Teacher|CUS_0x9087_2023_0...|    0|90dpd_7mob|   2023-12-01|              56.0|137.66666666666666|  88.66666666666667|             233.0|101.33333333333333|156.66666666666666|130.33333333333334|               27.0|              127.0|206.33333333333334| 193.33333333333334|38.666666666666664|-4.666666666666667|             178.0| 135.33333333333334| 135.66666666666666| 135.66666666666666| -8.666666666666666|             129.0|               90.0|\n",
      "|  CUS_0x99a|   2023-05-01|     76650.12|              6558.51|              8.0|            7.0|          8.0|        4.0|               24.0|                  10.0|               13.37|                 5.0|  Standard|               28.758026|Low_spent_Medium_...|               226|       Doctor|CUS_0x99a_2023_05_01|    1|90dpd_7mob|   2023-12-01|123.66666666666667|             235.0| 117.33333333333333|196.33333333333334|             240.0|106.66666666666667|35.333333333333336|              128.0|               85.0|              65.0| 16.333333333333332|122.33333333333333|136.66666666666666|110.33333333333333|  98.33333333333333|               70.0|               87.0| 117.33333333333333| 89.66666666666667|               75.0|\n",
      "| CUS_0xa2de|   2023-05-01|    137672.12|            11613.677|              6.0|            7.0|          7.0|        2.0|               14.0|                   8.0|                18.2|                 8.0|         _|               30.051449|Low_spent_Medium_...|               375|     Engineer|CUS_0xa2de_2023_0...|    0|90dpd_7mob|   2023-12-01|             150.0|22.333333333333332|-52.666666666666664|             137.0|13.333333333333334|139.33333333333334|             146.0| 235.33333333333334| 40.666666666666664|175.66666666666666|               36.0|124.66666666666667|41.333333333333336|208.33333333333334|               83.0|               65.0|              122.0| 29.666666666666668|37.333333333333336|               45.0|\n",
      "| CUS_0xb5b9|   2023-05-01|    125943.63|            10448.303|              3.0|            5.0|          6.0|        1.0|                3.0|                   4.0|                2.19|                 4.0|      Good|                38.01185|Low_spent_Medium_...|               284|       Lawyer|CUS_0xb5b9_2023_0...|    0|90dpd_7mob|   2023-12-01|             143.0|              96.0|  81.66666666666667|               8.0|              76.0|             113.0|164.33333333333334| 63.666666666666664|-38.666666666666664| 89.66666666666667|                2.0|             130.0|25.666666666666668|             105.0|  83.66666666666667| 36.666666666666664|               71.0|              119.0|              42.0|-13.666666666666666|\n",
      "| CUS_0x2803|   2023-05-01|      37159.0|            3299.5833|              5.0|            4.0|         15.0|        4.0|               16.0|                  20.0|               13.43|                 8.0|  Standard|               36.509583|High_spent_Large_...|               196|Media_Manager|CUS_0x2803_2023_0...|    0|90dpd_7mob|   2023-12-01|             126.0|181.33333333333334|              147.0| 89.33333333333333| 95.66666666666667|211.33333333333334| 94.33333333333333| 175.33333333333334|  84.66666666666667|               1.0| 41.666666666666664|              22.0|              87.0|184.66666666666666| 127.33333333333333| 111.66666666666667| 183.66666666666666| 61.666666666666664| 72.33333333333333|  98.66666666666667|\n",
      "| CUS_0x40a3|   2023-05-01|     60224.34|             5028.695|              1.0|            8.0|          5.0|        0.0|               28.0|                   1.0|                3.83|                 4.0|      Good|               30.114285|High_spent_Large_...|               279|       Lawyer|CUS_0x40a3_2023_0...|    1|90dpd_7mob|   2023-12-01|58.666666666666664|             133.0| 218.33333333333334|             206.0|235.66666666666666|107.66666666666667| 96.66666666666667|              128.0|              177.0|132.33333333333334| 174.33333333333334|              71.0|113.33333333333333|             161.0| 37.333333333333336|               80.0| 136.66666666666666| 138.33333333333334|125.66666666666667|  94.33333333333333|\n",
      "| CUS_0x4318|   2023-05-01|     33445.01|            2663.0842|              6.0|            4.0|          9.0|        0.0|                8.0|                  12.0|                4.82|                 1.0|         _|               26.113174|Low_spent_Large_v...|               392|   Accountant|CUS_0x4318_2023_0...|    0|90dpd_7mob|   2023-12-01|0.6666666666666666|117.66666666666667|  77.33333333333333|             -20.0|              57.0| 89.33333333333333|154.33333333333334| 136.66666666666666| 112.33333333333333|             176.0| 61.333333333333336|18.666666666666668|113.66666666666667| 65.33333333333333|              170.0| 1.3333333333333333|-32.666666666666664|               15.0|115.66666666666667|               73.0|\n",
      "| CUS_0x58ba|   2023-05-01|     57055.95|            4817.6626|              4.0|            4.0|          9.0|        4.0|               19.0|                  15.0|               15.03|                 7.0|  Standard|                32.43936|High_spent_Medium...|               100|    Developer|CUS_0x58ba_2023_0...|    0|90dpd_7mob|   2023-12-01|187.66666666666666|              65.0| 138.33333333333334|124.33333333333333|              68.0|36.333333333333336|101.33333333333333|              234.0|              128.0| 87.66666666666667| 230.33333333333334|              54.0|              98.0|162.66666666666666| 166.33333333333334| 128.66666666666666| 31.333333333333332| 186.33333333333334|134.33333333333334| 14.666666666666666|\n",
      "| CUS_0x5c8d|   2023-05-01|     41982.88|            3263.5732|              4.0|            7.0|         14.0|        0.0|               23.0|                  20.0|               15.83|                 6.0|         _|               27.261759|High_spent_Medium...|               213|    Developer|CUS_0x5c8d_2023_0...|    0|90dpd_7mob|   2023-12-01|153.33333333333334|144.66666666666666| 14.333333333333334|40.666666666666664|140.33333333333334|147.66666666666666|162.66666666666666|              259.0|              143.0|             108.0|-28.666666666666668|165.33333333333334| 85.33333333333333|             109.0|               30.0| 60.666666666666664|  96.33333333333333| 161.33333333333334|             163.0|  72.66666666666667|\n",
      "| CUS_0x6abf|   2023-05-01|    14021.495|            1077.4579|              7.0|            5.0|         16.0|        2.0|               30.0|                  16.0|               11.19|                11.0|  Standard|               40.389286|Low_spent_Small_v...|               161|   Accountant|CUS_0x6abf_2023_0...|    0|90dpd_7mob|   2023-12-01|141.33333333333334|35.333333333333336|  70.66666666666667|20.666666666666668|161.33333333333334|              45.0|51.333333333333336|  91.66666666666667| 23.333333333333332|176.66666666666666| 108.33333333333333|12.666666666666666|206.66666666666666|136.33333333333334|               85.0|-23.333333333333332| 57.333333333333336|              234.0| 71.66666666666667|               42.0|\n",
      "| CUS_0x88b8|   2023-05-01|     72363.72|              6124.31|              5.0|            3.0|          8.0|        3.0|                0.0|                   3.0|               12.85|                 7.0|      Good|               35.980732|             Unknown|               245|      Teacher|CUS_0x88b8_2023_0...|    0|90dpd_7mob|   2023-12-01|136.33333333333334|             181.0|  88.66666666666667|             105.0|164.66666666666666|             114.0|111.33333333333333| 176.33333333333334|  90.66666666666667|111.66666666666667| -6.666666666666667|115.66666666666667|160.66666666666666|             128.0| 132.66666666666666|               66.0| 126.66666666666667|  95.33333333333333|             102.0|               82.0|\n",
      "| CUS_0xbfb5|   2023-05-01|      92561.2|             7987.433|              8.0|            3.0|         15.0|        3.0|               21.0|                  10.0|               11.71|                 3.0|  Standard|               27.190445|High_spent_Medium...|               201|   Accountant|CUS_0xbfb5_2023_0...|    0|90dpd_7mob|   2023-12-01|              43.0| 94.66666666666667|               96.0|187.33333333333334|             174.0|151.66666666666666|63.666666666666664|              144.0| 12.666666666666666|              80.0| 190.66666666666666|              33.0|30.666666666666668| 7.333333333333333| 126.66666666666667| 163.66666666666666|  262.3333333333333|               83.0|               9.0| 151.33333333333334|\n",
      "+-----------+-------------+-------------+---------------------+-----------------+---------------+-------------+-----------+-------------------+----------------------+--------------------+--------------------+----------+------------------------+--------------------+------------------+-------------+--------------------+-----+----------+-------------+------------------+------------------+-------------------+------------------+------------------+------------------+------------------+-------------------+-------------------+------------------+-------------------+------------------+------------------+------------------+-------------------+-------------------+-------------------+-------------------+------------------+-------------------+\n",
      "only showing top 20 rows\n",
      "\n"
     ]
    }
   ],
   "source": [
    "final_features_df.show()"
   ]
  },
  {
   "cell_type": "code",
   "execution_count": 230,
   "id": "dccdac15-ed2e-473b-86c6-d2699cb2ac7d",
   "metadata": {},
   "outputs": [],
   "source": [
    "final_features_df = final_features_df.drop(\"Customer_ID\", \"snapshot_date\", \"loan_id\", \"label_def\")\n"
   ]
  },
  {
   "cell_type": "code",
   "execution_count": 231,
   "id": "b8c508eb-ab50-4477-8baa-ab005153d156",
   "metadata": {},
   "outputs": [
    {
     "name": "stdout",
     "output_type": "stream",
     "text": [
      "+-------------+---------------------+-----------------+---------------+-------------+-----------+-------------------+----------------------+--------------------+--------------------+----------+------------------------+--------------------+------------------+-------------+-----+------------------+------------------+-------------------+------------------+------------------+------------------+------------------+-------------------+-------------------+------------------+-------------------+------------------+------------------+------------------+-------------------+-------------------+-------------------+-------------------+------------------+-------------------+\n",
      "|Annual_Income|Monthly_Inhand_Salary|Num_Bank_Accounts|Num_Credit_Card|Interest_Rate|Num_of_Loan|Delay_from_due_date|Num_of_Delayed_Payment|Changed_Credit_Limit|Num_Credit_Inquiries|Credit_Mix|Credit_Utilization_Ratio|   Payment_Behaviour|Credit_History_Age|   Occupation|label|      fe_1_mean_3m|      fe_2_mean_3m|       fe_3_mean_3m|      fe_4_mean_3m|      fe_5_mean_3m|      fe_6_mean_3m|      fe_7_mean_3m|       fe_8_mean_3m|       fe_9_mean_3m|     fe_10_mean_3m|      fe_11_mean_3m|     fe_12_mean_3m|     fe_13_mean_3m|     fe_14_mean_3m|      fe_15_mean_3m|      fe_16_mean_3m|      fe_17_mean_3m|      fe_18_mean_3m|     fe_19_mean_3m|      fe_20_mean_3m|\n",
      "+-------------+---------------------+-----------------+---------------+-------------+-----------+-------------------+----------------------+--------------------+--------------------+----------+------------------------+--------------------+------------------+-------------+-----+------------------+------------------+-------------------+------------------+------------------+------------------+------------------+-------------------+-------------------+------------------+-------------------+------------------+------------------+------------------+-------------------+-------------------+-------------------+-------------------+------------------+-------------------+\n",
      "|     20272.23|            1776.3525|              4.0|            3.0|         12.0|        1.0|               -1.0|                   5.0|                4.83|                 6.0|      Good|                  33.874|High_spent_Medium...|               332|       Lawyer|    0|168.66666666666666|125.66666666666667| 197.66666666666666|138.33333333333334|               4.0| 70.66666666666667| 98.33333333333333| 120.66666666666667|              110.0|              30.0| 138.33333333333334|             146.0|168.66666666666666|28.333333333333332| 51.333333333333336| 176.33333333333334| 32.666666666666664| 58.333333333333336|191.33333333333334|  89.33333333333333|\n",
      "|     87853.56|              7527.13|              4.0|            1.0|          4.0|        2.0|                2.0|                   2.0|                9.99|                 4.0|      Good|               27.837519|High_spent_Large_...|               208|   Unemployed|    0| 66.66666666666667|107.33333333333333| 40.666666666666664|118.33333333333333|127.33333333333333|181.33333333333334| 83.66666666666667|-45.666666666666664|               -4.0|158.66666666666666|               78.0|124.33333333333333|             121.0|             100.0| 103.66666666666667| 142.66666666666666| 36.666666666666664|              182.0|             133.0| 137.33333333333334|\n",
      "|      39829.0|            3146.0833|              4.0|            6.0|         14.0|        3.0|                8.0|                  12.0|               19.04|                 8.0|  Standard|                40.37339|High_spent_Small_...|               182|       Doctor|    0|126.33333333333333|             156.0|               81.0|59.333333333333336|124.33333333333333| 66.33333333333333|173.66666666666666| 136.66666666666666| 224.66666666666666|134.66666666666666|               83.0|105.33333333333333|111.66666666666667|141.66666666666666|  80.66666666666667|               87.0|               61.0|  94.33333333333333|              80.0| 172.33333333333334|\n",
      "|     8461.285|            699.10706|              9.0|            9.0|         20.0|        5.0|               27.0|                  28.0|                9.37|                 8.0|       Bad|               39.239666|             Unknown|                67|     Musician|    1|             160.0|185.33333333333334| 176.66666666666666|              64.0|100.66666666666667|189.66666666666666|49.666666666666664| 188.33333333333334| 192.33333333333334|148.33333333333334| 176.66666666666666|20.333333333333332| 77.33333333333333| 77.33333333333333| 48.333333333333336| 207.33333333333334| 138.66666666666666|              121.0|57.666666666666664| 116.66666666666667|\n",
      "|     35032.66|            2853.3884|             10.0|            6.0|         33.0|        7.0|               48.0|                  18.0|                2.52|                10.0|       Bad|               25.086176|Low_spent_Small_v...|               137|       Writer|    1|170.33333333333334|             229.0| 158.33333333333334|             183.0|              45.0|             102.0|196.33333333333334| 119.66666666666667| -7.666666666666667|31.666666666666668| 117.33333333333333|              67.0|46.333333333333336|             144.0|  85.33333333333333|  91.33333333333333| 43.333333333333336|               13.0|              95.0| 131.66666666666666|\n",
      "|     48008.07|            4135.6724|              7.0|            5.0|         17.0|        9.0|               31.0|                  13.0|               25.74|                15.0|         _|                35.87391|High_spent_Medium...|                90|   Accountant|    0|42.333333333333336|196.66666666666666| 55.666666666666664|116.33333333333333|61.333333333333336|             158.0|              28.0|  96.66666666666667|  87.33333333333333|56.666666666666664|  70.66666666666667| 98.33333333333333|              95.0|171.66666666666666| 143.66666666666666|              110.0|               27.0|-103.33333333333333|103.66666666666667| 138.33333333333334|\n",
      "|    100310.08|             8320.173|              3.0|            3.0|          5.0|        1.0|               12.0|                  14.0|                9.63|                 8.0|  Standard|               39.964123|             Unknown|               280|   Journalist|    0|             105.0|             153.0|  87.66666666666667|             -27.0| 93.66666666666667|56.666666666666664|196.33333333333334|  77.66666666666667| 137.66666666666666|             209.0|-19.666666666666668|             162.0|172.66666666666666|19.333333333333332|-41.333333333333336| 109.66666666666667| 53.666666666666664|              161.0| 85.66666666666667| 25.333333333333332|\n",
      "|     45705.78|             3866.815|              8.0|            3.0|         20.0|        0.0|                9.0|                   8.0|                9.97|                 4.0|  Standard|               41.196857|High_spent_Small_...|               366|       Lawyer|    0|150.66666666666666|32.666666666666664| 60.333333333333336|               8.0|              73.0|             153.0|              88.0| 235.33333333333334| 151.66666666666666| 71.66666666666667|-3.3333333333333335| 81.33333333333333|54.333333333333336|              95.0|  70.33333333333333| 109.33333333333333| 164.33333333333334|               50.0|101.66666666666667| 56.333333333333336|\n",
      "|     81142.96|            6614.9136|              3.0|            5.0|          9.0|        4.0|               15.0|                   2.0|                9.72|                 4.0|      Good|                34.51518|Low_spent_Medium_...|               394|      Teacher|    0|              56.0|137.66666666666666|  88.66666666666667|             233.0|101.33333333333333|156.66666666666666|130.33333333333334|               27.0|              127.0|206.33333333333334| 193.33333333333334|38.666666666666664|-4.666666666666667|             178.0| 135.33333333333334| 135.66666666666666| 135.66666666666666| -8.666666666666666|             129.0|               90.0|\n",
      "|     76650.12|              6558.51|              8.0|            7.0|          8.0|        4.0|               24.0|                  10.0|               13.37|                 5.0|  Standard|               28.758026|Low_spent_Medium_...|               226|       Doctor|    1|123.66666666666667|             235.0| 117.33333333333333|196.33333333333334|             240.0|106.66666666666667|35.333333333333336|              128.0|               85.0|              65.0| 16.333333333333332|122.33333333333333|136.66666666666666|110.33333333333333|  98.33333333333333|               70.0|               87.0| 117.33333333333333| 89.66666666666667|               75.0|\n",
      "|    137672.12|            11613.677|              6.0|            7.0|          7.0|        2.0|               14.0|                   8.0|                18.2|                 8.0|         _|               30.051449|Low_spent_Medium_...|               375|     Engineer|    0|             150.0|22.333333333333332|-52.666666666666664|             137.0|13.333333333333334|139.33333333333334|             146.0| 235.33333333333334| 40.666666666666664|175.66666666666666|               36.0|124.66666666666667|41.333333333333336|208.33333333333334|               83.0|               65.0|              122.0| 29.666666666666668|37.333333333333336|               45.0|\n",
      "|    125943.63|            10448.303|              3.0|            5.0|          6.0|        1.0|                3.0|                   4.0|                2.19|                 4.0|      Good|                38.01185|Low_spent_Medium_...|               284|       Lawyer|    0|             143.0|              96.0|  81.66666666666667|               8.0|              76.0|             113.0|164.33333333333334| 63.666666666666664|-38.666666666666664| 89.66666666666667|                2.0|             130.0|25.666666666666668|             105.0|  83.66666666666667| 36.666666666666664|               71.0|              119.0|              42.0|-13.666666666666666|\n",
      "|      37159.0|            3299.5833|              5.0|            4.0|         15.0|        4.0|               16.0|                  20.0|               13.43|                 8.0|  Standard|               36.509583|High_spent_Large_...|               196|Media_Manager|    0|             126.0|181.33333333333334|              147.0| 89.33333333333333| 95.66666666666667|211.33333333333334| 94.33333333333333| 175.33333333333334|  84.66666666666667|               1.0| 41.666666666666664|              22.0|              87.0|184.66666666666666| 127.33333333333333| 111.66666666666667| 183.66666666666666| 61.666666666666664| 72.33333333333333|  98.66666666666667|\n",
      "|     60224.34|             5028.695|              1.0|            8.0|          5.0|        0.0|               28.0|                   1.0|                3.83|                 4.0|      Good|               30.114285|High_spent_Large_...|               279|       Lawyer|    1|58.666666666666664|             133.0| 218.33333333333334|             206.0|235.66666666666666|107.66666666666667| 96.66666666666667|              128.0|              177.0|132.33333333333334| 174.33333333333334|              71.0|113.33333333333333|             161.0| 37.333333333333336|               80.0| 136.66666666666666| 138.33333333333334|125.66666666666667|  94.33333333333333|\n",
      "|     33445.01|            2663.0842|              6.0|            4.0|          9.0|        0.0|                8.0|                  12.0|                4.82|                 1.0|         _|               26.113174|Low_spent_Large_v...|               392|   Accountant|    0|0.6666666666666666|117.66666666666667|  77.33333333333333|             -20.0|              57.0| 89.33333333333333|154.33333333333334| 136.66666666666666| 112.33333333333333|             176.0| 61.333333333333336|18.666666666666668|113.66666666666667| 65.33333333333333|              170.0| 1.3333333333333333|-32.666666666666664|               15.0|115.66666666666667|               73.0|\n",
      "|     57055.95|            4817.6626|              4.0|            4.0|          9.0|        4.0|               19.0|                  15.0|               15.03|                 7.0|  Standard|                32.43936|High_spent_Medium...|               100|    Developer|    0|187.66666666666666|              65.0| 138.33333333333334|124.33333333333333|              68.0|36.333333333333336|101.33333333333333|              234.0|              128.0| 87.66666666666667| 230.33333333333334|              54.0|              98.0|162.66666666666666| 166.33333333333334| 128.66666666666666| 31.333333333333332| 186.33333333333334|134.33333333333334| 14.666666666666666|\n",
      "|     41982.88|            3263.5732|              4.0|            7.0|         14.0|        0.0|               23.0|                  20.0|               15.83|                 6.0|         _|               27.261759|High_spent_Medium...|               213|    Developer|    0|153.33333333333334|144.66666666666666| 14.333333333333334|40.666666666666664|140.33333333333334|147.66666666666666|162.66666666666666|              259.0|              143.0|             108.0|-28.666666666666668|165.33333333333334| 85.33333333333333|             109.0|               30.0| 60.666666666666664|  96.33333333333333| 161.33333333333334|             163.0|  72.66666666666667|\n",
      "|    14021.495|            1077.4579|              7.0|            5.0|         16.0|        2.0|               30.0|                  16.0|               11.19|                11.0|  Standard|               40.389286|Low_spent_Small_v...|               161|   Accountant|    0|141.33333333333334|35.333333333333336|  70.66666666666667|20.666666666666668|161.33333333333334|              45.0|51.333333333333336|  91.66666666666667| 23.333333333333332|176.66666666666666| 108.33333333333333|12.666666666666666|206.66666666666666|136.33333333333334|               85.0|-23.333333333333332| 57.333333333333336|              234.0| 71.66666666666667|               42.0|\n",
      "|     72363.72|              6124.31|              5.0|            3.0|          8.0|        3.0|                0.0|                   3.0|               12.85|                 7.0|      Good|               35.980732|             Unknown|               245|      Teacher|    0|136.33333333333334|             181.0|  88.66666666666667|             105.0|164.66666666666666|             114.0|111.33333333333333| 176.33333333333334|  90.66666666666667|111.66666666666667| -6.666666666666667|115.66666666666667|160.66666666666666|             128.0| 132.66666666666666|               66.0| 126.66666666666667|  95.33333333333333|             102.0|               82.0|\n",
      "|      92561.2|             7987.433|              8.0|            3.0|         15.0|        3.0|               21.0|                  10.0|               11.71|                 3.0|  Standard|               27.190445|High_spent_Medium...|               201|   Accountant|    0|              43.0| 94.66666666666667|               96.0|187.33333333333334|             174.0|151.66666666666666|63.666666666666664|              144.0| 12.666666666666666|              80.0| 190.66666666666666|              33.0|30.666666666666668| 7.333333333333333| 126.66666666666667| 163.66666666666666|  262.3333333333333|               83.0|               9.0| 151.33333333333334|\n",
      "+-------------+---------------------+-----------------+---------------+-------------+-----------+-------------------+----------------------+--------------------+--------------------+----------+------------------------+--------------------+------------------+-------------+-----+------------------+------------------+-------------------+------------------+------------------+------------------+------------------+-------------------+-------------------+------------------+-------------------+------------------+------------------+------------------+-------------------+-------------------+-------------------+-------------------+------------------+-------------------+\n",
      "only showing top 20 rows\n",
      "\n"
     ]
    }
   ],
   "source": [
    "final_features_df.show()"
   ]
  },
  {
   "cell_type": "code",
   "execution_count": 232,
   "id": "4b42bd43-9543-40a2-8c32-3d3cede70b2c",
   "metadata": {},
   "outputs": [],
   "source": [
    "from pyspark.ml.feature import StringIndexer, OneHotEncoder\n",
    "from pyspark.ml import Pipeline\n",
    "\n",
    "# Define categorical columns\n",
    "categorical_cols = [\"Credit_Mix\", \"Payment_Behaviour\", \"Occupation\"]\n",
    "\n",
    "# String indexers\n",
    "indexers = [StringIndexer(inputCol=col, outputCol=col + \"_index\") for col in categorical_cols]\n",
    "\n",
    "# One-hot encoder\n",
    "encoder = OneHotEncoder(\n",
    "    inputCols=[col + \"_index\" for col in categorical_cols],\n",
    "    outputCols=[col + \"_encoded\" for col in categorical_cols]\n",
    ")\n",
    "\n",
    "# Build pipeline\n",
    "pipeline = Pipeline(stages=indexers + [encoder])\n",
    "encoded_df = pipeline.fit(final_features_df).transform(final_features_df)\n",
    "\n",
    "# Drop the original categorical columns if you want\n",
    "encoded_df = encoded_df.drop(*categorical_cols)"
   ]
  },
  {
   "cell_type": "code",
   "execution_count": 234,
   "id": "a4599b5c-b55a-440c-a337-c163789f7e42",
   "metadata": {},
   "outputs": [],
   "source": [
    "\n",
    "# 1️⃣ Identify categorical encoded and numeric columns\n",
    "categorical_encoded = [\"Credit_Mix_encoded\", \"Payment_Behaviour_encoded\", \"Occupation_encoded\"]\n",
    "\n",
    "numeric_cols = [\n",
    "    \"Annual_Income\", \"Monthly_Inhand_Salary\", \"Num_Bank_Accounts\", \"Num_Credit_Card\", \n",
    "    \"Interest_Rate\", \"Num_of_Loan\", \"Delay_from_due_date\", \"Num_of_Delayed_Payment\", \n",
    "    \"Changed_Credit_Limit\", \"Num_Credit_Inquiries\", \"Credit_Utilization_Ratio\", \n",
    "    \"Credit_History_Age\"\n",
    "] + [f\"fe_{i}_mean_3m\" for i in range(1, 21)]\n",
    "\n",
    "# 2️⃣ Assemble numeric columns\n",
    "assembler = VectorAssembler(inputCols=numeric_cols, outputCol=\"numeric_features\")\n",
    "\n",
    "# 3️⃣ Standardize numeric features\n",
    "scaler = StandardScaler(inputCol=\"numeric_features\", outputCol=\"scaled_features\")\n",
    "\n",
    "# 4️⃣ Pipeline\n",
    "pipeline = Pipeline(stages=[assembler, scaler])\n",
    "scaled_df = pipeline.fit(encoded_df).transform(encoded_df)"
   ]
  },
  {
   "cell_type": "code",
   "execution_count": 235,
   "id": "0859ea02-c786-405a-a24b-7091088f3748",
   "metadata": {},
   "outputs": [
    {
     "name": "stdout",
     "output_type": "stream",
     "text": [
      "+-------------+---------------------+-----------------+---------------+-------------+-----------+-------------------+----------------------+--------------------+--------------------+------------------------+------------------+-----+------------------+------------------+-------------------+------------------+------------------+------------------+------------------+-------------------+-------------------+------------------+-------------------+------------------+------------------+------------------+-------------------+-------------------+-------------------+-------------------+------------------+-------------------+----------------+-----------------------+----------------+------------------+-------------------------+------------------+--------------------+--------------------+\n",
      "|Annual_Income|Monthly_Inhand_Salary|Num_Bank_Accounts|Num_Credit_Card|Interest_Rate|Num_of_Loan|Delay_from_due_date|Num_of_Delayed_Payment|Changed_Credit_Limit|Num_Credit_Inquiries|Credit_Utilization_Ratio|Credit_History_Age|label|      fe_1_mean_3m|      fe_2_mean_3m|       fe_3_mean_3m|      fe_4_mean_3m|      fe_5_mean_3m|      fe_6_mean_3m|      fe_7_mean_3m|       fe_8_mean_3m|       fe_9_mean_3m|     fe_10_mean_3m|      fe_11_mean_3m|     fe_12_mean_3m|     fe_13_mean_3m|     fe_14_mean_3m|      fe_15_mean_3m|      fe_16_mean_3m|      fe_17_mean_3m|      fe_18_mean_3m|     fe_19_mean_3m|      fe_20_mean_3m|Credit_Mix_index|Payment_Behaviour_index|Occupation_index|Credit_Mix_encoded|Payment_Behaviour_encoded|Occupation_encoded|    numeric_features|     scaled_features|\n",
      "+-------------+---------------------+-----------------+---------------+-------------+-----------+-------------------+----------------------+--------------------+--------------------+------------------------+------------------+-----+------------------+------------------+-------------------+------------------+------------------+------------------+------------------+-------------------+-------------------+------------------+-------------------+------------------+------------------+------------------+-------------------+-------------------+-------------------+-------------------+------------------+-------------------+----------------+-----------------------+----------------+------------------+-------------------------+------------------+--------------------+--------------------+\n",
      "|     20272.23|            1776.3525|              4.0|            3.0|         12.0|        1.0|               -1.0|                   5.0|                4.83|                 6.0|                  33.874|               332|    0|168.66666666666666|125.66666666666667| 197.66666666666666|138.33333333333334|               4.0| 70.66666666666667| 98.33333333333333| 120.66666666666667|              110.0|              30.0| 138.33333333333334|             146.0|168.66666666666666|28.333333333333332| 51.333333333333336| 176.33333333333334| 32.666666666666664| 58.333333333333336|191.33333333333334|  89.33333333333333|             1.0|                    1.0|             2.0|     (3,[1],[1.0])|            (6,[1],[1.0])|    (15,[2],[1.0])|[20272.23046875,1...|[0.58464778111427...|\n",
      "|     87853.56|              7527.13|              4.0|            1.0|          4.0|        2.0|                2.0|                   2.0|                9.99|                 4.0|               27.837519|               208|    0| 66.66666666666667|107.33333333333333| 40.666666666666664|118.33333333333333|127.33333333333333|181.33333333333334| 83.66666666666667|-45.666666666666664|               -4.0|158.66666666666666|               78.0|124.33333333333333|             121.0|             100.0| 103.66666666666667| 142.66666666666666| 36.666666666666664|              182.0|             133.0| 137.33333333333334|             1.0|                    2.0|             0.0|     (3,[1],[1.0])|            (6,[2],[1.0])|    (15,[0],[1.0])|[87853.5625,7527....|[2.53368224368735...|\n",
      "|      39829.0|            3146.0833|              4.0|            6.0|         14.0|        3.0|                8.0|                  12.0|               19.04|                 8.0|                40.37339|               182|    0|126.33333333333333|             156.0|               81.0|59.333333333333336|124.33333333333333| 66.33333333333333|173.66666666666666| 136.66666666666666| 224.66666666666666|134.66666666666666|               83.0|105.33333333333333|111.66666666666667|141.66666666666666|  80.66666666666667|               87.0|               61.0|  94.33333333333333|              80.0| 172.33333333333334|             0.0|                    4.0|             3.0|     (3,[0],[1.0])|            (6,[4],[1.0])|    (15,[3],[1.0])|[39829.0,3146.083...|[1.14866178686633...|\n",
      "|     8461.285|            699.10706|              9.0|            9.0|         20.0|        5.0|               27.0|                  28.0|                9.37|                 8.0|               39.239666|                67|    1|             160.0|185.33333333333334| 176.66666666666666|              64.0|100.66666666666667|189.66666666666666|49.666666666666664| 188.33333333333334| 192.33333333333334|148.33333333333334| 176.66666666666666|20.333333333333332| 77.33333333333333| 77.33333333333333| 48.333333333333336| 207.33333333333334| 138.66666666666666|              121.0|57.666666666666664| 116.66666666666667|             3.0|                    6.0|            12.0|         (3,[],[])|                (6,[],[])|   (15,[12],[1.0])|[8461.28515625,69...|[0.24402206750768...|\n",
      "|     35032.66|            2853.3884|             10.0|            6.0|         33.0|        7.0|               48.0|                  18.0|                2.52|                10.0|               25.086176|               137|    1|170.33333333333334|             229.0| 158.33333333333334|             183.0|              45.0|             102.0|196.33333333333334| 119.66666666666667| -7.666666666666667|31.666666666666668| 117.33333333333333|              67.0|46.333333333333336|             144.0|  85.33333333333333|  91.33333333333333| 43.333333333333336|               13.0|              95.0| 131.66666666666666|             3.0|                    0.0|             9.0|         (3,[],[])|            (6,[0],[1.0])|    (15,[9],[1.0])|[35032.66015625,2...|[1.01033613733107...|\n",
      "|     48008.07|            4135.6724|              7.0|            5.0|         17.0|        9.0|               31.0|                  13.0|               25.74|                15.0|                35.87391|                90|    0|42.333333333333336|196.66666666666666| 55.666666666666664|116.33333333333333|61.333333333333336|             158.0|              28.0|  96.66666666666667|  87.33333333333333|56.666666666666664|  70.66666666666667| 98.33333333333333|              95.0|171.66666666666666| 143.66666666666666|              110.0|               27.0|-103.33333333333333|103.66666666666667| 138.33333333333334|             2.0|                    1.0|            11.0|     (3,[2],[1.0])|            (6,[1],[1.0])|   (15,[11],[1.0])|[48008.0703125,41...|[1.38454482485528...|\n",
      "|    100310.08|             8320.173|              3.0|            3.0|          5.0|        1.0|               12.0|                  14.0|                9.63|                 8.0|               39.964123|               280|    0|             105.0|             153.0|  87.66666666666667|             -27.0| 93.66666666666667|56.666666666666664|196.33333333333334|  77.66666666666667| 137.66666666666666|             209.0|-19.666666666666668|             162.0|172.66666666666666|19.333333333333332|-41.333333333333336| 109.66666666666667| 53.666666666666664|              161.0| 85.66666666666667| 25.333333333333332|             0.0|                    6.0|             6.0|     (3,[0],[1.0])|                (6,[],[])|    (15,[6],[1.0])|[100310.078125,83...|[2.89292609856548...|\n",
      "|     45705.78|             3866.815|              8.0|            3.0|         20.0|        0.0|                9.0|                   8.0|                9.97|                 4.0|               41.196857|               366|    0|150.66666666666666|32.666666666666664| 60.333333333333336|               8.0|              73.0|             153.0|              88.0| 235.33333333333334| 151.66666666666666| 71.66666666666667|-3.3333333333333335| 81.33333333333333|54.333333333333336|              95.0|  70.33333333333333| 109.33333333333333| 164.33333333333334|               50.0|101.66666666666667| 56.333333333333336|             0.0|                    4.0|             2.0|     (3,[0],[1.0])|            (6,[4],[1.0])|    (15,[2],[1.0])|[45705.78125,3866...|[1.31814718824843...|\n",
      "|     81142.96|            6614.9136|              3.0|            5.0|          9.0|        4.0|               15.0|                   2.0|                9.72|                 4.0|                34.51518|               394|    0|              56.0|137.66666666666666|  88.66666666666667|             233.0|101.33333333333333|156.66666666666666|130.33333333333334|               27.0|              127.0|206.33333333333334| 193.33333333333334|38.666666666666664|-4.666666666666667|             178.0| 135.33333333333334| 135.66666666666666| 135.66666666666666| -8.666666666666666|             129.0|               90.0|             1.0|                    3.0|            13.0|     (3,[1],[1.0])|            (6,[3],[1.0])|   (15,[13],[1.0])|[81142.9609375,66...|[2.34014960210134...|\n",
      "|     76650.12|              6558.51|              8.0|            7.0|          8.0|        4.0|               24.0|                  10.0|               13.37|                 5.0|               28.758026|               226|    1|123.66666666666667|             235.0| 117.33333333333333|196.33333333333334|             240.0|106.66666666666667|35.333333333333336|              128.0|               85.0|              65.0| 16.333333333333332|122.33333333333333|136.66666666666666|110.33333333333333|  98.33333333333333|               70.0|               87.0| 117.33333333333333| 89.66666666666667|               75.0|             0.0|                    3.0|             3.0|     (3,[0],[1.0])|            (6,[3],[1.0])|    (15,[3],[1.0])|[76650.1171875,65...|[2.21057672982269...|\n",
      "|    137672.12|            11613.677|              6.0|            7.0|          7.0|        2.0|               14.0|                   8.0|                18.2|                 8.0|               30.051449|               375|    0|             150.0|22.333333333333332|-52.666666666666664|             137.0|13.333333333333334|139.33333333333334|             146.0| 235.33333333333334| 40.666666666666664|175.66666666666666|               36.0|124.66666666666667|41.333333333333336|208.33333333333334|               83.0|               65.0|              122.0| 29.666666666666668|37.333333333333336|               45.0|             2.0|                    3.0|             5.0|     (3,[2],[1.0])|            (6,[3],[1.0])|    (15,[5],[1.0])|[137672.125,11613...|[3.97044136443762...|\n",
      "|    125943.63|            10448.303|              3.0|            5.0|          6.0|        1.0|                3.0|                   4.0|                2.19|                 4.0|                38.01185|               284|    0|             143.0|              96.0|  81.66666666666667|               8.0|              76.0|             113.0|164.33333333333334| 63.666666666666664|-38.666666666666664| 89.66666666666667|                2.0|             130.0|25.666666666666668|             105.0|  83.66666666666667| 36.666666666666664|               71.0|              119.0|              42.0|-13.666666666666666|             1.0|                    3.0|             2.0|     (3,[1],[1.0])|            (6,[3],[1.0])|    (15,[2],[1.0])|[125943.6328125,1...|[3.63219358534847...|\n",
      "|      37159.0|            3299.5833|              5.0|            4.0|         15.0|        4.0|               16.0|                  20.0|               13.43|                 8.0|               36.509583|               196|    0|             126.0|181.33333333333334|              147.0| 89.33333333333333| 95.66666666666667|211.33333333333334| 94.33333333333333| 175.33333333333334|  84.66666666666667|               1.0| 41.666666666666664|              22.0|              87.0|184.66666666666666| 127.33333333333333| 111.66666666666667| 183.66666666666666| 61.666666666666664| 72.33333333333333|  98.66666666666667|             0.0|                    2.0|             7.0|     (3,[0],[1.0])|            (6,[2],[1.0])|    (15,[7],[1.0])|[37159.0,3299.583...|[1.07165942750674...|\n",
      "|     60224.34|             5028.695|              1.0|            8.0|          5.0|        0.0|               28.0|                   1.0|                3.83|                 4.0|               30.114285|               279|    1|58.666666666666664|             133.0| 218.33333333333334|             206.0|235.66666666666666|107.66666666666667| 96.66666666666667|              128.0|              177.0|132.33333333333334| 174.33333333333334|              71.0|113.33333333333333|             161.0| 37.333333333333336|               80.0| 136.66666666666666| 138.33333333333334|125.66666666666667|  94.33333333333333|             1.0|                    2.0|             2.0|     (3,[1],[1.0])|            (6,[2],[1.0])|    (15,[2],[1.0])|[60224.33984375,5...|[1.73686002203840...|\n",
      "|     33445.01|            2663.0842|              6.0|            4.0|          9.0|        0.0|                8.0|                  12.0|                4.82|                 1.0|               26.113174|               392|    0|0.6666666666666666|117.66666666666667|  77.33333333333333|             -20.0|              57.0| 89.33333333333333|154.33333333333334| 136.66666666666666| 112.33333333333333|             176.0| 61.333333333333336|18.666666666666668|113.66666666666667| 65.33333333333333|              170.0| 1.3333333333333333|-32.666666666666664|               15.0|115.66666666666667|               73.0|             2.0|                    5.0|            11.0|     (3,[2],[1.0])|            (6,[5],[1.0])|   (15,[11],[1.0])|[33445.01171875,2...|[0.96454861840932...|\n",
      "|     57055.95|            4817.6626|              4.0|            4.0|          9.0|        4.0|               19.0|                  15.0|               15.03|                 7.0|                32.43936|               100|    0|187.66666666666666|              65.0| 138.33333333333334|124.33333333333333|              68.0|36.333333333333336|101.33333333333333|              234.0|              128.0| 87.66666666666667| 230.33333333333334|              54.0|              98.0|162.66666666666666| 166.33333333333334| 128.66666666666666| 31.333333333333332| 186.33333333333334|134.33333333333334| 14.666666666666666|             0.0|                    1.0|            14.0|     (3,[0],[1.0])|            (6,[1],[1.0])|   (15,[14],[1.0])|[57055.94921875,4...|[1.64548415930514...|\n",
      "|     41982.88|            3263.5732|              4.0|            7.0|         14.0|        0.0|               23.0|                  20.0|               15.83|                 6.0|               27.261759|               213|    0|153.33333333333334|144.66666666666666| 14.333333333333334|40.666666666666664|140.33333333333334|147.66666666666666|162.66666666666666|              259.0|              143.0|             108.0|-28.666666666666668|165.33333333333334| 85.33333333333333|             109.0|               30.0| 60.666666666666664|  96.33333333333333| 161.33333333333334|             163.0|  72.66666666666667|             2.0|                    1.0|            14.0|     (3,[2],[1.0])|            (6,[1],[1.0])|   (15,[14],[1.0])|[41982.87890625,3...|[1.21077929905963...|\n",
      "|    14021.495|            1077.4579|              7.0|            5.0|         16.0|        2.0|               30.0|                  16.0|               11.19|                11.0|               40.389286|               161|    0|141.33333333333334|35.333333333333336|  70.66666666666667|20.666666666666668|161.33333333333334|              45.0|51.333333333333336|  91.66666666666667| 23.333333333333332|176.66666666666666| 108.33333333333333|12.666666666666666|206.66666666666666|136.33333333333334|               85.0|-23.333333333333332| 57.333333333333336|              234.0| 71.66666666666667|               42.0|             0.0|                    0.0|            11.0|     (3,[0],[1.0])|            (6,[0],[1.0])|   (15,[11],[1.0])|[14021.4951171875...|[0.40437760515820...|\n",
      "|     72363.72|              6124.31|              5.0|            3.0|          8.0|        3.0|                0.0|                   3.0|               12.85|                 7.0|               35.980732|               245|    0|136.33333333333334|             181.0|  88.66666666666667|             105.0|164.66666666666666|             114.0|111.33333333333333| 176.33333333333334|  90.66666666666667|111.66666666666667| -6.666666666666667|115.66666666666667|160.66666666666666|             128.0| 132.66666666666666|               66.0| 126.66666666666667|  95.33333333333333|             102.0|               82.0|             1.0|                    6.0|            13.0|     (3,[1],[1.0])|                (6,[],[])|   (15,[13],[1.0])|[72363.71875,6124...|[2.08695770628607...|\n",
      "|      92561.2|             7987.433|              8.0|            3.0|         15.0|        3.0|               21.0|                  10.0|               11.71|                 3.0|               27.190445|               201|    0|              43.0| 94.66666666666667|               96.0|187.33333333333334|             174.0|151.66666666666666|63.666666666666664|              144.0| 12.666666666666666|              80.0| 190.66666666666666|              33.0|30.666666666666668| 7.333333333333333| 126.66666666666667| 163.66666666666666|  262.3333333333333|               83.0|               9.0| 151.33333333333334|             0.0|                    1.0|            11.0|     (3,[0],[1.0])|            (6,[1],[1.0])|   (15,[11],[1.0])|[92561.203125,798...|[2.66944982239224...|\n",
      "+-------------+---------------------+-----------------+---------------+-------------+-----------+-------------------+----------------------+--------------------+--------------------+------------------------+------------------+-----+------------------+------------------+-------------------+------------------+------------------+------------------+------------------+-------------------+-------------------+------------------+-------------------+------------------+------------------+------------------+-------------------+-------------------+-------------------+-------------------+------------------+-------------------+----------------+-----------------------+----------------+------------------+-------------------------+------------------+--------------------+--------------------+\n",
      "only showing top 20 rows\n",
      "\n"
     ]
    }
   ],
   "source": [
    "scaled_df.show()"
   ]
  },
  {
   "cell_type": "code",
   "execution_count": 238,
   "id": "805d5f64-67a4-40cd-b267-5925d109506d",
   "metadata": {},
   "outputs": [
    {
     "name": "stderr",
     "output_type": "stream",
     "text": [
      "                                                                                "
     ]
    },
    {
     "name": "stdout",
     "output_type": "stream",
     "text": [
      "\n",
      "=== Logistic Regression ===\n",
      "AUC-ROC: 0.8264552522437245\n",
      "AUC-PR : 0.705605060999521\n",
      "F1     : 0.7742410345631399\n",
      "Confusion matrix:\n",
      "+-----+----------+-----+\n",
      "|label|prediction|count|\n",
      "+-----+----------+-----+\n",
      "|    0|       0.0|  906|\n",
      "|    0|       1.0|   76|\n",
      "|    1|       0.0|  180|\n",
      "|    1|       1.0|  185|\n",
      "+-----+----------+-----+\n",
      "\n",
      "\n",
      "=== Random Forest ===\n",
      "AUC-ROC: 0.8988338029740787\n",
      "AUC-PR : 0.8216298396127888\n",
      "F1     : 0.7773196545619808\n",
      "Confusion matrix:\n",
      "+-----+----------+-----+\n",
      "|label|prediction|count|\n",
      "+-----+----------+-----+\n",
      "|    0|       0.0|  954|\n",
      "|    0|       1.0|   28|\n",
      "|    1|       0.0|  156|\n",
      "|    1|       1.0|  209|\n",
      "+-----+----------+-----+\n",
      "\n"
     ]
    }
   ],
   "source": [
    "# === 0) Imports\n",
    "from pyspark.ml.feature import VectorAssembler\n",
    "from pyspark.ml.classification import LogisticRegression, RandomForestClassifier\n",
    "from pyspark.ml.evaluation import BinaryClassificationEvaluator, MulticlassClassificationEvaluator\n",
    "\n",
    "# === 1) Combine scaled numerics + encoded categoricals into one features vector\n",
    "# Make sure these columns exist in your scaled_df from your previous pipeline:\n",
    "# - \"scaled_features\" (StandardScaler output)\n",
    "# - \"Credit_Mix_encoded\", \"Payment_Behaviour_encoded\", \"Occupation_encoded\" (OneHotEncoder outputs)\n",
    "assembler_final = VectorAssembler(\n",
    "    inputCols=[\n",
    "        \"scaled_features\",\n",
    "        \"Credit_Mix_encoded\",\n",
    "        \"Payment_Behaviour_encoded\",\n",
    "        \"Occupation_encoded\",\n",
    "    ],\n",
    "    outputCol=\"features\",\n",
    "    handleInvalid=\"keep\"\n",
    ")\n",
    "\n",
    "final_df = assembler_final.transform(scaled_df).select(\"features\", \"label\")\n",
    "\n",
    "# === 2) Train/Test split\n",
    "train_df, test_df = final_df.randomSplit([0.8, 0.2], seed=42)\n",
    "\n",
    "# === 3) Train models\n",
    "# 3a) Logistic Regression\n",
    "lr = LogisticRegression(featuresCol=\"features\", labelCol=\"label\", maxIter=50)\n",
    "lr_model = lr.fit(train_df)\n",
    "lr_pred = lr_model.transform(test_df)\n",
    "\n",
    "# 3b) Random Forest\n",
    "rf = RandomForestClassifier(featuresCol=\"features\", labelCol=\"label\", numTrees=200, maxDepth=8, seed=42)\n",
    "rf_model = rf.fit(train_df)\n",
    "rf_pred = rf_model.transform(test_df)\n",
    "\n",
    "# === 4) Evaluate\n",
    "bin_eval_roc = BinaryClassificationEvaluator(labelCol=\"label\", metricName=\"areaUnderROC\")\n",
    "bin_eval_pr  = BinaryClassificationEvaluator(labelCol=\"label\", metricName=\"areaUnderPR\")\n",
    "f1_eval      = MulticlassClassificationEvaluator(labelCol=\"label\", metricName=\"f1\")\n",
    "\n",
    "def evaluate(name, pred):\n",
    "    print(f\"\\n=== {name} ===\")\n",
    "    print(\"AUC-ROC:\", bin_eval_roc.evaluate(pred))\n",
    "    print(\"AUC-PR :\", bin_eval_pr.evaluate(pred))\n",
    "    print(\"F1     :\", f1_eval.evaluate(pred))\n",
    "    print(\"Confusion matrix:\")\n",
    "    (pred\n",
    "     .groupBy(\"label\", \"prediction\")\n",
    "     .count()\n",
    "     .orderBy(\"label\", \"prediction\")\n",
    "     .show())\n",
    "\n",
    "evaluate(\"Logistic Regression\", lr_pred)\n",
    "evaluate(\"Random Forest\", rf_pred)\n",
    "\n",
    "# === 5) (Optional) Save the better model\n",
    "# lr_model.save(\"/path/to/save/lr_model\")\n",
    "# rf_model.save(\"/path/to/save/rf_model\")\n"
   ]
  },
  {
   "cell_type": "code",
   "execution_count": null,
   "id": "9f98d9fa-0267-4365-9e49-b95bc5c82f7f",
   "metadata": {},
   "outputs": [],
   "source": []
  }
 ],
 "metadata": {
  "kernelspec": {
   "display_name": "Python 3 (ipykernel)",
   "language": "python",
   "name": "python3"
  },
  "language_info": {
   "codemirror_mode": {
    "name": "ipython",
    "version": 3
   },
   "file_extension": ".py",
   "mimetype": "text/x-python",
   "name": "python",
   "nbconvert_exporter": "python",
   "pygments_lexer": "ipython3",
   "version": "3.12.11"
  }
 },
 "nbformat": 4,
 "nbformat_minor": 5
}
