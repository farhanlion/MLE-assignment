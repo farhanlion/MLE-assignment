{
 "cells": [
  {
   "cell_type": "code",
   "execution_count": 17,
   "id": "b50484d2-bfa4-40b6-82cd-e8bf86187cfd",
   "metadata": {},
   "outputs": [
    {
     "data": {
      "text/plain": [
       "<module 'utils.data_processing_gold_table' from '/app/utils/data_processing_gold_table.py'>"
      ]
     },
     "execution_count": 17,
     "metadata": {},
     "output_type": "execute_result"
    }
   ],
   "source": [
    "import os\n",
    "import glob\n",
    "import pandas as pd\n",
    "import matplotlib.pyplot as plt\n",
    "import numpy as np\n",
    "import random\n",
    "from datetime import datetime, timedelta\n",
    "from dateutil.relativedelta import relativedelta\n",
    "import pprint\n",
    "import pyspark\n",
    "import pyspark.sql.functions as F\n",
    "\n",
    "from pyspark.sql.functions import col\n",
    "from pyspark.sql.types import StringType, IntegerType, FloatType, DateType\n",
    "\n",
    "import utils.data_processing_bronze_table\n",
    "import utils.data_processing_silver_table\n",
    "import utils.data_processing_gold_table\n",
    "import importlib\n",
    "\n"
   ]
  },
  {
   "cell_type": "markdown",
   "id": "37c91bb1-bcf0-4195-90f3-dc88806ebf8c",
   "metadata": {},
   "source": [
    "## set up pyspark session"
   ]
  },
  {
   "cell_type": "code",
   "execution_count": 18,
   "id": "32fb3bc6-4166-4893-88e1-0d3140df5a92",
   "metadata": {},
   "outputs": [],
   "source": [
    "# Initialize SparkSession\n",
    "spark = pyspark.sql.SparkSession.builder \\\n",
    "    .appName(\"dev\") \\\n",
    "    .master(\"local[*]\") \\\n",
    "    .getOrCreate()\n",
    "\n",
    "# Set log level to ERROR to hide warnings\n",
    "spark.sparkContext.setLogLevel(\"ERROR\")"
   ]
  },
  {
   "cell_type": "markdown",
   "id": "1c5cddd1-b87b-42dd-8158-8ecf9bd6b839",
   "metadata": {},
   "source": [
    "## Build Bronze Table"
   ]
  },
  {
   "cell_type": "code",
   "execution_count": 19,
   "id": "5c1874a1-7485-4d53-8d21-f288ad309a16",
   "metadata": {},
   "outputs": [
    {
     "name": "stdout",
     "output_type": "stream",
     "text": [
      "Created directory (if missing): datamart/bronze/lms/\n",
      "Created directory (if missing): datamart/bronze/clickstream/\n",
      "Created directory (if missing): datamart/bronze/attributes/\n",
      "Created directory (if missing): datamart/bronze/fin/\n"
     ]
    }
   ],
   "source": [
    "# create bronze datalake\n",
    "bronze_lms_directory = \"datamart/bronze/lms/\"\n",
    "bronze_clickstream_directory = \"datamart/bronze/clickstream/\"\n",
    "bronze_attr_directory = \"datamart/bronze/attributes/\"\n",
    "bronze_fin_directory = \"datamart/bronze/fin/\"\n",
    "\n",
    "for directory in [\n",
    "    bronze_lms_directory,\n",
    "    bronze_clickstream_directory,\n",
    "    bronze_attr_directory,\n",
    "    bronze_fin_directory\n",
    "]:\n",
    "    os.makedirs(directory, exist_ok=True)\n",
    "    print(f\"Created directory (if missing): {directory}\")"
   ]
  },
  {
   "cell_type": "code",
   "execution_count": 20,
   "id": "3ea424c9-8361-4a66-977a-4850c0962941",
   "metadata": {},
   "outputs": [
    {
     "name": "stderr",
     "output_type": "stream",
     "text": [
      "                                                                                "
     ]
    },
    {
     "name": "stdout",
     "output_type": "stream",
     "text": [
      "Saved 35 bronze files to datamart/bronze/lms/\n",
      "Saved 24 bronze files to datamart/bronze/clickstream/\n",
      "Saved 25 bronze files to datamart/bronze/attributes/\n",
      "Saved 25 bronze files to datamart/bronze/fin/\n"
     ]
    },
    {
     "data": {
      "text/plain": [
       "DataFrame[Customer_ID: string, Annual_Income: string, Monthly_Inhand_Salary: double, Num_Bank_Accounts: int, Num_Credit_Card: int, Interest_Rate: int, Num_of_Loan: string, Type_of_Loan: string, Delay_from_due_date: int, Num_of_Delayed_Payment: string, Changed_Credit_Limit: string, Num_Credit_Inquiries: double, Credit_Mix: string, Outstanding_Debt: string, Credit_Utilization_Ratio: double, Credit_History_Age: string, Payment_of_Min_Amount: string, Total_EMI_per_month: double, Amount_invested_monthly: string, Payment_Behaviour: string, Monthly_Balance: string, snapshot_date: date]"
      ]
     },
     "execution_count": 20,
     "metadata": {},
     "output_type": "execute_result"
    }
   ],
   "source": [
    "# inspect output\n",
    "utils.data_processing_bronze_table.process_bronze_table(\"data/lms_loan_daily.csv\",bronze_lms_directory, spark)\n",
    "utils.data_processing_bronze_table.process_bronze_table(\"data/feature_clickstream.csv\",bronze_clickstream_directory, spark)\n",
    "utils.data_processing_bronze_table.process_bronze_table(\"data/features_attributes.csv\",bronze_attr_directory, spark)\n",
    "utils.data_processing_bronze_table.process_bronze_table(\"data/features_financials.csv\",bronze_fin_directory, spark)"
   ]
  },
  {
   "cell_type": "markdown",
   "id": "d767bf08-b027-43bd-a695-43b5217fd756",
   "metadata": {},
   "source": [
    "## Build Silver Table"
   ]
  },
  {
   "cell_type": "code",
   "execution_count": 21,
   "id": "81fd1733-5963-4536-987b-528e045dba71",
   "metadata": {},
   "outputs": [
    {
     "name": "stdout",
     "output_type": "stream",
     "text": [
      "Created directory (if missing): datamart/silver/loan_daily/\n",
      "Created directory (if missing): datamart/silver/fin/\n",
      "Created directory (if missing): datamart/silver/attributes/\n"
     ]
    }
   ],
   "source": [
    "# create bronze datalake\n",
    "silver_loan_daily_directory = \"datamart/silver/loan_daily/\"\n",
    "silver_fin_directory = \"datamart/silver/fin/\"\n",
    "silver_attr_directory = \"datamart/silver/attributes/\"\n",
    "\n",
    "for directory in [\n",
    "    silver_loan_daily_directory,\n",
    "    silver_fin_directory,\n",
    "    silver_attr_directory\n",
    "]:\n",
    "    os.makedirs(directory, exist_ok=True)\n",
    "    print(f\"Created directory (if missing): {directory}\")"
   ]
  },
  {
   "cell_type": "code",
   "execution_count": 22,
   "id": "5ccd38ec-e3f9-4c4e-8128-09b521f0f1b4",
   "metadata": {},
   "outputs": [
    {
     "name": "stdout",
     "output_type": "stream",
     "text": [
      "[SILVER/LMS] Found 35 bronze LMS partitions...\n",
      "[SILVER/LMS] Finished writing to datamart/silver/loan_daily/\n",
      "[SILVER/ATTR] Found 25 bronze attribute partitions...\n",
      "[SILVER/ATTR] Finished writing to datamart/silver/attributes/\n",
      "[SILVER/FIN] Found 25 bronze FIN partitions...\n",
      "[SILVER/FIN] Finished writing to datamart/silver/fin/\n"
     ]
    },
    {
     "data": {
      "text/plain": [
       "True"
      ]
     },
     "execution_count": 22,
     "metadata": {},
     "output_type": "execute_result"
    }
   ],
   "source": [
    "utils.data_processing_silver_table.process_silver_table_lms(bronze_lms_directory, silver_loan_daily_directory, spark)\n",
    "utils.data_processing_silver_table.process_silver_table_attr(bronze_attr_directory, silver_attr_directory, spark)\n",
    "utils.data_processing_silver_table.process_silver_table_fin(bronze_fin_directory, silver_fin_directory, spark)"
   ]
  },
  {
   "cell_type": "code",
   "execution_count": 23,
   "id": "08a8b6e0-1b7a-4b67-b334-f8c89ac4aeb6",
   "metadata": {},
   "outputs": [
    {
     "name": "stdout",
     "output_type": "stream",
     "text": [
      "=== Silver Financial Table ===\n",
      "root\n",
      " |-- Customer_ID: string (nullable = true)\n",
      " |-- Annual_Income: float (nullable = true)\n",
      " |-- Monthly_Inhand_Salary: float (nullable = true)\n",
      " |-- Num_Bank_Accounts: float (nullable = true)\n",
      " |-- Num_Credit_Card: float (nullable = true)\n",
      " |-- Interest_Rate: float (nullable = true)\n",
      " |-- Num_of_Loan: float (nullable = true)\n",
      " |-- Type_of_Loan: string (nullable = true)\n",
      " |-- Delay_from_due_date: float (nullable = true)\n",
      " |-- Num_of_Delayed_Payment: float (nullable = true)\n",
      " |-- Changed_Credit_Limit: float (nullable = true)\n",
      " |-- Num_Credit_Inquiries: float (nullable = true)\n",
      " |-- Credit_Mix: string (nullable = true)\n",
      " |-- Outstanding_Debt: float (nullable = true)\n",
      " |-- Credit_Utilization_Ratio: float (nullable = true)\n",
      " |-- Payment_of_Min_Amount: string (nullable = true)\n",
      " |-- Total_EMI_per_month: float (nullable = true)\n",
      " |-- Amount_invested_monthly: float (nullable = true)\n",
      " |-- Payment_Behaviour: string (nullable = true)\n",
      " |-- Monthly_Balance: float (nullable = true)\n",
      " |-- snapshot_date: date (nullable = true)\n",
      " |-- Credit_History_Age: integer (nullable = true)\n",
      "\n",
      "+-----------+-------------+---------------------+-----------------+---------------+-------------+-----------+-------------------------------------------------------------------------------------------------------------------------------------------+-------------------+----------------------+--------------------+--------------------+----------+----------------+------------------------+---------------------+-------------------+-----------------------+--------------------------------+---------------+-------------+------------------+\n",
      "|Customer_ID|Annual_Income|Monthly_Inhand_Salary|Num_Bank_Accounts|Num_Credit_Card|Interest_Rate|Num_of_Loan|Type_of_Loan                                                                                                                               |Delay_from_due_date|Num_of_Delayed_Payment|Changed_Credit_Limit|Num_Credit_Inquiries|Credit_Mix|Outstanding_Debt|Credit_Utilization_Ratio|Payment_of_Min_Amount|Total_EMI_per_month|Amount_invested_monthly|Payment_Behaviour               |Monthly_Balance|snapshot_date|Credit_History_Age|\n",
      "+-----------+-------------+---------------------+-----------------+---------------+-------------+-----------+-------------------------------------------------------------------------------------------------------------------------------------------+-------------------+----------------------+--------------------+--------------------+----------+----------------+------------------------+---------------------+-------------------+-----------------------+--------------------------------+---------------+-------------+------------------+\n",
      "|CUS_0x1037 |15989.085    |1086.4237            |5.0              |4.0            |2.0          |4.0        |Credit-Builder Loan, Auto Loan, Auto Loan, and Mortgage Loan                                                                               |13.0               |15.0                  |0.5                 |3.0                 |Good      |665.82          |40.6977                 |No                   |33.79702           |80.46524               |Low_spent_Small_value_payments  |284.38013      |2023-01-01   |237               |\n",
      "|CUS_0x1069 |58637.34     |4799.445             |4.0              |6.0            |10.0         |NULL       |Personal Loan, Auto Loan, and Not Specified                                                                                                |9.0                |17.0                  |12.56               |5.0                 |Standard  |208.8           |25.233143               |Yes                  |139.88501          |165.21062              |High_spent_Small_value_payments |434.84888      |2023-01-01   |368               |\n",
      "|CUS_0x114a |15305.46     |1230.455             |0.0              |7.0            |2.0          |2.0        |Student Loan, and Home Equity Loan                                                                                                         |14.0               |2.0                   |15.95               |0.0                 |Good      |642.42          |27.525112               |No                   |20.301655          |64.77848               |Low_spent_Small_value_payments  |327.96536      |2023-01-01   |189               |\n",
      "|CUS_0x1184 |19867.475    |1396.6229            |3.0              |5.0            |11.0         |3.0        |Student Loan, Mortgage Loan, and Payday Loan                                                                                               |10.0               |9.0                   |6.74                |4.0                 |Good      |707.29          |26.68979                |No                   |42.60688           |23.460943              |Unknown                         |313.59445      |2023-01-01   |392               |\n",
      "|CUS_0x1297 |57738.06     |4881.505             |9.0              |8.0            |30.0         |9.0        |Payday Loan, Personal Loan, Payday Loan, Personal Loan, Mortgage Loan, Home Equity Loan, Student Loan, Credit-Builder Loan, and Payday Loan|NULL               |24.0                  |14.27               |11.0                |Bad       |NULL            |25.742142               |Yes                  |296.28415          |53.82118               |High_spent_Medium_value_payments|388.0452       |2023-01-01   |164               |\n",
      "+-----------+-------------+---------------------+-----------------+---------------+-------------+-----------+-------------------------------------------------------------------------------------------------------------------------------------------+-------------------+----------------------+--------------------+--------------------+----------+----------------+------------------------+---------------------+-------------------+-----------------------+--------------------------------+---------------+-------------+------------------+\n",
      "only showing top 5 rows\n",
      "\n",
      "\n",
      "=== Silver Attribute Table ===\n",
      "root\n",
      " |-- Customer_ID: string (nullable = true)\n",
      " |-- Name: string (nullable = true)\n",
      " |-- Age: integer (nullable = true)\n",
      " |-- SSN: string (nullable = true)\n",
      " |-- Occupation: string (nullable = true)\n",
      " |-- snapshot_date: date (nullable = true)\n",
      "\n",
      "+-----------+---------------+---+-----------+----------+-------------+\n",
      "|Customer_ID|Name           |Age|SSN        |Occupation|snapshot_date|\n",
      "+-----------+---------------+---+-----------+----------+-------------+\n",
      "|CUS_0x1037 |Matthewm       |45 |230-22-9583|Accountant|2023-01-01   |\n",
      "|CUS_0x1069 |Andreas Cremero|32 |761-27-5143|Accountant|2023-01-01   |\n",
      "|CUS_0x114a |Valetkevitchu  |43 |133-89-5234|Developer |2023-01-01   |\n",
      "|CUS_0x1184 |Cohenq         |49 |963-76-2464|Lawyer    |2023-01-01   |\n",
      "|CUS_0x1297 |Edwardsz       |46 |000-00-0000|Manager   |2023-01-01   |\n",
      "+-----------+---------------+---+-----------+----------+-------------+\n",
      "only showing top 5 rows\n",
      "\n",
      "\n",
      "=== Silver Loan Daily Table ===\n",
      "root\n",
      " |-- loan_id: string (nullable = true)\n",
      " |-- Customer_ID: string (nullable = true)\n",
      " |-- loan_start_date: date (nullable = true)\n",
      " |-- tenure: integer (nullable = true)\n",
      " |-- installment_num: integer (nullable = true)\n",
      " |-- loan_amt: float (nullable = true)\n",
      " |-- due_amt: float (nullable = true)\n",
      " |-- paid_amt: float (nullable = true)\n",
      " |-- overdue_amt: float (nullable = true)\n",
      " |-- balance: float (nullable = true)\n",
      " |-- snapshot_date: date (nullable = true)\n",
      " |-- mob: integer (nullable = true)\n",
      " |-- installments_missed: integer (nullable = true)\n",
      " |-- first_missed_date: date (nullable = true)\n",
      " |-- dpd: integer (nullable = true)\n",
      "\n",
      "+---------------------+-----------+---------------+------+---------------+--------+-------+--------+-----------+-------+-------------+---+-------------------+-----------------+---+\n",
      "|loan_id              |Customer_ID|loan_start_date|tenure|installment_num|loan_amt|due_amt|paid_amt|overdue_amt|balance|snapshot_date|mob|installments_missed|first_missed_date|dpd|\n",
      "+---------------------+-----------+---------------+------+---------------+--------+-------+--------+-----------+-------+-------------+---+-------------------+-----------------+---+\n",
      "|CUS_0x1037_2023_01_01|CUS_0x1037 |2023-01-01     |10    |0              |10000.0 |0.0    |0.0     |0.0        |10000.0|2023-01-01   |0  |0                  |NULL             |0  |\n",
      "|CUS_0x1069_2023_01_01|CUS_0x1069 |2023-01-01     |10    |0              |10000.0 |0.0    |0.0     |0.0        |10000.0|2023-01-01   |0  |0                  |NULL             |0  |\n",
      "|CUS_0x114a_2023_01_01|CUS_0x114a |2023-01-01     |10    |0              |10000.0 |0.0    |0.0     |0.0        |10000.0|2023-01-01   |0  |0                  |NULL             |0  |\n",
      "|CUS_0x1184_2023_01_01|CUS_0x1184 |2023-01-01     |10    |0              |10000.0 |0.0    |0.0     |0.0        |10000.0|2023-01-01   |0  |0                  |NULL             |0  |\n",
      "|CUS_0x1297_2023_01_01|CUS_0x1297 |2023-01-01     |10    |0              |10000.0 |0.0    |0.0     |0.0        |10000.0|2023-01-01   |0  |0                  |NULL             |0  |\n",
      "+---------------------+-----------+---------------+------+---------------+--------+-------+--------+-----------+-------+-------------+---+-------------------+-----------------+---+\n",
      "only showing top 5 rows\n",
      "\n"
     ]
    }
   ],
   "source": [
    "# --- Financial Table ---\n",
    "print(\"=== Silver Financial Table ===\")\n",
    "df_fin = spark.read.parquet(\"datamart/silver/fin/silver_fin_2023_01_01.parquet\")\n",
    "df_fin.printSchema()\n",
    "df_fin.show(5, truncate=False)\n",
    "\n",
    "# --- Attribute Table ---\n",
    "print(\"\\n=== Silver Attribute Table ===\")\n",
    "df_attr = spark.read.parquet(\"datamart/silver/attributes/silver_attr_2023_01_01.parquet\")\n",
    "df_attr.printSchema()\n",
    "df_attr.show(5, truncate=False)\n",
    "\n",
    "# --- Loan Daily Table ---\n",
    "print(\"\\n=== Silver Loan Daily Table ===\")\n",
    "df_lms = spark.read.parquet(\"datamart/silver/loan_daily/silver_loan_daily_2023_01_01.parquet\")\n",
    "df_lms.printSchema()\n",
    "df_lms.show(5, truncate=False)\n"
   ]
  },
  {
   "cell_type": "markdown",
   "id": "86f9b5fe-a68c-4aa5-8c3e-8c0f59b654a6",
   "metadata": {},
   "source": [
    "## EDA on credit labels"
   ]
  },
  {
   "cell_type": "code",
   "execution_count": 24,
   "id": "608e1387-c2d4-4b41-b5aa-425ad6376e5c",
   "metadata": {},
   "outputs": [
    {
     "data": {
      "image/png": "[encoded data removed]",
      "text/plain": [
       "<Figure size 640x480 with 1 Axes>"
      ]
     },
     "metadata": {},
     "output_type": "display_data"
    }
   ],
   "source": [
    "# set dpd label definition\n",
    "dpd = 90\n",
    "\n",
    "# Path to the folder containing CSV files\n",
    "folder_path = silver_loan_daily_directory\n",
    "\n",
    "# Read all CSV files into a single DataFrame\n",
    "files_list = [folder_path+os.path.basename(f) for f in glob.glob(os.path.join(folder_path, '*'))]\n",
    "df = spark.read.option(\"header\", \"true\").parquet(*files_list)\n",
    "\n",
    "# filter only completed loans\n",
    "df = df.filter(col(\"loan_start_date\") < datetime.strptime(\"2024-01-01\", \"%Y-%m-%d\"))\n",
    "\n",
    "# create dpd flag if more than dpd\n",
    "df = df.withColumn(\"dpd_flag\", F.when(col(\"dpd\") >= dpd, 1).otherwise(0))\n",
    "\n",
    "# actual bads \n",
    "actual_bads_df = df.filter(col(\"installment_num\") == 10)\n",
    "\n",
    "# visualise bad rate\n",
    "pdf = df.toPandas()\n",
    "\n",
    "# Group by col_A and count occurrences in col_B\n",
    "grouped = pdf.groupby('mob')['dpd_flag'].mean()\n",
    "\n",
    "# Sort the index (x-axis) of the grouped DataFrame\n",
    "grouped = grouped.sort_index()\n",
    "\n",
    "# Plotting\n",
    "grouped.plot(kind='line', marker='o')\n",
    "\n",
    "plt.title('DPD: '+ str(dpd))\n",
    "plt.xlabel('mob')\n",
    "plt.ylabel('bad rate')\n",
    "plt.grid(True)\n",
    "plt.show()\n"
   ]
  },
  {
   "cell_type": "markdown",
   "id": "fa5a6b17-8978-405a-8b04-6c6f4c7a3e52",
   "metadata": {},
   "source": [
    "## Build gold table for labels"
   ]
  },
  {
   "cell_type": "code",
   "execution_count": 25,
   "id": "7b4fca41-8b52-47e9-bf40-b063a0d7c62e",
   "metadata": {},
   "outputs": [],
   "source": [
    "# create bronze datalake\n",
    "gold_label_store_directory = \"datamart/gold/label_store/\"\n",
    "\n",
    "if not os.path.exists(gold_label_store_directory):\n",
    "    os.makedirs(gold_label_store_directory)"
   ]
  },
  {
   "cell_type": "code",
   "execution_count": 26,
   "id": "8a7874eb-aa70-4cd4-81ca-1e955e788b44",
   "metadata": {},
   "outputs": [
    {
     "name": "stdout",
     "output_type": "stream",
     "text": [
      "[GOLD/LABEL] Found 35 silver LMS partitions...\n",
      "[GOLD/LABEL] Finished writing to datamart/gold/label_store/\n"
     ]
    },
    {
     "data": {
      "text/plain": [
       "True"
      ]
     },
     "execution_count": 26,
     "metadata": {},
     "output_type": "execute_result"
    }
   ],
   "source": [
    "# run gold backfill\n",
    "utils.data_processing_gold_table.process_labels_gold_table(silver_loan_daily_directory, gold_label_store_directory, spark, dpd = 90, mob = 7)\n"
   ]
  },
  {
   "cell_type": "markdown",
   "id": "70eeb8a3-7737-4556-a85c-e844b47f6454",
   "metadata": {},
   "source": [
    "## inspect label store"
   ]
  },
  {
   "cell_type": "code",
   "execution_count": 27,
   "id": "0abc72e2-90ed-46da-8c6e-599573d54049",
   "metadata": {},
   "outputs": [
    {
     "name": "stdout",
     "output_type": "stream",
     "text": [
      "row_count: 12500\n",
      "+--------------------+-----------+-----+----------+-------------+\n",
      "|             loan_id|Customer_ID|label| label_def|snapshot_date|\n",
      "+--------------------+-----------+-----+----------+-------------+\n",
      "|CUS_0x10ac_2024_0...| CUS_0x10ac|    0|90dpd_7mob|   2025-03-01|\n",
      "|CUS_0x10c5_2024_0...| CUS_0x10c5|    1|90dpd_7mob|   2025-03-01|\n",
      "|CUS_0x1145_2024_0...| CUS_0x1145|    1|90dpd_7mob|   2025-03-01|\n",
      "|CUS_0x11ac_2024_0...| CUS_0x11ac|    0|90dpd_7mob|   2025-03-01|\n",
      "|CUS_0x122c_2024_0...| CUS_0x122c|    0|90dpd_7mob|   2025-03-01|\n",
      "|CUS_0x1274_2024_0...| CUS_0x1274|    1|90dpd_7mob|   2025-03-01|\n",
      "|CUS_0x1288_2024_0...| CUS_0x1288|    1|90dpd_7mob|   2025-03-01|\n",
      "|CUS_0x12cc_2024_0...| CUS_0x12cc|    1|90dpd_7mob|   2025-03-01|\n",
      "|CUS_0x1338_2024_0...| CUS_0x1338|    0|90dpd_7mob|   2025-03-01|\n",
      "|CUS_0x1370_2024_0...| CUS_0x1370|    1|90dpd_7mob|   2025-03-01|\n",
      "|CUS_0x1378_2024_0...| CUS_0x1378|    1|90dpd_7mob|   2025-03-01|\n",
      "|CUS_0x139b_2024_0...| CUS_0x139b|    0|90dpd_7mob|   2025-03-01|\n",
      "|CUS_0x13a9_2024_0...| CUS_0x13a9|    0|90dpd_7mob|   2025-03-01|\n",
      "|CUS_0x13ce_2024_0...| CUS_0x13ce|    0|90dpd_7mob|   2025-03-01|\n",
      "|CUS_0x147a_2024_0...| CUS_0x147a|    0|90dpd_7mob|   2025-03-01|\n",
      "|CUS_0x1510_2024_0...| CUS_0x1510|    1|90dpd_7mob|   2025-03-01|\n",
      "|CUS_0x1572_2024_0...| CUS_0x1572|    0|90dpd_7mob|   2025-03-01|\n",
      "|CUS_0x159b_2024_0...| CUS_0x159b|    0|90dpd_7mob|   2025-03-01|\n",
      "|CUS_0x15f1_2024_0...| CUS_0x15f1|    0|90dpd_7mob|   2025-03-01|\n",
      "|CUS_0x1621_2024_0...| CUS_0x1621|    0|90dpd_7mob|   2025-03-01|\n",
      "+--------------------+-----------+-----+----------+-------------+\n",
      "only showing top 20 rows\n",
      "\n"
     ]
    }
   ],
   "source": [
    "folder_path = gold_label_store_directory\n",
    "files_list = [folder_path+os.path.basename(f) for f in glob.glob(os.path.join(folder_path, '*'))]\n",
    "df = spark.read.option(\"header\", \"true\").parquet(*files_list)\n",
    "print(\"row_count:\",df.count())\n",
    "\n",
    "df.show()"
   ]
  },
  {
   "cell_type": "code",
   "execution_count": 28,
   "id": "bc20833e-9653-4c4c-9ce0-0023cca719b5",
   "metadata": {},
   "outputs": [
    {
     "name": "stdout",
     "output_type": "stream",
     "text": [
      "root\n",
      " |-- loan_id: string (nullable = true)\n",
      " |-- Customer_ID: string (nullable = true)\n",
      " |-- label: integer (nullable = true)\n",
      " |-- label_def: string (nullable = true)\n",
      " |-- snapshot_date: date (nullable = true)\n",
      "\n"
     ]
    }
   ],
   "source": [
    "df.printSchema()"
   ]
  },
  {
   "cell_type": "markdown",
   "id": "c760593a-3e6a-4416-892c-7057ac3a35eb",
   "metadata": {},
   "source": [
    "## Build gold table for features"
   ]
  },
  {
   "cell_type": "code",
   "execution_count": 29,
   "id": "845dda2a-1659-407d-9e98-df1dbdb3f025",
   "metadata": {},
   "outputs": [],
   "source": [
    "gold_feature_store_directory = \"datamart/gold/feature_store/\"\n",
    "silver_attr_directory = \"datamart/silver/attributes/\"\n",
    "silver_fin_directory = \"datamart/silver/fin/\"\n",
    "bronze_clickstream_directory = \"datamart/bronze/clickstream/\"\n",
    "\n",
    "\n",
    "if not os.path.exists(gold_feature_store_directory):\n",
    "    os.makedirs(gold_feature_store_directory)"
   ]
  },
  {
   "cell_type": "code",
   "execution_count": 30,
   "id": "245b9736-a849-4f41-8e40-2bbad127a03f",
   "metadata": {},
   "outputs": [
    {
     "name": "stdout",
     "output_type": "stream",
     "text": [
      "Dropped columns: ['Outstanding_Debt', 'Payment_of_Min_Amount', 'Total_EMI_per_month', 'Amount_invested_monthly', 'Monthly_Balance']\n",
      "[GOLD/FE] Found 24 snapshot dates to save.\n",
      "[GOLD/FE] Writing snapshot 2024_04_01 to datamart/gold/feature_store/gold_feature_store_2024_04_01.parquet\n",
      "[GOLD/FE] Writing snapshot 2024_03_01 to datamart/gold/feature_store/gold_feature_store_2024_03_01.parquet\n",
      "[GOLD/FE] Writing snapshot 2024_09_01 to datamart/gold/feature_store/gold_feature_store_2024_09_01.parquet\n",
      "[GOLD/FE] Writing snapshot 2023_03_01 to datamart/gold/feature_store/gold_feature_store_2023_03_01.parquet\n",
      "[GOLD/FE] Writing snapshot 2023_01_01 to datamart/gold/feature_store/gold_feature_store_2023_01_01.parquet\n",
      "[GOLD/FE] Writing snapshot 2023_04_01 to datamart/gold/feature_store/gold_feature_store_2023_04_01.parquet\n",
      "[GOLD/FE] Writing snapshot 2023_06_01 to datamart/gold/feature_store/gold_feature_store_2023_06_01.parquet\n",
      "[GOLD/FE] Writing snapshot 2024_11_01 to datamart/gold/feature_store/gold_feature_store_2024_11_01.parquet\n",
      "[GOLD/FE] Writing snapshot 2023_02_01 to datamart/gold/feature_store/gold_feature_store_2023_02_01.parquet\n",
      "[GOLD/FE] Writing snapshot 2024_10_01 to datamart/gold/feature_store/gold_feature_store_2024_10_01.parquet\n",
      "[GOLD/FE] Writing snapshot 2024_08_01 to datamart/gold/feature_store/gold_feature_store_2024_08_01.parquet\n",
      "[GOLD/FE] Writing snapshot 2023_07_01 to datamart/gold/feature_store/gold_feature_store_2023_07_01.parquet\n",
      "[GOLD/FE] Writing snapshot 2023_11_01 to datamart/gold/feature_store/gold_feature_store_2023_11_01.parquet\n",
      "[GOLD/FE] Writing snapshot 2024_06_01 to datamart/gold/feature_store/gold_feature_store_2024_06_01.parquet\n",
      "[GOLD/FE] Writing snapshot 2024_02_01 to datamart/gold/feature_store/gold_feature_store_2024_02_01.parquet\n",
      "[GOLD/FE] Writing snapshot 2023_10_01 to datamart/gold/feature_store/gold_feature_store_2023_10_01.parquet\n",
      "[GOLD/FE] Writing snapshot 2023_09_01 to datamart/gold/feature_store/gold_feature_store_2023_09_01.parquet\n",
      "[GOLD/FE] Writing snapshot 2023_05_01 to datamart/gold/feature_store/gold_feature_store_2023_05_01.parquet\n",
      "[GOLD/FE] Writing snapshot 2023_08_01 to datamart/gold/feature_store/gold_feature_store_2023_08_01.parquet\n",
      "[GOLD/FE] Writing snapshot 2024_01_01 to datamart/gold/feature_store/gold_feature_store_2024_01_01.parquet\n",
      "[GOLD/FE] Writing snapshot 2024_12_01 to datamart/gold/feature_store/gold_feature_store_2024_12_01.parquet\n",
      "[GOLD/FE] Writing snapshot 2023_12_01 to datamart/gold/feature_store/gold_feature_store_2023_12_01.parquet\n",
      "[GOLD/FE] Writing snapshot 2024_05_01 to datamart/gold/feature_store/gold_feature_store_2024_05_01.parquet\n",
      "[GOLD/FE] Writing snapshot 2024_07_01 to datamart/gold/feature_store/gold_feature_store_2024_07_01.parquet\n",
      "[GOLD/FE] Finished writing feature gold tables to datamart/gold/feature_store/\n"
     ]
    },
    {
     "data": {
      "text/plain": [
       "DataFrame[Customer_ID: string, Annual_Income: float, Monthly_Inhand_Salary: float, Num_Bank_Accounts: float, Num_Credit_Card: float, Interest_Rate: float, Num_of_Loan: float, Delay_from_due_date: float, Num_of_Delayed_Payment: float, Changed_Credit_Limit: float, Num_Credit_Inquiries: float, Credit_Mix: string, Credit_Utilization_Ratio: float, Payment_Behaviour: string, Credit_History_Age: int, Occupation: string, fe_1: int, fe_2: int, fe_3: int, fe_4: int, fe_5: int, fe_6: int, fe_7: int, fe_8: int, fe_9: int, fe_10: int, fe_11: int, fe_12: int, fe_13: int, fe_14: int, fe_15: int, fe_16: int, fe_17: int, fe_18: int, fe_19: int, fe_20: int, snapshot_date: date]"
      ]
     },
     "execution_count": 30,
     "metadata": {},
     "output_type": "execute_result"
    }
   ],
   "source": [
    "\n",
    "utils.data_processing_gold_table.process_features_gold_table(silver_attr_directory, silver_fin_directory, bronze_clickstream_directory, gold_feature_store_directory, spark)"
   ]
  }
 ],
 "metadata": {
  "kernelspec": {
   "display_name": "Python 3 (ipykernel)",
   "language": "python",
   "name": "python3"
  },
  "language_info": {
   "codemirror_mode": {
    "name": "ipython",
    "version": 3
   },
   "file_extension": ".py",
   "mimetype": "text/x-python",
   "name": "python",
   "nbconvert_exporter": "python",
   "pygments_lexer": "ipython3",
   "version": "3.12.11"
  }
 },
 "nbformat": 4,
 "nbformat_minor": 5
}
