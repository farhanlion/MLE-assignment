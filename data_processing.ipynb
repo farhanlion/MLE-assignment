{
 "cells": [
  {
   "cell_type": "code",
   "execution_count": 80,
   "id": "b50484d2-bfa4-40b6-82cd-e8bf86187cfd",
   "metadata": {},
   "outputs": [
    {
     "data": {
      "text/plain": [
       "<module 'utils.data_processing_gold_table' from '/app/utils/data_processing_gold_table.py'>"
      ]
     },
     "execution_count": 80,
     "metadata": {},
     "output_type": "execute_result"
    }
   ],
   "source": [
    "import os\n",
    "import glob\n",
    "import pandas as pd\n",
    "import matplotlib.pyplot as plt\n",
    "import numpy as np\n",
    "import random\n",
    "from datetime import datetime, timedelta\n",
    "from dateutil.relativedelta import relativedelta\n",
    "import pprint\n",
    "import pyspark\n",
    "import pyspark.sql.functions as F\n",
    "\n",
    "from pyspark.sql.functions import col\n",
    "from pyspark.sql.types import StringType, IntegerType, FloatType, DateType\n",
    "\n",
    "import utils.data_processing_bronze_table\n",
    "import utils.data_processing_silver_table\n",
    "import utils.data_processing_gold_table\n",
    "import importlib\n",
    "importlib.reload(utils.data_processing_bronze_table)\n",
    "importlib.reload(utils.data_processing_silver_table)\n",
    "importlib.reload(utils.data_processing_gold_table)\n"
   ]
  },
  {
   "cell_type": "markdown",
   "id": "37c91bb1-bcf0-4195-90f3-dc88806ebf8c",
   "metadata": {},
   "source": [
    "## set up pyspark session"
   ]
  },
  {
   "cell_type": "code",
   "execution_count": 54,
   "id": "32fb3bc6-4166-4893-88e1-0d3140df5a92",
   "metadata": {},
   "outputs": [],
   "source": [
    "# Initialize SparkSession\n",
    "spark = pyspark.sql.SparkSession.builder \\\n",
    "    .appName(\"dev\") \\\n",
    "    .master(\"local[*]\") \\\n",
    "    .getOrCreate()\n",
    "\n",
    "# Set log level to ERROR to hide warnings\n",
    "spark.sparkContext.setLogLevel(\"ERROR\")"
   ]
  },
  {
   "cell_type": "markdown",
   "id": "1c5cddd1-b87b-42dd-8158-8ecf9bd6b839",
   "metadata": {},
   "source": [
    "## Build Bronze Table"
   ]
  },
  {
   "cell_type": "code",
   "execution_count": 55,
   "id": "5c1874a1-7485-4d53-8d21-f288ad309a16",
   "metadata": {},
   "outputs": [
    {
     "name": "stdout",
     "output_type": "stream",
     "text": [
      "Created directory (if missing): datamart/bronze/lms/\n",
      "Created directory (if missing): datamart/bronze/clickstream/\n",
      "Created directory (if missing): datamart/bronze/attributes/\n",
      "Created directory (if missing): datamart/bronze/fin/\n"
     ]
    }
   ],
   "source": [
    "# create bronze datalake\n",
    "bronze_lms_directory = \"datamart/bronze/lms/\"\n",
    "bronze_clickstream_directory = \"datamart/bronze/clickstream/\"\n",
    "bronze_attr_directory = \"datamart/bronze/attributes/\"\n",
    "bronze_fin_directory = \"datamart/bronze/fin/\"\n",
    "\n",
    "for directory in [\n",
    "    bronze_lms_directory,\n",
    "    bronze_clickstream_directory,\n",
    "    bronze_attr_directory,\n",
    "    bronze_fin_directory\n",
    "]:\n",
    "    os.makedirs(directory, exist_ok=True)\n",
    "    print(f\"Created directory (if missing): {directory}\")"
   ]
  },
  {
   "cell_type": "code",
   "execution_count": 81,
   "id": "3ea424c9-8361-4a66-977a-4850c0962941",
   "metadata": {},
   "outputs": [
    {
     "name": "stderr",
     "output_type": "stream",
     "text": [
      "ERROR:root:KeyboardInterrupt while sending command.\n",
      "Traceback (most recent call last):\n",
      "  File \"/usr/local/lib/python3.12/site-packages/py4j/java_gateway.py\", line 1038, in send_command\n",
      "    response = connection.send_command(command)\n",
      "               ^^^^^^^^^^^^^^^^^^^^^^^^^^^^^^^^\n",
      "  File \"/usr/local/lib/python3.12/site-packages/py4j/clientserver.py\", line 511, in send_command\n",
      "    answer = smart_decode(self.stream.readline()[:-1])\n",
      "                          ^^^^^^^^^^^^^^^^^^^^^^\n",
      "  File \"/usr/local/lib/python3.12/socket.py\", line 720, in readinto\n",
      "    return self._sock.recv_into(b)\n",
      "           ^^^^^^^^^^^^^^^^^^^^^^^\n",
      "KeyboardInterrupt\n"
     ]
    },
    {
     "ename": "KeyboardInterrupt",
     "evalue": "",
     "output_type": "error",
     "traceback": [
      "\u001b[31m---------------------------------------------------------------------------\u001b[39m",
      "\u001b[31mKeyboardInterrupt\u001b[39m                         Traceback (most recent call last)",
      "\u001b[36mCell\u001b[39m\u001b[36m \u001b[39m\u001b[32mIn[81]\u001b[39m\u001b[32m, line 2\u001b[39m\n\u001b[32m      1\u001b[39m \u001b[38;5;66;03m# inspect output\u001b[39;00m\n\u001b[32m----> \u001b[39m\u001b[32m2\u001b[39m \u001b[43mutils\u001b[49m\u001b[43m.\u001b[49m\u001b[43mdata_processing_bronze_table\u001b[49m\u001b[43m.\u001b[49m\u001b[43mprocess_bronze_table\u001b[49m\u001b[43m(\u001b[49m\u001b[33;43m\"\u001b[39;49m\u001b[33;43mdata/lms_loan_daily.csv\u001b[39;49m\u001b[33;43m\"\u001b[39;49m\u001b[43m,\u001b[49m\u001b[43mbronze_lms_directory\u001b[49m\u001b[43m,\u001b[49m\u001b[43m \u001b[49m\u001b[43mspark\u001b[49m\u001b[43m)\u001b[49m\n\u001b[32m      3\u001b[39m utils.data_processing_bronze_table.process_bronze_table(\u001b[33m\"\u001b[39m\u001b[33mdata/feature_clickstream.csv\u001b[39m\u001b[33m\"\u001b[39m,bronze_clickstream_directory, spark)\n\u001b[32m      4\u001b[39m utils.data_processing_bronze_table.process_bronze_table(\u001b[33m\"\u001b[39m\u001b[33mdata/features_attributes.csv\u001b[39m\u001b[33m\"\u001b[39m,bronze_attr_directory, spark)\n",
      "\u001b[36mFile \u001b[39m\u001b[32m/app/utils/data_processing_bronze_table.py:42\u001b[39m, in \u001b[36mprocess_bronze_table\u001b[39m\u001b[34m(csv_file_path, bronze_directory, spark, prefix)\u001b[39m\n\u001b[32m     36\u001b[39m     df_snapshot = df_base.filter(F.col(\u001b[33m\"\u001b[39m\u001b[33msnapshot_date\u001b[39m\u001b[33m\"\u001b[39m) == snapshot_date_str)\n\u001b[32m     38\u001b[39m     outpath = os.path.join(\n\u001b[32m     39\u001b[39m         bronze_directory,\n\u001b[32m     40\u001b[39m         \u001b[33mf\u001b[39m\u001b[33m\"\u001b[39m\u001b[38;5;132;01m{\u001b[39;00mprefix\u001b[38;5;132;01m}\u001b[39;00m\u001b[33m_\u001b[39m\u001b[38;5;132;01m{\u001b[39;00msnapshot_date_str.replace(\u001b[33m'\u001b[39m\u001b[33m-\u001b[39m\u001b[33m'\u001b[39m,\u001b[38;5;250m \u001b[39m\u001b[33m'\u001b[39m\u001b[33m_\u001b[39m\u001b[33m'\u001b[39m)\u001b[38;5;132;01m}\u001b[39;00m\u001b[33m.csv\u001b[39m\u001b[33m\"\u001b[39m\n\u001b[32m     41\u001b[39m     )\n\u001b[32m---> \u001b[39m\u001b[32m42\u001b[39m     \u001b[43mdf_snapshot\u001b[49m\u001b[43m.\u001b[49m\u001b[43mtoPandas\u001b[49m\u001b[43m(\u001b[49m\u001b[43m)\u001b[49m.to_csv(outpath, index=\u001b[38;5;28;01mFalse\u001b[39;00m)\n\u001b[32m     44\u001b[39m \u001b[38;5;28mprint\u001b[39m(\u001b[33mf\u001b[39m\u001b[33m\"\u001b[39m\u001b[33mSaved \u001b[39m\u001b[38;5;132;01m{\u001b[39;00m\u001b[38;5;28mlen\u001b[39m(dates_str_lst)\u001b[38;5;132;01m}\u001b[39;00m\u001b[33m bronze files to \u001b[39m\u001b[38;5;132;01m{\u001b[39;00mbronze_directory\u001b[38;5;132;01m}\u001b[39;00m\u001b[33m\"\u001b[39m)\n\u001b[32m     45\u001b[39m \u001b[38;5;28;01mreturn\u001b[39;00m df_base\n",
      "\u001b[36mFile \u001b[39m\u001b[32m/usr/local/lib/python3.12/site-packages/pyspark/sql/pandas/conversion.py:202\u001b[39m, in \u001b[36mPandasConversionMixin.toPandas\u001b[39m\u001b[34m(self)\u001b[39m\n\u001b[32m    199\u001b[39m             \u001b[38;5;28;01mraise\u001b[39;00m\n\u001b[32m    201\u001b[39m \u001b[38;5;66;03m# Below is toPandas without Arrow optimization.\u001b[39;00m\n\u001b[32m--> \u001b[39m\u001b[32m202\u001b[39m rows = \u001b[38;5;28;43mself\u001b[39;49m\u001b[43m.\u001b[49m\u001b[43mcollect\u001b[49m\u001b[43m(\u001b[49m\u001b[43m)\u001b[49m\n\u001b[32m    203\u001b[39m \u001b[38;5;28;01mif\u001b[39;00m \u001b[38;5;28mlen\u001b[39m(rows) > \u001b[32m0\u001b[39m:\n\u001b[32m    204\u001b[39m     pdf = pd.DataFrame.from_records(\n\u001b[32m    205\u001b[39m         rows, index=\u001b[38;5;28mrange\u001b[39m(\u001b[38;5;28mlen\u001b[39m(rows)), columns=\u001b[38;5;28mself\u001b[39m.columns  \u001b[38;5;66;03m# type: ignore[arg-type]\u001b[39;00m\n\u001b[32m    206\u001b[39m     )\n",
      "\u001b[36mFile \u001b[39m\u001b[32m/usr/local/lib/python3.12/site-packages/pyspark/sql/dataframe.py:1263\u001b[39m, in \u001b[36mDataFrame.collect\u001b[39m\u001b[34m(self)\u001b[39m\n\u001b[32m   1243\u001b[39m \u001b[38;5;250m\u001b[39m\u001b[33;03m\"\"\"Returns all the records as a list of :class:`Row`.\u001b[39;00m\n\u001b[32m   1244\u001b[39m \n\u001b[32m   1245\u001b[39m \u001b[33;03m.. versionadded:: 1.3.0\u001b[39;00m\n\u001b[32m   (...)\u001b[39m\u001b[32m   1260\u001b[39m \u001b[33;03m[Row(age=14, name='Tom'), Row(age=23, name='Alice'), Row(age=16, name='Bob')]\u001b[39;00m\n\u001b[32m   1261\u001b[39m \u001b[33;03m\"\"\"\u001b[39;00m\n\u001b[32m   1262\u001b[39m \u001b[38;5;28;01mwith\u001b[39;00m SCCallSiteSync(\u001b[38;5;28mself\u001b[39m._sc):\n\u001b[32m-> \u001b[39m\u001b[32m1263\u001b[39m     sock_info = \u001b[38;5;28;43mself\u001b[39;49m\u001b[43m.\u001b[49m\u001b[43m_jdf\u001b[49m\u001b[43m.\u001b[49m\u001b[43mcollectToPython\u001b[49m\u001b[43m(\u001b[49m\u001b[43m)\u001b[49m\n\u001b[32m   1264\u001b[39m \u001b[38;5;28;01mreturn\u001b[39;00m \u001b[38;5;28mlist\u001b[39m(_load_from_socket(sock_info, BatchedSerializer(CPickleSerializer())))\n",
      "\u001b[36mFile \u001b[39m\u001b[32m/usr/local/lib/python3.12/site-packages/py4j/java_gateway.py:1321\u001b[39m, in \u001b[36mJavaMember.__call__\u001b[39m\u001b[34m(self, *args)\u001b[39m\n\u001b[32m   1314\u001b[39m args_command, temp_args = \u001b[38;5;28mself\u001b[39m._build_args(*args)\n\u001b[32m   1316\u001b[39m command = proto.CALL_COMMAND_NAME +\\\n\u001b[32m   1317\u001b[39m     \u001b[38;5;28mself\u001b[39m.command_header +\\\n\u001b[32m   1318\u001b[39m     args_command +\\\n\u001b[32m   1319\u001b[39m     proto.END_COMMAND_PART\n\u001b[32m-> \u001b[39m\u001b[32m1321\u001b[39m answer = \u001b[38;5;28;43mself\u001b[39;49m\u001b[43m.\u001b[49m\u001b[43mgateway_client\u001b[49m\u001b[43m.\u001b[49m\u001b[43msend_command\u001b[49m\u001b[43m(\u001b[49m\u001b[43mcommand\u001b[49m\u001b[43m)\u001b[49m\n\u001b[32m   1322\u001b[39m return_value = get_return_value(\n\u001b[32m   1323\u001b[39m     answer, \u001b[38;5;28mself\u001b[39m.gateway_client, \u001b[38;5;28mself\u001b[39m.target_id, \u001b[38;5;28mself\u001b[39m.name)\n\u001b[32m   1325\u001b[39m \u001b[38;5;28;01mfor\u001b[39;00m temp_arg \u001b[38;5;129;01min\u001b[39;00m temp_args:\n",
      "\u001b[36mFile \u001b[39m\u001b[32m/usr/local/lib/python3.12/site-packages/py4j/java_gateway.py:1038\u001b[39m, in \u001b[36mGatewayClient.send_command\u001b[39m\u001b[34m(self, command, retry, binary)\u001b[39m\n\u001b[32m   1036\u001b[39m connection = \u001b[38;5;28mself\u001b[39m._get_connection()\n\u001b[32m   1037\u001b[39m \u001b[38;5;28;01mtry\u001b[39;00m:\n\u001b[32m-> \u001b[39m\u001b[32m1038\u001b[39m     response = \u001b[43mconnection\u001b[49m\u001b[43m.\u001b[49m\u001b[43msend_command\u001b[49m\u001b[43m(\u001b[49m\u001b[43mcommand\u001b[49m\u001b[43m)\u001b[49m\n\u001b[32m   1039\u001b[39m     \u001b[38;5;28;01mif\u001b[39;00m binary:\n\u001b[32m   1040\u001b[39m         \u001b[38;5;28;01mreturn\u001b[39;00m response, \u001b[38;5;28mself\u001b[39m._create_connection_guard(connection)\n",
      "\u001b[36mFile \u001b[39m\u001b[32m/usr/local/lib/python3.12/site-packages/py4j/clientserver.py:511\u001b[39m, in \u001b[36mClientServerConnection.send_command\u001b[39m\u001b[34m(self, command)\u001b[39m\n\u001b[32m    509\u001b[39m \u001b[38;5;28;01mtry\u001b[39;00m:\n\u001b[32m    510\u001b[39m     \u001b[38;5;28;01mwhile\u001b[39;00m \u001b[38;5;28;01mTrue\u001b[39;00m:\n\u001b[32m--> \u001b[39m\u001b[32m511\u001b[39m         answer = smart_decode(\u001b[38;5;28;43mself\u001b[39;49m\u001b[43m.\u001b[49m\u001b[43mstream\u001b[49m\u001b[43m.\u001b[49m\u001b[43mreadline\u001b[49m\u001b[43m(\u001b[49m\u001b[43m)\u001b[49m[:-\u001b[32m1\u001b[39m])\n\u001b[32m    512\u001b[39m         logger.debug(\u001b[33m\"\u001b[39m\u001b[33mAnswer received: \u001b[39m\u001b[38;5;132;01m{0}\u001b[39;00m\u001b[33m\"\u001b[39m.format(answer))\n\u001b[32m    513\u001b[39m         \u001b[38;5;66;03m# Happens when a the other end is dead. There might be an empty\u001b[39;00m\n\u001b[32m    514\u001b[39m         \u001b[38;5;66;03m# answer before the socket raises an error.\u001b[39;00m\n",
      "\u001b[36mFile \u001b[39m\u001b[32m/usr/local/lib/python3.12/socket.py:720\u001b[39m, in \u001b[36mSocketIO.readinto\u001b[39m\u001b[34m(self, b)\u001b[39m\n\u001b[32m    718\u001b[39m \u001b[38;5;28;01mwhile\u001b[39;00m \u001b[38;5;28;01mTrue\u001b[39;00m:\n\u001b[32m    719\u001b[39m     \u001b[38;5;28;01mtry\u001b[39;00m:\n\u001b[32m--> \u001b[39m\u001b[32m720\u001b[39m         \u001b[38;5;28;01mreturn\u001b[39;00m \u001b[38;5;28;43mself\u001b[39;49m\u001b[43m.\u001b[49m\u001b[43m_sock\u001b[49m\u001b[43m.\u001b[49m\u001b[43mrecv_into\u001b[49m\u001b[43m(\u001b[49m\u001b[43mb\u001b[49m\u001b[43m)\u001b[49m\n\u001b[32m    721\u001b[39m     \u001b[38;5;28;01mexcept\u001b[39;00m timeout:\n\u001b[32m    722\u001b[39m         \u001b[38;5;28mself\u001b[39m._timeout_occurred = \u001b[38;5;28;01mTrue\u001b[39;00m\n",
      "\u001b[31mKeyboardInterrupt\u001b[39m: "
     ]
    }
   ],
   "source": [
    "# inspect output\n",
    "utils.data_processing_bronze_table.process_bronze_table(\"data/lms_loan_daily.csv\",bronze_lms_directory, spark)\n",
    "utils.data_processing_bronze_table.process_bronze_table(\"data/feature_clickstream.csv\",bronze_clickstream_directory, spark)\n",
    "utils.data_processing_bronze_table.process_bronze_table(\"data/features_attributes.csv\",bronze_attr_directory, spark)\n",
    "utils.data_processing_bronze_table.process_bronze_table(\"data/features_financials.csv\",bronze_fin_directory, spark)"
   ]
  },
  {
   "cell_type": "markdown",
   "id": "d767bf08-b027-43bd-a695-43b5217fd756",
   "metadata": {},
   "source": [
    "## Build Silver Table"
   ]
  },
  {
   "cell_type": "code",
   "execution_count": 82,
   "id": "81fd1733-5963-4536-987b-528e045dba71",
   "metadata": {},
   "outputs": [
    {
     "name": "stdout",
     "output_type": "stream",
     "text": [
      "Created directory (if missing): datamart/silver/loan_daily/\n",
      "Created directory (if missing): datamart/silver/fin/\n",
      "Created directory (if missing): datamart/silver/attributes/\n"
     ]
    }
   ],
   "source": [
    "# create bronze datalake\n",
    "silver_loan_daily_directory = \"datamart/silver/loan_daily/\"\n",
    "silver_fin_directory = \"datamart/silver/fin/\"\n",
    "silver_attr_directory = \"datamart/silver/attributes/\"\n",
    "\n",
    "for directory in [\n",
    "    silver_loan_daily_directory,\n",
    "    silver_fin_directory,\n",
    "    silver_attr_directory\n",
    "]:\n",
    "    os.makedirs(directory, exist_ok=True)\n",
    "    print(f\"Created directory (if missing): {directory}\")"
   ]
  },
  {
   "cell_type": "code",
   "execution_count": 83,
   "id": "5ccd38ec-e3f9-4c4e-8128-09b521f0f1b4",
   "metadata": {},
   "outputs": [
    {
     "name": "stdout",
     "output_type": "stream",
     "text": [
      "[SILVER/LMS] Found 35 bronze LMS partitions...\n"
     ]
    },
    {
     "name": "stderr",
     "output_type": "stream",
     "text": [
      "Exception in thread \"serve-DataFrame\" java.net.SocketTimeoutException: Accept timed out\n",
      "\tat java.base/sun.nio.ch.NioSocketImpl.timedAccept(NioSocketImpl.java:713)\n",
      "\tat java.base/sun.nio.ch.NioSocketImpl.accept(NioSocketImpl.java:757)\n",
      "\tat java.base/java.net.ServerSocket.implAccept(ServerSocket.java:675)\n",
      "\tat java.base/java.net.ServerSocket.platformImplAccept(ServerSocket.java:641)\n",
      "\tat java.base/java.net.ServerSocket.implAccept(ServerSocket.java:617)\n",
      "\tat java.base/java.net.ServerSocket.implAccept(ServerSocket.java:574)\n",
      "\tat java.base/java.net.ServerSocket.accept(ServerSocket.java:532)\n",
      "\tat org.apache.spark.security.SocketAuthServer$$anon$1.run(SocketAuthServer.scala:65)\n"
     ]
    },
    {
     "name": "stdout",
     "output_type": "stream",
     "text": [
      "[SILVER/LMS] Finished writing to datamart/silver/loan_daily/\n",
      "[SILVER/ATTR] Found 25 bronze attribute partitions...\n",
      "[SILVER/ATTR] Finished writing to datamart/silver/attributes/\n",
      "[SILVER/FIN] Found 25 bronze FIN partitions...\n",
      "[SILVER/FIN] Finished writing to datamart/silver/fin/\n"
     ]
    },
    {
     "data": {
      "text/plain": [
       "True"
      ]
     },
     "execution_count": 83,
     "metadata": {},
     "output_type": "execute_result"
    }
   ],
   "source": [
    "utils.data_processing_silver_table.process_silver_table_lms(bronze_lms_directory, silver_loan_daily_directory, spark)\n",
    "utils.data_processing_silver_table.process_silver_table_attr(bronze_attr_directory, silver_attr_directory, spark)\n",
    "utils.data_processing_silver_table.process_silver_table_fin(bronze_fin_directory, silver_fin_directory, spark)"
   ]
  },
  {
   "cell_type": "code",
   "execution_count": 93,
   "id": "08a8b6e0-1b7a-4b67-b334-f8c89ac4aeb6",
   "metadata": {},
   "outputs": [
    {
     "name": "stdout",
     "output_type": "stream",
     "text": [
      "=== Silver Financial Table ===\n",
      "root\n",
      " |-- Customer_ID: string (nullable = true)\n",
      " |-- Annual_Income: float (nullable = true)\n",
      " |-- Monthly_Inhand_Salary: float (nullable = true)\n",
      " |-- Num_Bank_Accounts: float (nullable = true)\n",
      " |-- Num_Credit_Card: float (nullable = true)\n",
      " |-- Interest_Rate: float (nullable = true)\n",
      " |-- Num_of_Loan: float (nullable = true)\n",
      " |-- Type_of_Loan: string (nullable = true)\n",
      " |-- Delay_from_due_date: float (nullable = true)\n",
      " |-- Num_of_Delayed_Payment: float (nullable = true)\n",
      " |-- Changed_Credit_Limit: float (nullable = true)\n",
      " |-- Num_Credit_Inquiries: float (nullable = true)\n",
      " |-- Credit_Mix: string (nullable = true)\n",
      " |-- Outstanding_Debt: float (nullable = true)\n",
      " |-- Credit_Utilization_Ratio: float (nullable = true)\n",
      " |-- Payment_of_Min_Amount: string (nullable = true)\n",
      " |-- Total_EMI_per_month: float (nullable = true)\n",
      " |-- Amount_invested_monthly: float (nullable = true)\n",
      " |-- Payment_Behaviour: string (nullable = true)\n",
      " |-- Monthly_Balance: float (nullable = true)\n",
      " |-- snapshot_date: date (nullable = true)\n",
      " |-- Credit_History_Age: integer (nullable = true)\n",
      "\n",
      "+-----------+-------------+---------------------+-----------------+---------------+-------------+-----------+-------------------------------------------------------------------------------------------------------------------------------------------+-------------------+----------------------+--------------------+--------------------+----------+----------------+------------------------+---------------------+-------------------+-----------------------+--------------------------------+---------------+-------------+------------------+\n",
      "|Customer_ID|Annual_Income|Monthly_Inhand_Salary|Num_Bank_Accounts|Num_Credit_Card|Interest_Rate|Num_of_Loan|Type_of_Loan                                                                                                                               |Delay_from_due_date|Num_of_Delayed_Payment|Changed_Credit_Limit|Num_Credit_Inquiries|Credit_Mix|Outstanding_Debt|Credit_Utilization_Ratio|Payment_of_Min_Amount|Total_EMI_per_month|Amount_invested_monthly|Payment_Behaviour               |Monthly_Balance|snapshot_date|Credit_History_Age|\n",
      "+-----------+-------------+---------------------+-----------------+---------------+-------------+-----------+-------------------------------------------------------------------------------------------------------------------------------------------+-------------------+----------------------+--------------------+--------------------+----------+----------------+------------------------+---------------------+-------------------+-----------------------+--------------------------------+---------------+-------------+------------------+\n",
      "|CUS_0x1037 |15989.085    |1086.4237            |5.0              |4.0            |2.0          |4.0        |Credit-Builder Loan, Auto Loan, Auto Loan, and Mortgage Loan                                                                               |13.0               |15.0                  |0.5                 |3.0                 |Good      |665.82          |40.6977                 |No                   |33.79702           |80.46524               |Low_spent_Small_value_payments  |284.38013      |2023-01-01   |237               |\n",
      "|CUS_0x1069 |58637.34     |4799.445             |4.0              |6.0            |10.0         |NULL       |Personal Loan, Auto Loan, and Not Specified                                                                                                |9.0                |17.0                  |12.56               |5.0                 |Standard  |208.8           |25.233143               |Yes                  |139.88501          |165.21062              |High_spent_Small_value_payments |434.84888      |2023-01-01   |368               |\n",
      "|CUS_0x114a |15305.46     |1230.455             |0.0              |7.0            |2.0          |2.0        |Student Loan, and Home Equity Loan                                                                                                         |14.0               |2.0                   |15.95               |0.0                 |Good      |642.42          |27.525112               |No                   |20.301655          |64.77848               |Low_spent_Small_value_payments  |327.96536      |2023-01-01   |189               |\n",
      "|CUS_0x1184 |19867.475    |1396.6229            |3.0              |5.0            |11.0         |3.0        |Student Loan, Mortgage Loan, and Payday Loan                                                                                               |10.0               |9.0                   |6.74                |4.0                 |Good      |707.29          |26.68979                |No                   |42.60688           |23.460943              |Unknown                         |313.59445      |2023-01-01   |392               |\n",
      "|CUS_0x1297 |57738.06     |4881.505             |9.0              |8.0            |30.0         |9.0        |Payday Loan, Personal Loan, Payday Loan, Personal Loan, Mortgage Loan, Home Equity Loan, Student Loan, Credit-Builder Loan, and Payday Loan|NULL               |24.0                  |14.27               |11.0                |Bad       |NULL            |25.742142               |Yes                  |296.28415          |53.82118               |High_spent_Medium_value_payments|388.0452       |2023-01-01   |164               |\n",
      "+-----------+-------------+---------------------+-----------------+---------------+-------------+-----------+-------------------------------------------------------------------------------------------------------------------------------------------+-------------------+----------------------+--------------------+--------------------+----------+----------------+------------------------+---------------------+-------------------+-----------------------+--------------------------------+---------------+-------------+------------------+\n",
      "only showing top 5 rows\n",
      "\n",
      "\n",
      "=== Silver Attribute Table ===\n",
      "root\n",
      " |-- Customer_ID: string (nullable = true)\n",
      " |-- Name: string (nullable = true)\n",
      " |-- Age: integer (nullable = true)\n",
      " |-- SSN: string (nullable = true)\n",
      " |-- Occupation: string (nullable = true)\n",
      " |-- snapshot_date: date (nullable = true)\n",
      "\n",
      "+-----------+---------------+---+-----------+----------+-------------+\n",
      "|Customer_ID|Name           |Age|SSN        |Occupation|snapshot_date|\n",
      "+-----------+---------------+---+-----------+----------+-------------+\n",
      "|CUS_0x1037 |Matthewm       |45 |230-22-9583|Accountant|2023-01-01   |\n",
      "|CUS_0x1069 |Andreas Cremero|32 |761-27-5143|Accountant|2023-01-01   |\n",
      "|CUS_0x114a |Valetkevitchu  |43 |133-89-5234|Developer |2023-01-01   |\n",
      "|CUS_0x1184 |Cohenq         |49 |963-76-2464|Lawyer    |2023-01-01   |\n",
      "|CUS_0x1297 |Edwardsz       |46 |000-00-0000|Manager   |2023-01-01   |\n",
      "+-----------+---------------+---+-----------+----------+-------------+\n",
      "only showing top 5 rows\n",
      "\n",
      "\n",
      "=== Silver Loan Daily Table ===\n",
      "root\n",
      " |-- loan_id: string (nullable = true)\n",
      " |-- Customer_ID: string (nullable = true)\n",
      " |-- loan_start_date: date (nullable = true)\n",
      " |-- tenure: integer (nullable = true)\n",
      " |-- installment_num: integer (nullable = true)\n",
      " |-- loan_amt: float (nullable = true)\n",
      " |-- due_amt: float (nullable = true)\n",
      " |-- paid_amt: float (nullable = true)\n",
      " |-- overdue_amt: float (nullable = true)\n",
      " |-- balance: float (nullable = true)\n",
      " |-- snapshot_date: date (nullable = true)\n",
      " |-- mob: integer (nullable = true)\n",
      " |-- installments_missed: integer (nullable = true)\n",
      " |-- first_missed_date: date (nullable = true)\n",
      " |-- dpd: integer (nullable = true)\n",
      "\n",
      "+---------------------+-----------+---------------+------+---------------+--------+-------+--------+-----------+-------+-------------+---+-------------------+-----------------+---+\n",
      "|loan_id              |Customer_ID|loan_start_date|tenure|installment_num|loan_amt|due_amt|paid_amt|overdue_amt|balance|snapshot_date|mob|installments_missed|first_missed_date|dpd|\n",
      "+---------------------+-----------+---------------+------+---------------+--------+-------+--------+-----------+-------+-------------+---+-------------------+-----------------+---+\n",
      "|CUS_0x1037_2023_01_01|CUS_0x1037 |2023-01-01     |10    |0              |10000.0 |0.0    |0.0     |0.0        |10000.0|2023-01-01   |0  |0                  |NULL             |0  |\n",
      "|CUS_0x1069_2023_01_01|CUS_0x1069 |2023-01-01     |10    |0              |10000.0 |0.0    |0.0     |0.0        |10000.0|2023-01-01   |0  |0                  |NULL             |0  |\n",
      "|CUS_0x114a_2023_01_01|CUS_0x114a |2023-01-01     |10    |0              |10000.0 |0.0    |0.0     |0.0        |10000.0|2023-01-01   |0  |0                  |NULL             |0  |\n",
      "|CUS_0x1184_2023_01_01|CUS_0x1184 |2023-01-01     |10    |0              |10000.0 |0.0    |0.0     |0.0        |10000.0|2023-01-01   |0  |0                  |NULL             |0  |\n",
      "|CUS_0x1297_2023_01_01|CUS_0x1297 |2023-01-01     |10    |0              |10000.0 |0.0    |0.0     |0.0        |10000.0|2023-01-01   |0  |0                  |NULL             |0  |\n",
      "+---------------------+-----------+---------------+------+---------------+--------+-------+--------+-----------+-------+-------------+---+-------------------+-----------------+---+\n",
      "only showing top 5 rows\n",
      "\n"
     ]
    }
   ],
   "source": [
    "# --- Financial Table ---\n",
    "print(\"=== Silver Financial Table ===\")\n",
    "df_fin = spark.read.parquet(\"datamart/silver/fin/silver_fin_2023_01_01.parquet\")\n",
    "df_fin.printSchema()\n",
    "df_fin.show(5, truncate=False)\n",
    "\n",
    "# --- Attribute Table ---\n",
    "print(\"\\n=== Silver Attribute Table ===\")\n",
    "df_attr = spark.read.parquet(\"datamart/silver/attributes/silver_attr_2023_01_01.parquet\")\n",
    "df_attr.printSchema()\n",
    "df_attr.show(5, truncate=False)\n",
    "\n",
    "# --- Loan Daily Table ---\n",
    "print(\"\\n=== Silver Loan Daily Table ===\")\n",
    "df_lms = spark.read.parquet(\"datamart/silver/loan_daily/silver_loan_daily_2023_01_01.parquet\")\n",
    "df_lms.printSchema()\n",
    "df_lms.show(5, truncate=False)\n"
   ]
  },
  {
   "cell_type": "markdown",
   "id": "86f9b5fe-a68c-4aa5-8c3e-8c0f59b654a6",
   "metadata": {},
   "source": [
    "## EDA on credit labels"
   ]
  },
  {
   "cell_type": "code",
   "execution_count": 97,
   "id": "608e1387-c2d4-4b41-b5aa-425ad6376e5c",
   "metadata": {},
   "outputs": [
    {
     "data": {
      "image/png": "[encoded data removed]",
      "text/plain": [
       "<Figure size 640x480 with 1 Axes>"
      ]
     },
     "metadata": {},
     "output_type": "display_data"
    }
   ],
   "source": [
    "# set dpd label definition\n",
    "dpd = 30\n",
    "\n",
    "# Path to the folder containing CSV files\n",
    "folder_path = silver_loan_daily_directory\n",
    "\n",
    "# Read all CSV files into a single DataFrame\n",
    "files_list = [folder_path+os.path.basename(f) for f in glob.glob(os.path.join(folder_path, '*'))]\n",
    "df = spark.read.option(\"header\", \"true\").parquet(*files_list)\n",
    "\n",
    "# filter only completed loans\n",
    "df = df.filter(col(\"loan_start_date\") < datetime.strptime(\"2024-01-01\", \"%Y-%m-%d\"))\n",
    "\n",
    "# create dpd flag if more than dpd\n",
    "df = df.withColumn(\"dpd_flag\", F.when(col(\"dpd\") >= dpd, 1).otherwise(0))\n",
    "\n",
    "# actual bads \n",
    "actual_bads_df = df.filter(col(\"installment_num\") == 10)\n",
    "\n",
    "# prepare for analysis\n",
    "# df = df.filter(col(\"installment_num\") < 10)\n",
    "\n",
    "# visualise bad rate\n",
    "pdf = df.toPandas()\n",
    "\n",
    "# Group by col_A and count occurrences in col_B\n",
    "grouped = pdf.groupby('mob')['dpd_flag'].mean()\n",
    "\n",
    "# Sort the index (x-axis) of the grouped DataFrame\n",
    "grouped = grouped.sort_index()\n",
    "\n",
    "# Plotting\n",
    "grouped.plot(kind='line', marker='o')\n",
    "\n",
    "plt.title('DPD: '+ str(dpd))\n",
    "plt.xlabel('mob')\n",
    "plt.ylabel('bad rate')\n",
    "plt.grid(True)\n",
    "plt.show()\n"
   ]
  },
  {
   "cell_type": "code",
   "execution_count": 12,
   "id": "b200137d-ca20-42b9-a3df-0b662024a899",
   "metadata": {},
   "outputs": [
    {
     "name": "stdout",
     "output_type": "stream",
     "text": [
      "+--------------------+-----------+---------------+------+---------------+--------+-------+--------+-----------+-------+-------------+---+-------------------+-----------------+---+--------+\n",
      "|             loan_id|Customer_ID|loan_start_date|tenure|installment_num|loan_amt|due_amt|paid_amt|overdue_amt|balance|snapshot_date|mob|installments_missed|first_missed_date|dpd|dpd_flag|\n",
      "+--------------------+-----------+---------------+------+---------------+--------+-------+--------+-----------+-------+-------------+---+-------------------+-----------------+---+--------+\n",
      "|CUS_0x1011_2023_1...| CUS_0x1011|     2023-11-01|    10|             10| 10000.0| 1000.0|  1000.0|        0.0|    0.0|   2024-09-01| 10|                  0|             NULL|  0|       0|\n",
      "|CUS_0x1013_2023_1...| CUS_0x1013|     2023-12-01|    10|              9| 10000.0| 1000.0|  1000.0|        0.0| 1000.0|   2024-09-01|  9|                  0|             NULL|  0|       0|\n",
      "|CUS_0x1018_2023_1...| CUS_0x1018|     2023-11-01|    10|             10| 10000.0| 1000.0|     0.0|     7000.0| 7000.0|   2024-09-01| 10|                  7|       2024-02-01|213|       1|\n",
      "|CUS_0x1041_2023_1...| CUS_0x1041|     2023-11-01|    10|             10| 10000.0| 1000.0|  1000.0|        0.0|    0.0|   2024-09-01| 10|                  0|             NULL|  0|       0|\n",
      "|CUS_0x104a_2023_1...| CUS_0x104a|     2023-12-01|    10|              9| 10000.0| 1000.0|  1000.0|        0.0| 1000.0|   2024-09-01|  9|                  0|             NULL|  0|       0|\n",
      "|CUS_0x105b_2023_1...| CUS_0x105b|     2023-11-01|    10|             10| 10000.0| 1000.0|  1000.0|        0.0|    0.0|   2024-09-01| 10|                  0|             NULL|  0|       0|\n",
      "|CUS_0x1063_2023_1...| CUS_0x1063|     2023-12-01|    10|              9| 10000.0| 1000.0|  1000.0|        0.0| 1000.0|   2024-09-01|  9|                  0|             NULL|  0|       0|\n",
      "|CUS_0x107c_2023_1...| CUS_0x107c|     2023-11-01|    10|             10| 10000.0| 1000.0|  1000.0|        0.0|    0.0|   2024-09-01| 10|                  0|             NULL|  0|       0|\n",
      "|CUS_0x10d7_2023_1...| CUS_0x10d7|     2023-12-01|    10|              9| 10000.0| 1000.0|     0.0|     6000.0| 7000.0|   2024-09-01|  9|                  6|       2024-03-01|184|       1|\n",
      "|CUS_0x10fd_2023_1...| CUS_0x10fd|     2023-12-01|    10|              9| 10000.0| 1000.0|     0.0|     6000.0| 7000.0|   2024-09-01|  9|                  6|       2024-03-01|184|       1|\n",
      "|CUS_0x1107_2023_1...| CUS_0x1107|     2023-11-01|    10|             10| 10000.0| 1000.0|     0.0|    10000.0|10000.0|   2024-09-01| 10|                 10|       2023-11-01|305|       1|\n",
      "|CUS_0x1139_2023_1...| CUS_0x1139|     2023-12-01|    10|              9| 10000.0| 1000.0|  1000.0|        0.0| 1000.0|   2024-09-01|  9|                  0|             NULL|  0|       0|\n",
      "|CUS_0x117f_2023_1...| CUS_0x117f|     2023-11-01|    10|             10| 10000.0| 1000.0|  1000.0|        0.0|    0.0|   2024-09-01| 10|                  0|             NULL|  0|       0|\n",
      "|CUS_0x11a4_2023_1...| CUS_0x11a4|     2023-11-01|    10|             10| 10000.0| 1000.0|     0.0|     8000.0| 8000.0|   2024-09-01| 10|                  8|       2024-01-01|244|       1|\n",
      "|CUS_0x1207_2023_1...| CUS_0x1207|     2023-12-01|    10|              9| 10000.0| 1000.0|     0.0|     6000.0| 7000.0|   2024-09-01|  9|                  6|       2024-03-01|184|       1|\n",
      "|CUS_0x123d_2023_1...| CUS_0x123d|     2023-11-01|    10|             10| 10000.0| 1000.0|     0.0|     8000.0| 8000.0|   2024-09-01| 10|                  8|       2024-01-01|244|       1|\n",
      "|CUS_0x1250_2023_1...| CUS_0x1250|     2023-12-01|    10|              9| 10000.0| 1000.0|  1000.0|        0.0| 1000.0|   2024-09-01|  9|                  0|             NULL|  0|       0|\n",
      "|CUS_0x1281_2023_1...| CUS_0x1281|     2023-11-01|    10|             10| 10000.0| 1000.0|     0.0|     7000.0| 7000.0|   2024-09-01| 10|                  7|       2024-02-01|213|       1|\n",
      "|CUS_0x12f2_2023_1...| CUS_0x12f2|     2023-12-01|    10|              9| 10000.0| 1000.0|     0.0|     5000.0| 6000.0|   2024-09-01|  9|                  5|       2024-04-01|153|       1|\n",
      "|CUS_0x12fa_2023_1...| CUS_0x12fa|     2023-11-01|    10|             10| 10000.0| 1000.0|  1000.0|        0.0|    0.0|   2024-09-01| 10|                  0|             NULL|  0|       0|\n",
      "+--------------------+-----------+---------------+------+---------------+--------+-------+--------+-----------+-------+-------------+---+-------------------+-----------------+---+--------+\n",
      "only showing top 20 rows\n",
      "\n"
     ]
    }
   ],
   "source": [
    "df.show()"
   ]
  },
  {
   "cell_type": "markdown",
   "id": "fa5a6b17-8978-405a-8b04-6c6f4c7a3e52",
   "metadata": {},
   "source": [
    "## Build gold table for labels"
   ]
  },
  {
   "cell_type": "code",
   "execution_count": 13,
   "id": "7b4fca41-8b52-47e9-bf40-b063a0d7c62e",
   "metadata": {},
   "outputs": [],
   "source": [
    "# create bronze datalake\n",
    "gold_label_store_directory = \"datamart/gold/label_store/\"\n",
    "\n",
    "if not os.path.exists(gold_label_store_directory):\n",
    "    os.makedirs(gold_label_store_directory)"
   ]
  },
  {
   "cell_type": "code",
   "execution_count": 14,
   "id": "8a7874eb-aa70-4cd4-81ca-1e955e788b44",
   "metadata": {},
   "outputs": [
    {
     "name": "stdout",
     "output_type": "stream",
     "text": [
      "loaded from: datamart/silver/loan_daily/silver_loan_daily_2023_01_01.parquet row count: 530\n",
      "saved to: datamart/gold/label_store/gold_label_store_2023_01_01.parquet\n",
      "loaded from: datamart/silver/loan_daily/silver_loan_daily_2023_02_01.parquet row count: 1031\n",
      "saved to: datamart/gold/label_store/gold_label_store_2023_02_01.parquet\n",
      "loaded from: datamart/silver/loan_daily/silver_loan_daily_2023_03_01.parquet row count: 1537\n",
      "saved to: datamart/gold/label_store/gold_label_store_2023_03_01.parquet\n",
      "loaded from: datamart/silver/loan_daily/silver_loan_daily_2023_04_01.parquet row count: 2047\n",
      "saved to: datamart/gold/label_store/gold_label_store_2023_04_01.parquet\n",
      "loaded from: datamart/silver/loan_daily/silver_loan_daily_2023_05_01.parquet row count: 2568\n",
      "saved to: datamart/gold/label_store/gold_label_store_2023_05_01.parquet\n",
      "loaded from: datamart/silver/loan_daily/silver_loan_daily_2023_06_01.parquet row count: 3085\n",
      "saved to: datamart/gold/label_store/gold_label_store_2023_06_01.parquet\n",
      "loaded from: datamart/silver/loan_daily/silver_loan_daily_2023_07_01.parquet row count: 3556\n",
      "saved to: datamart/gold/label_store/gold_label_store_2023_07_01.parquet\n",
      "loaded from: datamart/silver/loan_daily/silver_loan_daily_2023_08_01.parquet row count: 4037\n",
      "saved to: datamart/gold/label_store/gold_label_store_2023_08_01.parquet\n",
      "loaded from: datamart/silver/loan_daily/silver_loan_daily_2023_09_01.parquet row count: 4491\n",
      "saved to: datamart/gold/label_store/gold_label_store_2023_09_01.parquet\n",
      "loaded from: datamart/silver/loan_daily/silver_loan_daily_2023_10_01.parquet row count: 4978\n",
      "saved to: datamart/gold/label_store/gold_label_store_2023_10_01.parquet\n",
      "loaded from: datamart/silver/loan_daily/silver_loan_daily_2023_11_01.parquet row count: 5469\n",
      "saved to: datamart/gold/label_store/gold_label_store_2023_11_01.parquet\n",
      "loaded from: datamart/silver/loan_daily/silver_loan_daily_2023_12_01.parquet row count: 5428\n",
      "saved to: datamart/gold/label_store/gold_label_store_2023_12_01.parquet\n",
      "loaded from: datamart/silver/loan_daily/silver_loan_daily_2024_01_01.parquet row count: 5412\n",
      "saved to: datamart/gold/label_store/gold_label_store_2024_01_01.parquet\n",
      "loaded from: datamart/silver/loan_daily/silver_loan_daily_2024_02_01.parquet row count: 5424\n",
      "saved to: datamart/gold/label_store/gold_label_store_2024_02_01.parquet\n",
      "loaded from: datamart/silver/loan_daily/silver_loan_daily_2024_03_01.parquet row count: 5425\n",
      "saved to: datamart/gold/label_store/gold_label_store_2024_03_01.parquet\n",
      "loaded from: datamart/silver/loan_daily/silver_loan_daily_2024_04_01.parquet row count: 5417\n",
      "saved to: datamart/gold/label_store/gold_label_store_2024_04_01.parquet\n",
      "loaded from: datamart/silver/loan_daily/silver_loan_daily_2024_05_01.parquet row count: 5391\n",
      "saved to: datamart/gold/label_store/gold_label_store_2024_05_01.parquet\n",
      "loaded from: datamart/silver/loan_daily/silver_loan_daily_2024_06_01.parquet row count: 5418\n",
      "saved to: datamart/gold/label_store/gold_label_store_2024_06_01.parquet\n",
      "loaded from: datamart/silver/loan_daily/silver_loan_daily_2024_07_01.parquet row count: 5442\n",
      "saved to: datamart/gold/label_store/gold_label_store_2024_07_01.parquet\n",
      "loaded from: datamart/silver/loan_daily/silver_loan_daily_2024_08_01.parquet row count: 5531\n",
      "saved to: datamart/gold/label_store/gold_label_store_2024_08_01.parquet\n",
      "loaded from: datamart/silver/loan_daily/silver_loan_daily_2024_09_01.parquet row count: 5537\n",
      "saved to: datamart/gold/label_store/gold_label_store_2024_09_01.parquet\n",
      "loaded from: datamart/silver/loan_daily/silver_loan_daily_2024_10_01.parquet row count: 5502\n",
      "saved to: datamart/gold/label_store/gold_label_store_2024_10_01.parquet\n",
      "loaded from: datamart/silver/loan_daily/silver_loan_daily_2024_11_01.parquet row count: 5501\n",
      "saved to: datamart/gold/label_store/gold_label_store_2024_11_01.parquet\n",
      "loaded from: datamart/silver/loan_daily/silver_loan_daily_2024_12_01.parquet row count: 5531\n",
      "saved to: datamart/gold/label_store/gold_label_store_2024_12_01.parquet\n"
     ]
    }
   ],
   "source": [
    "# run gold backfill\n",
    "for date_str in dates_str_lst:\n",
    "    utils.data_processing_gold_table.process_labels_gold_table(date_str, silver_loan_daily_directory, gold_label_store_directory, spark, dpd = 30, mob = 6)\n"
   ]
  },
  {
   "cell_type": "code",
   "execution_count": 15,
   "id": "96439e0a-282e-4081-8865-ce9e2779757d",
   "metadata": {},
   "outputs": [
    {
     "name": "stdout",
     "output_type": "stream",
     "text": [
      "loaded from: datamart/silver/loan_daily/silver_loan_daily_2024_12_01.parquet row count: 5531\n",
      "saved to: datamart/gold/label_store/gold_label_store_2024_12_01.parquet\n"
     ]
    },
    {
     "data": {
      "text/plain": [
       "[('loan_id', 'string'),\n",
       " ('Customer_ID', 'string'),\n",
       " ('label', 'int'),\n",
       " ('label_def', 'string'),\n",
       " ('snapshot_date', 'date')]"
      ]
     },
     "execution_count": 15,
     "metadata": {},
     "output_type": "execute_result"
    }
   ],
   "source": [
    "utils.data_processing_gold_table.process_labels_gold_table(date_str, silver_loan_daily_directory, gold_label_store_directory, spark, dpd = 30, mob = 6).dtypes\n"
   ]
  },
  {
   "cell_type": "markdown",
   "id": "70eeb8a3-7737-4556-a85c-e844b47f6454",
   "metadata": {},
   "source": [
    "## inspect label store"
   ]
  },
  {
   "cell_type": "code",
   "execution_count": 16,
   "id": "0abc72e2-90ed-46da-8c6e-599573d54049",
   "metadata": {},
   "outputs": [
    {
     "name": "stdout",
     "output_type": "stream",
     "text": [
      "row_count: 8974\n",
      "+--------------------+-----------+-----+----------+-------------+\n",
      "|             loan_id|Customer_ID|label| label_def|snapshot_date|\n",
      "+--------------------+-----------+-----+----------+-------------+\n",
      "|CUS_0x1037_2023_0...| CUS_0x1037|    0|30dpd_6mob|   2023-07-01|\n",
      "|CUS_0x1069_2023_0...| CUS_0x1069|    0|30dpd_6mob|   2023-07-01|\n",
      "|CUS_0x114a_2023_0...| CUS_0x114a|    0|30dpd_6mob|   2023-07-01|\n",
      "|CUS_0x1184_2023_0...| CUS_0x1184|    0|30dpd_6mob|   2023-07-01|\n",
      "|CUS_0x1297_2023_0...| CUS_0x1297|    1|30dpd_6mob|   2023-07-01|\n",
      "|CUS_0x12fb_2023_0...| CUS_0x12fb|    0|30dpd_6mob|   2023-07-01|\n",
      "|CUS_0x1325_2023_0...| CUS_0x1325|    0|30dpd_6mob|   2023-07-01|\n",
      "|CUS_0x1341_2023_0...| CUS_0x1341|    0|30dpd_6mob|   2023-07-01|\n",
      "|CUS_0x1375_2023_0...| CUS_0x1375|    1|30dpd_6mob|   2023-07-01|\n",
      "|CUS_0x13a8_2023_0...| CUS_0x13a8|    0|30dpd_6mob|   2023-07-01|\n",
      "|CUS_0x13ef_2023_0...| CUS_0x13ef|    0|30dpd_6mob|   2023-07-01|\n",
      "|CUS_0x1440_2023_0...| CUS_0x1440|    0|30dpd_6mob|   2023-07-01|\n",
      "|CUS_0x1443_2023_0...| CUS_0x1443|    0|30dpd_6mob|   2023-07-01|\n",
      "|CUS_0x145a_2023_0...| CUS_0x145a|    0|30dpd_6mob|   2023-07-01|\n",
      "|CUS_0x1492_2023_0...| CUS_0x1492|    0|30dpd_6mob|   2023-07-01|\n",
      "|CUS_0x153d_2023_0...| CUS_0x153d|    0|30dpd_6mob|   2023-07-01|\n",
      "|CUS_0x1567_2023_0...| CUS_0x1567|    0|30dpd_6mob|   2023-07-01|\n",
      "|CUS_0x15ad_2023_0...| CUS_0x15ad|    1|30dpd_6mob|   2023-07-01|\n",
      "|CUS_0x1630_2023_0...| CUS_0x1630|    1|30dpd_6mob|   2023-07-01|\n",
      "|CUS_0x169c_2023_0...| CUS_0x169c|    0|30dpd_6mob|   2023-07-01|\n",
      "+--------------------+-----------+-----+----------+-------------+\n",
      "only showing top 20 rows\n",
      "\n"
     ]
    }
   ],
   "source": [
    "folder_path = gold_label_store_directory\n",
    "files_list = [folder_path+os.path.basename(f) for f in glob.glob(os.path.join(folder_path, '*'))]\n",
    "df = spark.read.option(\"header\", \"true\").parquet(*files_list)\n",
    "print(\"row_count:\",df.count())\n",
    "\n",
    "df.show()"
   ]
  },
  {
   "cell_type": "code",
   "execution_count": 17,
   "id": "bc20833e-9653-4c4c-9ce0-0023cca719b5",
   "metadata": {},
   "outputs": [
    {
     "name": "stdout",
     "output_type": "stream",
     "text": [
      "root\n",
      " |-- loan_id: string (nullable = true)\n",
      " |-- Customer_ID: string (nullable = true)\n",
      " |-- label: integer (nullable = true)\n",
      " |-- label_def: string (nullable = true)\n",
      " |-- snapshot_date: date (nullable = true)\n",
      "\n"
     ]
    }
   ],
   "source": [
    "df.printSchema()"
   ]
  },
  {
   "cell_type": "code",
   "execution_count": null,
   "id": "845dda2a-1659-407d-9e98-df1dbdb3f025",
   "metadata": {},
   "outputs": [],
   "source": []
  }
 ],
 "metadata": {
  "kernelspec": {
   "display_name": "Python 3 (ipykernel)",
   "language": "python",
   "name": "python3"
  },
  "language_info": {
   "codemirror_mode": {
    "name": "ipython",
    "version": 3
   },
   "file_extension": ".py",
   "mimetype": "text/x-python",
   "name": "python",
   "nbconvert_exporter": "python",
   "pygments_lexer": "ipython3",
   "version": "3.12.11"
  }
 },
 "nbformat": 4,
 "nbformat_minor": 5
}
